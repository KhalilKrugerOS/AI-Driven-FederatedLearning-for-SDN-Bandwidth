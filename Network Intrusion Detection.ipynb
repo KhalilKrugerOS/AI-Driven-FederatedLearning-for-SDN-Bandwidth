{
 "cells": [
  {
   "cell_type": "code",
   "execution_count": 4,
   "metadata": {
    "cell_id": "2431af1e159745789367d89b37d32ec7",
    "deepnote_cell_type": "code",
    "execution_context_id": "7f5673bf-8344-43a3-881f-6dc18cb8328f",
    "execution_millis": 6677,
    "execution_start": 1732647126111,
    "source_hash": "1a6997ac"
   },
   "outputs": [
    {
     "name": "stdout",
     "output_type": "stream",
     "text": [
      "Requirement already satisfied: lightgbm in /root/venv/lib/python3.9/site-packages (4.5.0)\n",
      "Requirement already satisfied: numpy>=1.17.0 in /shared-libs/python3.9/py/lib/python3.9/site-packages (from lightgbm) (1.23.4)\n",
      "Requirement already satisfied: scipy in /shared-libs/python3.9/py/lib/python3.9/site-packages (from lightgbm) (1.9.3)\n",
      "\n",
      "\u001b[1m[\u001b[0m\u001b[34;49mnotice\u001b[0m\u001b[1;39;49m]\u001b[0m\u001b[39;49m A new release of pip is available: \u001b[0m\u001b[31;49m23.0.1\u001b[0m\u001b[39;49m -> \u001b[0m\u001b[32;49m24.3.1\u001b[0m\n",
      "\u001b[1m[\u001b[0m\u001b[34;49mnotice\u001b[0m\u001b[1;39;49m]\u001b[0m\u001b[39;49m To update, run: \u001b[0m\u001b[32;49mpip install --upgrade pip\u001b[0m\n",
      "Requirement already satisfied: xgboost in /root/venv/lib/python3.9/site-packages (2.1.3)\n",
      "Requirement already satisfied: nvidia-nccl-cu12 in /root/venv/lib/python3.9/site-packages (from xgboost) (2.23.4)\n",
      "Requirement already satisfied: scipy in /shared-libs/python3.9/py/lib/python3.9/site-packages (from xgboost) (1.9.3)\n",
      "Requirement already satisfied: numpy in /shared-libs/python3.9/py/lib/python3.9/site-packages (from xgboost) (1.23.4)\n",
      "\n",
      "\u001b[1m[\u001b[0m\u001b[34;49mnotice\u001b[0m\u001b[1;39;49m]\u001b[0m\u001b[39;49m A new release of pip is available: \u001b[0m\u001b[31;49m23.0.1\u001b[0m\u001b[39;49m -> \u001b[0m\u001b[32;49m24.3.1\u001b[0m\n",
      "\u001b[1m[\u001b[0m\u001b[34;49mnotice\u001b[0m\u001b[1;39;49m]\u001b[0m\u001b[39;49m To update, run: \u001b[0m\u001b[32;49mpip install --upgrade pip\u001b[0m\n"
     ]
    }
   ],
   "source": [
    "!pip install lightgbm\n",
    "!pip install xgboost"
   ]
  },
  {
   "cell_type": "code",
   "execution_count": null,
   "metadata": {
    "cell_id": "254862a0592340b1869034b7e57ef15d",
    "deepnote_cell_type": "code",
    "execution_context_id": "7f5673bf-8344-43a3-881f-6dc18cb8328f",
    "execution_millis": 0,
    "execution_start": 1732647132836,
    "source_hash": "4619c8f8"
   },
   "outputs": [],
   "source": [
    "import numpy as np\n",
    "import pandas as pd\n",
    "import seaborn as sns\n",
    "import matplotlib.pyplot as plt\n",
    "from pandas.api.types import is_numeric_dtype\n",
    "import warnings\n",
    "from sklearn import tree\n",
    "from sklearn.model_selection import train_test_split\n",
    "from sklearn.neighbors import KNeighborsClassifier\n",
    "from sklearn.linear_model import LogisticRegression\n",
    "from sklearn.preprocessing import StandardScaler, LabelEncoder\n",
    "from sklearn.tree  import DecisionTreeClassifier\n",
    "from sklearn.ensemble import RandomForestClassifier, AdaBoostClassifier, VotingClassifier, GradientBoostingClassifier\n",
    "from sklearn.svm import SVC, LinearSVC\n",
    "from sklearn.naive_bayes import BernoulliNB\n",
    "from lightgbm import LGBMClassifier\n",
    "from sklearn.feature_selection import RFE\n",
    "import itertools\n",
    "from xgboost import XGBClassifier\n",
    "#from tabulate import tabulat"
   ]
  },
  {
   "cell_type": "code",
   "execution_count": 6,
   "metadata": {
    "cell_id": "e98e968fc63046cb8084c6387920c4b4",
    "deepnote_cell_type": "code",
    "execution_context_id": "7f5673bf-8344-43a3-881f-6dc18cb8328f",
    "execution_millis": 455,
    "execution_start": 1732647132888,
    "source_hash": "7e291fb2"
   },
   "outputs": [],
   "source": [
    "train = pd.read_csv('Train_data.csv')\n"
   ]
  },
  {
   "cell_type": "code",
   "execution_count": 7,
   "metadata": {
    "allow_embed": false,
    "cell_id": "85f7a59cc6c2449d9110195cbf9f8d31",
    "deepnote_cell_type": "code",
    "execution_context_id": "7f5673bf-8344-43a3-881f-6dc18cb8328f",
    "execution_millis": 491,
    "execution_start": 1732647133392,
    "source_hash": "9a45f493"
   },
   "outputs": [],
   "source": [
    "test= pd.read_csv('Test_data.csv')"
   ]
  },
  {
   "cell_type": "code",
   "execution_count": 8,
   "metadata": {
    "cell_id": "ebbcfffffe684d7e9ca455dfaed8a53f",
    "deepnote_cell_type": "code",
    "execution_context_id": "7f5673bf-8344-43a3-881f-6dc18cb8328f",
    "execution_millis": 88,
    "execution_start": 1732647133932,
    "source_hash": "e1f0b45"
   },
   "outputs": [
    {
     "data": {
      "application/vnd.deepnote.dataframe.v3+json": {
       "column_count": 42,
       "columns": [
        {
         "dtype": "int64",
         "name": "duration",
         "stats": {
          "histogram": [
           {
            "bin_end": -0.4,
            "bin_start": -0.5,
            "count": 0
           },
           {
            "bin_end": -0.3,
            "bin_start": -0.4,
            "count": 0
           },
           {
            "bin_end": -0.19999999999999996,
            "bin_start": -0.3,
            "count": 0
           },
           {
            "bin_end": -0.09999999999999998,
            "bin_start": -0.19999999999999996,
            "count": 0
           },
           {
            "bin_end": 0,
            "bin_start": -0.09999999999999998,
            "count": 0
           },
           {
            "bin_end": 0.10000000000000009,
            "bin_start": 0,
            "count": 5
           },
           {
            "bin_end": 0.20000000000000007,
            "bin_start": 0.10000000000000009,
            "count": 0
           },
           {
            "bin_end": 0.30000000000000004,
            "bin_start": 0.20000000000000007,
            "count": 0
           },
           {
            "bin_end": 0.4,
            "bin_start": 0.30000000000000004,
            "count": 0
           },
           {
            "bin_end": 0.5,
            "bin_start": 0.4,
            "count": 0
           }
          ],
          "max": "0",
          "min": "0",
          "nan_count": 0,
          "unique_count": 1
         }
        },
        {
         "dtype": "object",
         "name": "protocol_type",
         "stats": {
          "categories": [
           {
            "count": 4,
            "name": "tcp"
           },
           {
            "count": 1,
            "name": "udp"
           }
          ],
          "nan_count": 0,
          "unique_count": 2
         }
        },
        {
         "dtype": "object",
         "name": "service",
         "stats": {
          "categories": [
           {
            "count": 2,
            "name": "http"
           },
           {
            "count": 1,
            "name": "ftp_data"
           },
           {
            "count": 2,
            "name": "2 others"
           }
          ],
          "nan_count": 0,
          "unique_count": 4
         }
        },
        {
         "dtype": "object",
         "name": "flag",
         "stats": {
          "categories": [
           {
            "count": 4,
            "name": "SF"
           },
           {
            "count": 1,
            "name": "S0"
           }
          ],
          "nan_count": 0,
          "unique_count": 2
         }
        },
        {
         "dtype": "int64",
         "name": "src_bytes",
         "stats": {
          "histogram": [
           {
            "bin_end": 49.1,
            "bin_start": 0,
            "count": 1
           },
           {
            "bin_end": 98.2,
            "bin_start": 49.1,
            "count": 0
           },
           {
            "bin_end": 147.3,
            "bin_start": 98.2,
            "count": 1
           },
           {
            "bin_end": 196.4,
            "bin_start": 147.3,
            "count": 0
           },
           {
            "bin_end": 245.5,
            "bin_start": 196.4,
            "count": 2
           },
           {
            "bin_end": 294.6,
            "bin_start": 245.5,
            "count": 0
           },
           {
            "bin_end": 343.7,
            "bin_start": 294.6,
            "count": 0
           },
           {
            "bin_end": 392.8,
            "bin_start": 343.7,
            "count": 0
           },
           {
            "bin_end": 441.90000000000003,
            "bin_start": 392.8,
            "count": 0
           },
           {
            "bin_end": 491,
            "bin_start": 441.90000000000003,
            "count": 1
           }
          ],
          "max": "491",
          "min": "0",
          "nan_count": 0,
          "unique_count": 5
         }
        },
        {
         "dtype": "int64",
         "name": "dst_bytes",
         "stats": {
          "histogram": [
           {
            "bin_end": 815.3,
            "bin_start": 0,
            "count": 4
           },
           {
            "bin_end": 1630.6,
            "bin_start": 815.3,
            "count": 0
           },
           {
            "bin_end": 2445.8999999999996,
            "bin_start": 1630.6,
            "count": 0
           },
           {
            "bin_end": 3261.2,
            "bin_start": 2445.8999999999996,
            "count": 0
           },
           {
            "bin_end": 4076.5,
            "bin_start": 3261.2,
            "count": 0
           },
           {
            "bin_end": 4891.799999999999,
            "bin_start": 4076.5,
            "count": 0
           },
           {
            "bin_end": 5707.099999999999,
            "bin_start": 4891.799999999999,
            "count": 0
           },
           {
            "bin_end": 6522.4,
            "bin_start": 5707.099999999999,
            "count": 0
           },
           {
            "bin_end": 7337.7,
            "bin_start": 6522.4,
            "count": 0
           },
           {
            "bin_end": 8153,
            "bin_start": 7337.7,
            "count": 1
           }
          ],
          "max": "8153",
          "min": "0",
          "nan_count": 0,
          "unique_count": 3
         }
        },
        {
         "dtype": "int64",
         "name": "land",
         "stats": {
          "histogram": [
           {
            "bin_end": -0.4,
            "bin_start": -0.5,
            "count": 0
           },
           {
            "bin_end": -0.3,
            "bin_start": -0.4,
            "count": 0
           },
           {
            "bin_end": -0.19999999999999996,
            "bin_start": -0.3,
            "count": 0
           },
           {
            "bin_end": -0.09999999999999998,
            "bin_start": -0.19999999999999996,
            "count": 0
           },
           {
            "bin_end": 0,
            "bin_start": -0.09999999999999998,
            "count": 0
           },
           {
            "bin_end": 0.10000000000000009,
            "bin_start": 0,
            "count": 5
           },
           {
            "bin_end": 0.20000000000000007,
            "bin_start": 0.10000000000000009,
            "count": 0
           },
           {
            "bin_end": 0.30000000000000004,
            "bin_start": 0.20000000000000007,
            "count": 0
           },
           {
            "bin_end": 0.4,
            "bin_start": 0.30000000000000004,
            "count": 0
           },
           {
            "bin_end": 0.5,
            "bin_start": 0.4,
            "count": 0
           }
          ],
          "max": "0",
          "min": "0",
          "nan_count": 0,
          "unique_count": 1
         }
        },
        {
         "dtype": "int64",
         "name": "wrong_fragment",
         "stats": {
          "histogram": [
           {
            "bin_end": -0.4,
            "bin_start": -0.5,
            "count": 0
           },
           {
            "bin_end": -0.3,
            "bin_start": -0.4,
            "count": 0
           },
           {
            "bin_end": -0.19999999999999996,
            "bin_start": -0.3,
            "count": 0
           },
           {
            "bin_end": -0.09999999999999998,
            "bin_start": -0.19999999999999996,
            "count": 0
           },
           {
            "bin_end": 0,
            "bin_start": -0.09999999999999998,
            "count": 0
           },
           {
            "bin_end": 0.10000000000000009,
            "bin_start": 0,
            "count": 5
           },
           {
            "bin_end": 0.20000000000000007,
            "bin_start": 0.10000000000000009,
            "count": 0
           },
           {
            "bin_end": 0.30000000000000004,
            "bin_start": 0.20000000000000007,
            "count": 0
           },
           {
            "bin_end": 0.4,
            "bin_start": 0.30000000000000004,
            "count": 0
           },
           {
            "bin_end": 0.5,
            "bin_start": 0.4,
            "count": 0
           }
          ],
          "max": "0",
          "min": "0",
          "nan_count": 0,
          "unique_count": 1
         }
        },
        {
         "dtype": "int64",
         "name": "urgent",
         "stats": {
          "histogram": [
           {
            "bin_end": -0.4,
            "bin_start": -0.5,
            "count": 0
           },
           {
            "bin_end": -0.3,
            "bin_start": -0.4,
            "count": 0
           },
           {
            "bin_end": -0.19999999999999996,
            "bin_start": -0.3,
            "count": 0
           },
           {
            "bin_end": -0.09999999999999998,
            "bin_start": -0.19999999999999996,
            "count": 0
           },
           {
            "bin_end": 0,
            "bin_start": -0.09999999999999998,
            "count": 0
           },
           {
            "bin_end": 0.10000000000000009,
            "bin_start": 0,
            "count": 5
           },
           {
            "bin_end": 0.20000000000000007,
            "bin_start": 0.10000000000000009,
            "count": 0
           },
           {
            "bin_end": 0.30000000000000004,
            "bin_start": 0.20000000000000007,
            "count": 0
           },
           {
            "bin_end": 0.4,
            "bin_start": 0.30000000000000004,
            "count": 0
           },
           {
            "bin_end": 0.5,
            "bin_start": 0.4,
            "count": 0
           }
          ],
          "max": "0",
          "min": "0",
          "nan_count": 0,
          "unique_count": 1
         }
        },
        {
         "dtype": "int64",
         "name": "hot",
         "stats": {
          "histogram": [
           {
            "bin_end": -0.4,
            "bin_start": -0.5,
            "count": 0
           },
           {
            "bin_end": -0.3,
            "bin_start": -0.4,
            "count": 0
           },
           {
            "bin_end": -0.19999999999999996,
            "bin_start": -0.3,
            "count": 0
           },
           {
            "bin_end": -0.09999999999999998,
            "bin_start": -0.19999999999999996,
            "count": 0
           },
           {
            "bin_end": 0,
            "bin_start": -0.09999999999999998,
            "count": 0
           },
           {
            "bin_end": 0.10000000000000009,
            "bin_start": 0,
            "count": 5
           },
           {
            "bin_end": 0.20000000000000007,
            "bin_start": 0.10000000000000009,
            "count": 0
           },
           {
            "bin_end": 0.30000000000000004,
            "bin_start": 0.20000000000000007,
            "count": 0
           },
           {
            "bin_end": 0.4,
            "bin_start": 0.30000000000000004,
            "count": 0
           },
           {
            "bin_end": 0.5,
            "bin_start": 0.4,
            "count": 0
           }
          ],
          "max": "0",
          "min": "0",
          "nan_count": 0,
          "unique_count": 1
         }
        },
        {
         "dtype": "int64",
         "name": "num_failed_logins",
         "stats": {
          "histogram": [
           {
            "bin_end": -0.4,
            "bin_start": -0.5,
            "count": 0
           },
           {
            "bin_end": -0.3,
            "bin_start": -0.4,
            "count": 0
           },
           {
            "bin_end": -0.19999999999999996,
            "bin_start": -0.3,
            "count": 0
           },
           {
            "bin_end": -0.09999999999999998,
            "bin_start": -0.19999999999999996,
            "count": 0
           },
           {
            "bin_end": 0,
            "bin_start": -0.09999999999999998,
            "count": 0
           },
           {
            "bin_end": 0.10000000000000009,
            "bin_start": 0,
            "count": 5
           },
           {
            "bin_end": 0.20000000000000007,
            "bin_start": 0.10000000000000009,
            "count": 0
           },
           {
            "bin_end": 0.30000000000000004,
            "bin_start": 0.20000000000000007,
            "count": 0
           },
           {
            "bin_end": 0.4,
            "bin_start": 0.30000000000000004,
            "count": 0
           },
           {
            "bin_end": 0.5,
            "bin_start": 0.4,
            "count": 0
           }
          ],
          "max": "0",
          "min": "0",
          "nan_count": 0,
          "unique_count": 1
         }
        },
        {
         "dtype": "int64",
         "name": "logged_in",
         "stats": {
          "histogram": [
           {
            "bin_end": 0.1,
            "bin_start": 0,
            "count": 3
           },
           {
            "bin_end": 0.2,
            "bin_start": 0.1,
            "count": 0
           },
           {
            "bin_end": 0.30000000000000004,
            "bin_start": 0.2,
            "count": 0
           },
           {
            "bin_end": 0.4,
            "bin_start": 0.30000000000000004,
            "count": 0
           },
           {
            "bin_end": 0.5,
            "bin_start": 0.4,
            "count": 0
           },
           {
            "bin_end": 0.6000000000000001,
            "bin_start": 0.5,
            "count": 0
           },
           {
            "bin_end": 0.7000000000000001,
            "bin_start": 0.6000000000000001,
            "count": 0
           },
           {
            "bin_end": 0.8,
            "bin_start": 0.7000000000000001,
            "count": 0
           },
           {
            "bin_end": 0.9,
            "bin_start": 0.8,
            "count": 0
           },
           {
            "bin_end": 1,
            "bin_start": 0.9,
            "count": 2
           }
          ],
          "max": "1",
          "min": "0",
          "nan_count": 0,
          "unique_count": 2
         }
        },
        {
         "dtype": "int64",
         "name": "num_compromised",
         "stats": {
          "histogram": [
           {
            "bin_end": -0.4,
            "bin_start": -0.5,
            "count": 0
           },
           {
            "bin_end": -0.3,
            "bin_start": -0.4,
            "count": 0
           },
           {
            "bin_end": -0.19999999999999996,
            "bin_start": -0.3,
            "count": 0
           },
           {
            "bin_end": -0.09999999999999998,
            "bin_start": -0.19999999999999996,
            "count": 0
           },
           {
            "bin_end": 0,
            "bin_start": -0.09999999999999998,
            "count": 0
           },
           {
            "bin_end": 0.10000000000000009,
            "bin_start": 0,
            "count": 5
           },
           {
            "bin_end": 0.20000000000000007,
            "bin_start": 0.10000000000000009,
            "count": 0
           },
           {
            "bin_end": 0.30000000000000004,
            "bin_start": 0.20000000000000007,
            "count": 0
           },
           {
            "bin_end": 0.4,
            "bin_start": 0.30000000000000004,
            "count": 0
           },
           {
            "bin_end": 0.5,
            "bin_start": 0.4,
            "count": 0
           }
          ],
          "max": "0",
          "min": "0",
          "nan_count": 0,
          "unique_count": 1
         }
        },
        {
         "dtype": "int64",
         "name": "root_shell",
         "stats": {
          "histogram": [
           {
            "bin_end": -0.4,
            "bin_start": -0.5,
            "count": 0
           },
           {
            "bin_end": -0.3,
            "bin_start": -0.4,
            "count": 0
           },
           {
            "bin_end": -0.19999999999999996,
            "bin_start": -0.3,
            "count": 0
           },
           {
            "bin_end": -0.09999999999999998,
            "bin_start": -0.19999999999999996,
            "count": 0
           },
           {
            "bin_end": 0,
            "bin_start": -0.09999999999999998,
            "count": 0
           },
           {
            "bin_end": 0.10000000000000009,
            "bin_start": 0,
            "count": 5
           },
           {
            "bin_end": 0.20000000000000007,
            "bin_start": 0.10000000000000009,
            "count": 0
           },
           {
            "bin_end": 0.30000000000000004,
            "bin_start": 0.20000000000000007,
            "count": 0
           },
           {
            "bin_end": 0.4,
            "bin_start": 0.30000000000000004,
            "count": 0
           },
           {
            "bin_end": 0.5,
            "bin_start": 0.4,
            "count": 0
           }
          ],
          "max": "0",
          "min": "0",
          "nan_count": 0,
          "unique_count": 1
         }
        },
        {
         "dtype": "int64",
         "name": "su_attempted",
         "stats": {
          "histogram": [
           {
            "bin_end": -0.4,
            "bin_start": -0.5,
            "count": 0
           },
           {
            "bin_end": -0.3,
            "bin_start": -0.4,
            "count": 0
           },
           {
            "bin_end": -0.19999999999999996,
            "bin_start": -0.3,
            "count": 0
           },
           {
            "bin_end": -0.09999999999999998,
            "bin_start": -0.19999999999999996,
            "count": 0
           },
           {
            "bin_end": 0,
            "bin_start": -0.09999999999999998,
            "count": 0
           },
           {
            "bin_end": 0.10000000000000009,
            "bin_start": 0,
            "count": 5
           },
           {
            "bin_end": 0.20000000000000007,
            "bin_start": 0.10000000000000009,
            "count": 0
           },
           {
            "bin_end": 0.30000000000000004,
            "bin_start": 0.20000000000000007,
            "count": 0
           },
           {
            "bin_end": 0.4,
            "bin_start": 0.30000000000000004,
            "count": 0
           },
           {
            "bin_end": 0.5,
            "bin_start": 0.4,
            "count": 0
           }
          ],
          "max": "0",
          "min": "0",
          "nan_count": 0,
          "unique_count": 1
         }
        },
        {
         "dtype": "int64",
         "name": "num_root",
         "stats": {
          "histogram": [
           {
            "bin_end": -0.4,
            "bin_start": -0.5,
            "count": 0
           },
           {
            "bin_end": -0.3,
            "bin_start": -0.4,
            "count": 0
           },
           {
            "bin_end": -0.19999999999999996,
            "bin_start": -0.3,
            "count": 0
           },
           {
            "bin_end": -0.09999999999999998,
            "bin_start": -0.19999999999999996,
            "count": 0
           },
           {
            "bin_end": 0,
            "bin_start": -0.09999999999999998,
            "count": 0
           },
           {
            "bin_end": 0.10000000000000009,
            "bin_start": 0,
            "count": 5
           },
           {
            "bin_end": 0.20000000000000007,
            "bin_start": 0.10000000000000009,
            "count": 0
           },
           {
            "bin_end": 0.30000000000000004,
            "bin_start": 0.20000000000000007,
            "count": 0
           },
           {
            "bin_end": 0.4,
            "bin_start": 0.30000000000000004,
            "count": 0
           },
           {
            "bin_end": 0.5,
            "bin_start": 0.4,
            "count": 0
           }
          ],
          "max": "0",
          "min": "0",
          "nan_count": 0,
          "unique_count": 1
         }
        },
        {
         "dtype": "int64",
         "name": "num_file_creations",
         "stats": {
          "histogram": [
           {
            "bin_end": -0.4,
            "bin_start": -0.5,
            "count": 0
           },
           {
            "bin_end": -0.3,
            "bin_start": -0.4,
            "count": 0
           },
           {
            "bin_end": -0.19999999999999996,
            "bin_start": -0.3,
            "count": 0
           },
           {
            "bin_end": -0.09999999999999998,
            "bin_start": -0.19999999999999996,
            "count": 0
           },
           {
            "bin_end": 0,
            "bin_start": -0.09999999999999998,
            "count": 0
           },
           {
            "bin_end": 0.10000000000000009,
            "bin_start": 0,
            "count": 5
           },
           {
            "bin_end": 0.20000000000000007,
            "bin_start": 0.10000000000000009,
            "count": 0
           },
           {
            "bin_end": 0.30000000000000004,
            "bin_start": 0.20000000000000007,
            "count": 0
           },
           {
            "bin_end": 0.4,
            "bin_start": 0.30000000000000004,
            "count": 0
           },
           {
            "bin_end": 0.5,
            "bin_start": 0.4,
            "count": 0
           }
          ],
          "max": "0",
          "min": "0",
          "nan_count": 0,
          "unique_count": 1
         }
        },
        {
         "dtype": "int64",
         "name": "num_shells",
         "stats": {
          "histogram": [
           {
            "bin_end": -0.4,
            "bin_start": -0.5,
            "count": 0
           },
           {
            "bin_end": -0.3,
            "bin_start": -0.4,
            "count": 0
           },
           {
            "bin_end": -0.19999999999999996,
            "bin_start": -0.3,
            "count": 0
           },
           {
            "bin_end": -0.09999999999999998,
            "bin_start": -0.19999999999999996,
            "count": 0
           },
           {
            "bin_end": 0,
            "bin_start": -0.09999999999999998,
            "count": 0
           },
           {
            "bin_end": 0.10000000000000009,
            "bin_start": 0,
            "count": 5
           },
           {
            "bin_end": 0.20000000000000007,
            "bin_start": 0.10000000000000009,
            "count": 0
           },
           {
            "bin_end": 0.30000000000000004,
            "bin_start": 0.20000000000000007,
            "count": 0
           },
           {
            "bin_end": 0.4,
            "bin_start": 0.30000000000000004,
            "count": 0
           },
           {
            "bin_end": 0.5,
            "bin_start": 0.4,
            "count": 0
           }
          ],
          "max": "0",
          "min": "0",
          "nan_count": 0,
          "unique_count": 1
         }
        },
        {
         "dtype": "int64",
         "name": "num_access_files",
         "stats": {
          "histogram": [
           {
            "bin_end": -0.4,
            "bin_start": -0.5,
            "count": 0
           },
           {
            "bin_end": -0.3,
            "bin_start": -0.4,
            "count": 0
           },
           {
            "bin_end": -0.19999999999999996,
            "bin_start": -0.3,
            "count": 0
           },
           {
            "bin_end": -0.09999999999999998,
            "bin_start": -0.19999999999999996,
            "count": 0
           },
           {
            "bin_end": 0,
            "bin_start": -0.09999999999999998,
            "count": 0
           },
           {
            "bin_end": 0.10000000000000009,
            "bin_start": 0,
            "count": 5
           },
           {
            "bin_end": 0.20000000000000007,
            "bin_start": 0.10000000000000009,
            "count": 0
           },
           {
            "bin_end": 0.30000000000000004,
            "bin_start": 0.20000000000000007,
            "count": 0
           },
           {
            "bin_end": 0.4,
            "bin_start": 0.30000000000000004,
            "count": 0
           },
           {
            "bin_end": 0.5,
            "bin_start": 0.4,
            "count": 0
           }
          ],
          "max": "0",
          "min": "0",
          "nan_count": 0,
          "unique_count": 1
         }
        },
        {
         "dtype": "int64",
         "name": "num_outbound_cmds",
         "stats": {
          "histogram": [
           {
            "bin_end": -0.4,
            "bin_start": -0.5,
            "count": 0
           },
           {
            "bin_end": -0.3,
            "bin_start": -0.4,
            "count": 0
           },
           {
            "bin_end": -0.19999999999999996,
            "bin_start": -0.3,
            "count": 0
           },
           {
            "bin_end": -0.09999999999999998,
            "bin_start": -0.19999999999999996,
            "count": 0
           },
           {
            "bin_end": 0,
            "bin_start": -0.09999999999999998,
            "count": 0
           },
           {
            "bin_end": 0.10000000000000009,
            "bin_start": 0,
            "count": 5
           },
           {
            "bin_end": 0.20000000000000007,
            "bin_start": 0.10000000000000009,
            "count": 0
           },
           {
            "bin_end": 0.30000000000000004,
            "bin_start": 0.20000000000000007,
            "count": 0
           },
           {
            "bin_end": 0.4,
            "bin_start": 0.30000000000000004,
            "count": 0
           },
           {
            "bin_end": 0.5,
            "bin_start": 0.4,
            "count": 0
           }
          ],
          "max": "0",
          "min": "0",
          "nan_count": 0,
          "unique_count": 1
         }
        },
        {
         "dtype": "int64",
         "name": "is_host_login",
         "stats": {
          "histogram": [
           {
            "bin_end": -0.4,
            "bin_start": -0.5,
            "count": 0
           },
           {
            "bin_end": -0.3,
            "bin_start": -0.4,
            "count": 0
           },
           {
            "bin_end": -0.19999999999999996,
            "bin_start": -0.3,
            "count": 0
           },
           {
            "bin_end": -0.09999999999999998,
            "bin_start": -0.19999999999999996,
            "count": 0
           },
           {
            "bin_end": 0,
            "bin_start": -0.09999999999999998,
            "count": 0
           },
           {
            "bin_end": 0.10000000000000009,
            "bin_start": 0,
            "count": 5
           },
           {
            "bin_end": 0.20000000000000007,
            "bin_start": 0.10000000000000009,
            "count": 0
           },
           {
            "bin_end": 0.30000000000000004,
            "bin_start": 0.20000000000000007,
            "count": 0
           },
           {
            "bin_end": 0.4,
            "bin_start": 0.30000000000000004,
            "count": 0
           },
           {
            "bin_end": 0.5,
            "bin_start": 0.4,
            "count": 0
           }
          ],
          "max": "0",
          "min": "0",
          "nan_count": 0,
          "unique_count": 1
         }
        },
        {
         "dtype": "int64",
         "name": "is_guest_login",
         "stats": {
          "histogram": [
           {
            "bin_end": -0.4,
            "bin_start": -0.5,
            "count": 0
           },
           {
            "bin_end": -0.3,
            "bin_start": -0.4,
            "count": 0
           },
           {
            "bin_end": -0.19999999999999996,
            "bin_start": -0.3,
            "count": 0
           },
           {
            "bin_end": -0.09999999999999998,
            "bin_start": -0.19999999999999996,
            "count": 0
           },
           {
            "bin_end": 0,
            "bin_start": -0.09999999999999998,
            "count": 0
           },
           {
            "bin_end": 0.10000000000000009,
            "bin_start": 0,
            "count": 5
           },
           {
            "bin_end": 0.20000000000000007,
            "bin_start": 0.10000000000000009,
            "count": 0
           },
           {
            "bin_end": 0.30000000000000004,
            "bin_start": 0.20000000000000007,
            "count": 0
           },
           {
            "bin_end": 0.4,
            "bin_start": 0.30000000000000004,
            "count": 0
           },
           {
            "bin_end": 0.5,
            "bin_start": 0.4,
            "count": 0
           }
          ],
          "max": "0",
          "min": "0",
          "nan_count": 0,
          "unique_count": 1
         }
        },
        {
         "dtype": "int64",
         "name": "count",
         "stats": {
          "histogram": [
           {
            "bin_end": 14.1,
            "bin_start": 2,
            "count": 3
           },
           {
            "bin_end": 26.2,
            "bin_start": 14.1,
            "count": 0
           },
           {
            "bin_end": 38.3,
            "bin_start": 26.2,
            "count": 1
           },
           {
            "bin_end": 50.4,
            "bin_start": 38.3,
            "count": 0
           },
           {
            "bin_end": 62.5,
            "bin_start": 50.4,
            "count": 0
           },
           {
            "bin_end": 74.6,
            "bin_start": 62.5,
            "count": 0
           },
           {
            "bin_end": 86.7,
            "bin_start": 74.6,
            "count": 0
           },
           {
            "bin_end": 98.8,
            "bin_start": 86.7,
            "count": 0
           },
           {
            "bin_end": 110.89999999999999,
            "bin_start": 98.8,
            "count": 0
           },
           {
            "bin_end": 123,
            "bin_start": 110.89999999999999,
            "count": 1
           }
          ],
          "max": "123",
          "min": "2",
          "nan_count": 0,
          "unique_count": 5
         }
        },
        {
         "dtype": "int64",
         "name": "srv_count",
         "stats": {
          "histogram": [
           {
            "bin_end": 4.1,
            "bin_start": 1,
            "count": 2
           },
           {
            "bin_end": 7.2,
            "bin_start": 4.1,
            "count": 2
           },
           {
            "bin_end": 10.3,
            "bin_start": 7.2,
            "count": 0
           },
           {
            "bin_end": 13.4,
            "bin_start": 10.3,
            "count": 0
           },
           {
            "bin_end": 16.5,
            "bin_start": 13.4,
            "count": 0
           },
           {
            "bin_end": 19.6,
            "bin_start": 16.5,
            "count": 0
           },
           {
            "bin_end": 22.7,
            "bin_start": 19.6,
            "count": 0
           },
           {
            "bin_end": 25.8,
            "bin_start": 22.7,
            "count": 0
           },
           {
            "bin_end": 28.900000000000002,
            "bin_start": 25.8,
            "count": 0
           },
           {
            "bin_end": 32,
            "bin_start": 28.900000000000002,
            "count": 1
           }
          ],
          "max": "32",
          "min": "1",
          "nan_count": 0,
          "unique_count": 5
         }
        },
        {
         "dtype": "float64",
         "name": "serror_rate",
         "stats": {
          "histogram": [
           {
            "bin_end": 0.1,
            "bin_start": 0,
            "count": 3
           },
           {
            "bin_end": 0.2,
            "bin_start": 0.1,
            "count": 0
           },
           {
            "bin_end": 0.30000000000000004,
            "bin_start": 0.2,
            "count": 1
           },
           {
            "bin_end": 0.4,
            "bin_start": 0.30000000000000004,
            "count": 0
           },
           {
            "bin_end": 0.5,
            "bin_start": 0.4,
            "count": 0
           },
           {
            "bin_end": 0.6000000000000001,
            "bin_start": 0.5,
            "count": 0
           },
           {
            "bin_end": 0.7000000000000001,
            "bin_start": 0.6000000000000001,
            "count": 0
           },
           {
            "bin_end": 0.8,
            "bin_start": 0.7000000000000001,
            "count": 0
           },
           {
            "bin_end": 0.9,
            "bin_start": 0.8,
            "count": 0
           },
           {
            "bin_end": 1,
            "bin_start": 0.9,
            "count": 1
           }
          ],
          "max": "1.0",
          "min": "0.0",
          "nan_count": 0,
          "unique_count": 3
         }
        },
        {
         "dtype": "float64",
         "name": "srv_serror_rate",
         "stats": {
          "histogram": [
           {
            "bin_end": 0.1,
            "bin_start": 0,
            "count": 3
           },
           {
            "bin_end": 0.2,
            "bin_start": 0.1,
            "count": 0
           },
           {
            "bin_end": 0.30000000000000004,
            "bin_start": 0.2,
            "count": 1
           },
           {
            "bin_end": 0.4,
            "bin_start": 0.30000000000000004,
            "count": 0
           },
           {
            "bin_end": 0.5,
            "bin_start": 0.4,
            "count": 0
           },
           {
            "bin_end": 0.6000000000000001,
            "bin_start": 0.5,
            "count": 0
           },
           {
            "bin_end": 0.7000000000000001,
            "bin_start": 0.6000000000000001,
            "count": 0
           },
           {
            "bin_end": 0.8,
            "bin_start": 0.7000000000000001,
            "count": 0
           },
           {
            "bin_end": 0.9,
            "bin_start": 0.8,
            "count": 0
           },
           {
            "bin_end": 1,
            "bin_start": 0.9,
            "count": 1
           }
          ],
          "max": "1.0",
          "min": "0.0",
          "nan_count": 0,
          "unique_count": 3
         }
        },
        {
         "dtype": "float64",
         "name": "rerror_rate",
         "stats": {
          "histogram": [
           {
            "bin_end": -0.4,
            "bin_start": -0.5,
            "count": 0
           },
           {
            "bin_end": -0.3,
            "bin_start": -0.4,
            "count": 0
           },
           {
            "bin_end": -0.19999999999999996,
            "bin_start": -0.3,
            "count": 0
           },
           {
            "bin_end": -0.09999999999999998,
            "bin_start": -0.19999999999999996,
            "count": 0
           },
           {
            "bin_end": 0,
            "bin_start": -0.09999999999999998,
            "count": 0
           },
           {
            "bin_end": 0.10000000000000009,
            "bin_start": 0,
            "count": 5
           },
           {
            "bin_end": 0.20000000000000007,
            "bin_start": 0.10000000000000009,
            "count": 0
           },
           {
            "bin_end": 0.30000000000000004,
            "bin_start": 0.20000000000000007,
            "count": 0
           },
           {
            "bin_end": 0.4,
            "bin_start": 0.30000000000000004,
            "count": 0
           },
           {
            "bin_end": 0.5,
            "bin_start": 0.4,
            "count": 0
           }
          ],
          "max": "0.0",
          "min": "0.0",
          "nan_count": 0,
          "unique_count": 1
         }
        },
        {
         "dtype": "float64",
         "name": "srv_rerror_rate",
         "stats": {
          "histogram": [
           {
            "bin_end": -0.4,
            "bin_start": -0.5,
            "count": 0
           },
           {
            "bin_end": -0.3,
            "bin_start": -0.4,
            "count": 0
           },
           {
            "bin_end": -0.19999999999999996,
            "bin_start": -0.3,
            "count": 0
           },
           {
            "bin_end": -0.09999999999999998,
            "bin_start": -0.19999999999999996,
            "count": 0
           },
           {
            "bin_end": 0,
            "bin_start": -0.09999999999999998,
            "count": 0
           },
           {
            "bin_end": 0.10000000000000009,
            "bin_start": 0,
            "count": 5
           },
           {
            "bin_end": 0.20000000000000007,
            "bin_start": 0.10000000000000009,
            "count": 0
           },
           {
            "bin_end": 0.30000000000000004,
            "bin_start": 0.20000000000000007,
            "count": 0
           },
           {
            "bin_end": 0.4,
            "bin_start": 0.30000000000000004,
            "count": 0
           },
           {
            "bin_end": 0.5,
            "bin_start": 0.4,
            "count": 0
           }
          ],
          "max": "0.0",
          "min": "0.0",
          "nan_count": 0,
          "unique_count": 1
         }
        },
        {
         "dtype": "float64",
         "name": "same_srv_rate",
         "stats": {
          "histogram": [
           {
            "bin_end": 0.14500000000000002,
            "bin_start": 0.05,
            "count": 2
           },
           {
            "bin_end": 0.24,
            "bin_start": 0.14500000000000002,
            "count": 0
           },
           {
            "bin_end": 0.335,
            "bin_start": 0.24,
            "count": 0
           },
           {
            "bin_end": 0.43,
            "bin_start": 0.335,
            "count": 0
           },
           {
            "bin_end": 0.525,
            "bin_start": 0.43,
            "count": 0
           },
           {
            "bin_end": 0.6200000000000001,
            "bin_start": 0.525,
            "count": 0
           },
           {
            "bin_end": 0.7150000000000001,
            "bin_start": 0.6200000000000001,
            "count": 0
           },
           {
            "bin_end": 0.81,
            "bin_start": 0.7150000000000001,
            "count": 0
           },
           {
            "bin_end": 0.905,
            "bin_start": 0.81,
            "count": 0
           },
           {
            "bin_end": 1,
            "bin_start": 0.905,
            "count": 3
           }
          ],
          "max": "1.0",
          "min": "0.05",
          "nan_count": 0,
          "unique_count": 3
         }
        },
        {
         "dtype": "float64",
         "name": "diff_srv_rate",
         "stats": {
          "histogram": [
           {
            "bin_end": 0.015,
            "bin_start": 0,
            "count": 3
           },
           {
            "bin_end": 0.03,
            "bin_start": 0.015,
            "count": 0
           },
           {
            "bin_end": 0.045,
            "bin_start": 0.03,
            "count": 0
           },
           {
            "bin_end": 0.06,
            "bin_start": 0.045,
            "count": 0
           },
           {
            "bin_end": 0.075,
            "bin_start": 0.06,
            "count": 1
           },
           {
            "bin_end": 0.09,
            "bin_start": 0.075,
            "count": 0
           },
           {
            "bin_end": 0.105,
            "bin_start": 0.09,
            "count": 0
           },
           {
            "bin_end": 0.12,
            "bin_start": 0.105,
            "count": 0
           },
           {
            "bin_end": 0.135,
            "bin_start": 0.12,
            "count": 0
           },
           {
            "bin_end": 0.15,
            "bin_start": 0.135,
            "count": 1
           }
          ],
          "max": "0.15",
          "min": "0.0",
          "nan_count": 0,
          "unique_count": 3
         }
        },
        {
         "dtype": "float64",
         "name": "srv_diff_host_rate",
         "stats": {
          "histogram": [
           {
            "bin_end": 0.009,
            "bin_start": 0,
            "count": 4
           },
           {
            "bin_end": 0.018,
            "bin_start": 0.009,
            "count": 0
           },
           {
            "bin_end": 0.026999999999999996,
            "bin_start": 0.018,
            "count": 0
           },
           {
            "bin_end": 0.036,
            "bin_start": 0.026999999999999996,
            "count": 0
           },
           {
            "bin_end": 0.045,
            "bin_start": 0.036,
            "count": 0
           },
           {
            "bin_end": 0.05399999999999999,
            "bin_start": 0.045,
            "count": 0
           },
           {
            "bin_end": 0.063,
            "bin_start": 0.05399999999999999,
            "count": 0
           },
           {
            "bin_end": 0.072,
            "bin_start": 0.063,
            "count": 0
           },
           {
            "bin_end": 0.08099999999999999,
            "bin_start": 0.072,
            "count": 0
           },
           {
            "bin_end": 0.09,
            "bin_start": 0.08099999999999999,
            "count": 1
           }
          ],
          "max": "0.09",
          "min": "0.0",
          "nan_count": 0,
          "unique_count": 2
         }
        },
        {
         "dtype": "int64",
         "name": "dst_host_count",
         "stats": {
          "histogram": [
           {
            "bin_end": 52.5,
            "bin_start": 30,
            "count": 1
           },
           {
            "bin_end": 75,
            "bin_start": 52.5,
            "count": 0
           },
           {
            "bin_end": 97.5,
            "bin_start": 75,
            "count": 0
           },
           {
            "bin_end": 120,
            "bin_start": 97.5,
            "count": 0
           },
           {
            "bin_end": 142.5,
            "bin_start": 120,
            "count": 0
           },
           {
            "bin_end": 165,
            "bin_start": 142.5,
            "count": 1
           },
           {
            "bin_end": 187.5,
            "bin_start": 165,
            "count": 0
           },
           {
            "bin_end": 210,
            "bin_start": 187.5,
            "count": 0
           },
           {
            "bin_end": 232.5,
            "bin_start": 210,
            "count": 0
           },
           {
            "bin_end": 255,
            "bin_start": 232.5,
            "count": 3
           }
          ],
          "max": "255",
          "min": "30",
          "nan_count": 0,
          "unique_count": 3
         }
        },
        {
         "dtype": "int64",
         "name": "dst_host_srv_count",
         "stats": {
          "histogram": [
           {
            "bin_end": 26.4,
            "bin_start": 1,
            "count": 3
           },
           {
            "bin_end": 51.8,
            "bin_start": 26.4,
            "count": 0
           },
           {
            "bin_end": 77.19999999999999,
            "bin_start": 51.8,
            "count": 0
           },
           {
            "bin_end": 102.6,
            "bin_start": 77.19999999999999,
            "count": 0
           },
           {
            "bin_end": 128,
            "bin_start": 102.6,
            "count": 0
           },
           {
            "bin_end": 153.39999999999998,
            "bin_start": 128,
            "count": 0
           },
           {
            "bin_end": 178.79999999999998,
            "bin_start": 153.39999999999998,
            "count": 0
           },
           {
            "bin_end": 204.2,
            "bin_start": 178.79999999999998,
            "count": 0
           },
           {
            "bin_end": 229.6,
            "bin_start": 204.2,
            "count": 0
           },
           {
            "bin_end": 255,
            "bin_start": 229.6,
            "count": 2
           }
          ],
          "max": "255",
          "min": "1",
          "nan_count": 0,
          "unique_count": 4
         }
        },
        {
         "dtype": "float64",
         "name": "dst_host_same_srv_rate",
         "stats": {
          "histogram": [
           {
            "bin_end": 0.1,
            "bin_start": 0,
            "count": 1
           },
           {
            "bin_end": 0.2,
            "bin_start": 0.1,
            "count": 2
           },
           {
            "bin_end": 0.30000000000000004,
            "bin_start": 0.2,
            "count": 0
           },
           {
            "bin_end": 0.4,
            "bin_start": 0.30000000000000004,
            "count": 0
           },
           {
            "bin_end": 0.5,
            "bin_start": 0.4,
            "count": 0
           },
           {
            "bin_end": 0.6000000000000001,
            "bin_start": 0.5,
            "count": 0
           },
           {
            "bin_end": 0.7000000000000001,
            "bin_start": 0.6000000000000001,
            "count": 0
           },
           {
            "bin_end": 0.8,
            "bin_start": 0.7000000000000001,
            "count": 0
           },
           {
            "bin_end": 0.9,
            "bin_start": 0.8,
            "count": 0
           },
           {
            "bin_end": 1,
            "bin_start": 0.9,
            "count": 2
           }
          ],
          "max": "1.0",
          "min": "0.0",
          "nan_count": 0,
          "unique_count": 4
         }
        },
        {
         "dtype": "float64",
         "name": "dst_host_diff_srv_rate",
         "stats": {
          "histogram": [
           {
            "bin_end": 0.06,
            "bin_start": 0,
            "count": 4
           },
           {
            "bin_end": 0.12,
            "bin_start": 0.06,
            "count": 0
           },
           {
            "bin_end": 0.18,
            "bin_start": 0.12,
            "count": 0
           },
           {
            "bin_end": 0.24,
            "bin_start": 0.18,
            "count": 0
           },
           {
            "bin_end": 0.3,
            "bin_start": 0.24,
            "count": 0
           },
           {
            "bin_end": 0.36,
            "bin_start": 0.3,
            "count": 0
           },
           {
            "bin_end": 0.42,
            "bin_start": 0.36,
            "count": 0
           },
           {
            "bin_end": 0.48,
            "bin_start": 0.42,
            "count": 0
           },
           {
            "bin_end": 0.54,
            "bin_start": 0.48,
            "count": 0
           },
           {
            "bin_end": 0.6,
            "bin_start": 0.54,
            "count": 1
           }
          ],
          "max": "0.6",
          "min": "0.0",
          "nan_count": 0,
          "unique_count": 4
         }
        },
        {
         "dtype": "float64",
         "name": "dst_host_same_src_port_rate",
         "stats": {
          "histogram": [
           {
            "bin_end": 0.088,
            "bin_start": 0,
            "count": 3
           },
           {
            "bin_end": 0.176,
            "bin_start": 0.088,
            "count": 1
           },
           {
            "bin_end": 0.264,
            "bin_start": 0.176,
            "count": 0
           },
           {
            "bin_end": 0.352,
            "bin_start": 0.264,
            "count": 0
           },
           {
            "bin_end": 0.43999999999999995,
            "bin_start": 0.352,
            "count": 0
           },
           {
            "bin_end": 0.528,
            "bin_start": 0.43999999999999995,
            "count": 0
           },
           {
            "bin_end": 0.616,
            "bin_start": 0.528,
            "count": 0
           },
           {
            "bin_end": 0.704,
            "bin_start": 0.616,
            "count": 0
           },
           {
            "bin_end": 0.7919999999999999,
            "bin_start": 0.704,
            "count": 0
           },
           {
            "bin_end": 0.88,
            "bin_start": 0.7919999999999999,
            "count": 1
           }
          ],
          "max": "0.88",
          "min": "0.0",
          "nan_count": 0,
          "unique_count": 4
         }
        },
        {
         "dtype": "float64",
         "name": "dst_host_srv_diff_host_rate",
         "stats": {
          "histogram": [
           {
            "bin_end": 0.004,
            "bin_start": 0,
            "count": 4
           },
           {
            "bin_end": 0.008,
            "bin_start": 0.004,
            "count": 0
           },
           {
            "bin_end": 0.012,
            "bin_start": 0.008,
            "count": 0
           },
           {
            "bin_end": 0.016,
            "bin_start": 0.012,
            "count": 0
           },
           {
            "bin_end": 0.02,
            "bin_start": 0.016,
            "count": 0
           },
           {
            "bin_end": 0.024,
            "bin_start": 0.02,
            "count": 0
           },
           {
            "bin_end": 0.028,
            "bin_start": 0.024,
            "count": 0
           },
           {
            "bin_end": 0.032,
            "bin_start": 0.028,
            "count": 0
           },
           {
            "bin_end": 0.036000000000000004,
            "bin_start": 0.032,
            "count": 0
           },
           {
            "bin_end": 0.04,
            "bin_start": 0.036000000000000004,
            "count": 1
           }
          ],
          "max": "0.04",
          "min": "0.0",
          "nan_count": 0,
          "unique_count": 2
         }
        },
        {
         "dtype": "float64",
         "name": "dst_host_serror_rate",
         "stats": {
          "histogram": [
           {
            "bin_end": 0.1,
            "bin_start": 0,
            "count": 4
           },
           {
            "bin_end": 0.2,
            "bin_start": 0.1,
            "count": 0
           },
           {
            "bin_end": 0.30000000000000004,
            "bin_start": 0.2,
            "count": 0
           },
           {
            "bin_end": 0.4,
            "bin_start": 0.30000000000000004,
            "count": 0
           },
           {
            "bin_end": 0.5,
            "bin_start": 0.4,
            "count": 0
           },
           {
            "bin_end": 0.6000000000000001,
            "bin_start": 0.5,
            "count": 0
           },
           {
            "bin_end": 0.7000000000000001,
            "bin_start": 0.6000000000000001,
            "count": 0
           },
           {
            "bin_end": 0.8,
            "bin_start": 0.7000000000000001,
            "count": 0
           },
           {
            "bin_end": 0.9,
            "bin_start": 0.8,
            "count": 0
           },
           {
            "bin_end": 1,
            "bin_start": 0.9,
            "count": 1
           }
          ],
          "max": "1.0",
          "min": "0.0",
          "nan_count": 0,
          "unique_count": 3
         }
        },
        {
         "dtype": "float64",
         "name": "dst_host_srv_serror_rate",
         "stats": {
          "histogram": [
           {
            "bin_end": 0.1,
            "bin_start": 0,
            "count": 4
           },
           {
            "bin_end": 0.2,
            "bin_start": 0.1,
            "count": 0
           },
           {
            "bin_end": 0.30000000000000004,
            "bin_start": 0.2,
            "count": 0
           },
           {
            "bin_end": 0.4,
            "bin_start": 0.30000000000000004,
            "count": 0
           },
           {
            "bin_end": 0.5,
            "bin_start": 0.4,
            "count": 0
           },
           {
            "bin_end": 0.6000000000000001,
            "bin_start": 0.5,
            "count": 0
           },
           {
            "bin_end": 0.7000000000000001,
            "bin_start": 0.6000000000000001,
            "count": 0
           },
           {
            "bin_end": 0.8,
            "bin_start": 0.7000000000000001,
            "count": 0
           },
           {
            "bin_end": 0.9,
            "bin_start": 0.8,
            "count": 0
           },
           {
            "bin_end": 1,
            "bin_start": 0.9,
            "count": 1
           }
          ],
          "max": "1.0",
          "min": "0.0",
          "nan_count": 0,
          "unique_count": 3
         }
        },
        {
         "dtype": "float64",
         "name": "dst_host_rerror_rate",
         "stats": {
          "histogram": [
           {
            "bin_end": 0.005,
            "bin_start": 0,
            "count": 4
           },
           {
            "bin_end": 0.01,
            "bin_start": 0.005,
            "count": 0
           },
           {
            "bin_end": 0.015,
            "bin_start": 0.01,
            "count": 0
           },
           {
            "bin_end": 0.02,
            "bin_start": 0.015,
            "count": 0
           },
           {
            "bin_end": 0.025,
            "bin_start": 0.02,
            "count": 0
           },
           {
            "bin_end": 0.03,
            "bin_start": 0.025,
            "count": 0
           },
           {
            "bin_end": 0.035,
            "bin_start": 0.03,
            "count": 0
           },
           {
            "bin_end": 0.04,
            "bin_start": 0.035,
            "count": 0
           },
           {
            "bin_end": 0.045,
            "bin_start": 0.04,
            "count": 0
           },
           {
            "bin_end": 0.05,
            "bin_start": 0.045,
            "count": 1
           }
          ],
          "max": "0.05",
          "min": "0.0",
          "nan_count": 0,
          "unique_count": 2
         }
        },
        {
         "dtype": "float64",
         "name": "dst_host_srv_rerror_rate",
         "stats": {
          "histogram": [
           {
            "bin_end": 0.001,
            "bin_start": 0,
            "count": 4
           },
           {
            "bin_end": 0.002,
            "bin_start": 0.001,
            "count": 0
           },
           {
            "bin_end": 0.003,
            "bin_start": 0.002,
            "count": 0
           },
           {
            "bin_end": 0.004,
            "bin_start": 0.003,
            "count": 0
           },
           {
            "bin_end": 0.005,
            "bin_start": 0.004,
            "count": 0
           },
           {
            "bin_end": 0.006,
            "bin_start": 0.005,
            "count": 0
           },
           {
            "bin_end": 0.007,
            "bin_start": 0.006,
            "count": 0
           },
           {
            "bin_end": 0.008,
            "bin_start": 0.007,
            "count": 0
           },
           {
            "bin_end": 0.009000000000000001,
            "bin_start": 0.008,
            "count": 0
           },
           {
            "bin_end": 0.01,
            "bin_start": 0.009000000000000001,
            "count": 1
           }
          ],
          "max": "0.01",
          "min": "0.0",
          "nan_count": 0,
          "unique_count": 2
         }
        },
        {
         "dtype": "object",
         "name": "class",
         "stats": {
          "categories": [
           {
            "count": 4,
            "name": "normal"
           },
           {
            "count": 1,
            "name": "anomaly"
           }
          ],
          "nan_count": 0,
          "unique_count": 2
         }
        },
        {
         "dtype": "int64",
         "name": "_deepnote_index_column"
        }
       ],
       "row_count": 5,
       "rows": [
        {
         "_deepnote_index_column": 0,
         "class": "normal",
         "count": 2,
         "diff_srv_rate": 0,
         "dst_bytes": 0,
         "dst_host_count": 150,
         "dst_host_diff_srv_rate": 0.03,
         "dst_host_rerror_rate": 0.05,
         "dst_host_same_src_port_rate": 0.17,
         "dst_host_same_srv_rate": 0.17,
         "dst_host_serror_rate": 0,
         "dst_host_srv_count": 25,
         "dst_host_srv_diff_host_rate": 0,
         "dst_host_srv_rerror_rate": 0,
         "dst_host_srv_serror_rate": 0,
         "duration": 0,
         "flag": "SF",
         "hot": 0,
         "is_guest_login": 0,
         "is_host_login": 0,
         "land": 0,
         "logged_in": 0,
         "num_access_files": 0,
         "num_compromised": 0,
         "num_failed_logins": 0,
         "num_file_creations": 0,
         "num_outbound_cmds": 0,
         "num_root": 0,
         "num_shells": 0,
         "protocol_type": "tcp",
         "rerror_rate": 0,
         "root_shell": 0,
         "same_srv_rate": 1,
         "serror_rate": 0,
         "service": "ftp_data",
         "src_bytes": 491,
         "srv_count": 2,
         "srv_diff_host_rate": 0,
         "srv_rerror_rate": 0,
         "srv_serror_rate": 0,
         "su_attempted": 0,
         "urgent": 0,
         "wrong_fragment": 0
        },
        {
         "_deepnote_index_column": 1,
         "class": "normal",
         "count": 13,
         "diff_srv_rate": 0.15,
         "dst_bytes": 0,
         "dst_host_count": 255,
         "dst_host_diff_srv_rate": 0.6,
         "dst_host_rerror_rate": 0,
         "dst_host_same_src_port_rate": 0.88,
         "dst_host_same_srv_rate": 0,
         "dst_host_serror_rate": 0,
         "dst_host_srv_count": 1,
         "dst_host_srv_diff_host_rate": 0,
         "dst_host_srv_rerror_rate": 0,
         "dst_host_srv_serror_rate": 0,
         "duration": 0,
         "flag": "SF",
         "hot": 0,
         "is_guest_login": 0,
         "is_host_login": 0,
         "land": 0,
         "logged_in": 0,
         "num_access_files": 0,
         "num_compromised": 0,
         "num_failed_logins": 0,
         "num_file_creations": 0,
         "num_outbound_cmds": 0,
         "num_root": 0,
         "num_shells": 0,
         "protocol_type": "udp",
         "rerror_rate": 0,
         "root_shell": 0,
         "same_srv_rate": 0.08,
         "serror_rate": 0,
         "service": "other",
         "src_bytes": 146,
         "srv_count": 1,
         "srv_diff_host_rate": 0,
         "srv_rerror_rate": 0,
         "srv_serror_rate": 0,
         "su_attempted": 0,
         "urgent": 0,
         "wrong_fragment": 0
        },
        {
         "_deepnote_index_column": 2,
         "class": "anomaly",
         "count": 123,
         "diff_srv_rate": 0.07,
         "dst_bytes": 0,
         "dst_host_count": 255,
         "dst_host_diff_srv_rate": 0.05,
         "dst_host_rerror_rate": 0,
         "dst_host_same_src_port_rate": 0,
         "dst_host_same_srv_rate": 0.1,
         "dst_host_serror_rate": 1,
         "dst_host_srv_count": 26,
         "dst_host_srv_diff_host_rate": 0,
         "dst_host_srv_rerror_rate": 0,
         "dst_host_srv_serror_rate": 1,
         "duration": 0,
         "flag": "S0",
         "hot": 0,
         "is_guest_login": 0,
         "is_host_login": 0,
         "land": 0,
         "logged_in": 0,
         "num_access_files": 0,
         "num_compromised": 0,
         "num_failed_logins": 0,
         "num_file_creations": 0,
         "num_outbound_cmds": 0,
         "num_root": 0,
         "num_shells": 0,
         "protocol_type": "tcp",
         "rerror_rate": 0,
         "root_shell": 0,
         "same_srv_rate": 0.05,
         "serror_rate": 1,
         "service": "private",
         "src_bytes": 0,
         "srv_count": 6,
         "srv_diff_host_rate": 0,
         "srv_rerror_rate": 0,
         "srv_serror_rate": 1,
         "su_attempted": 0,
         "urgent": 0,
         "wrong_fragment": 0
        },
        {
         "_deepnote_index_column": 3,
         "class": "normal",
         "count": 5,
         "diff_srv_rate": 0,
         "dst_bytes": 8153,
         "dst_host_count": 30,
         "dst_host_diff_srv_rate": 0,
         "dst_host_rerror_rate": 0,
         "dst_host_same_src_port_rate": 0.03,
         "dst_host_same_srv_rate": 1,
         "dst_host_serror_rate": 0.03,
         "dst_host_srv_count": 255,
         "dst_host_srv_diff_host_rate": 0.04,
         "dst_host_srv_rerror_rate": 0.01,
         "dst_host_srv_serror_rate": 0.01,
         "duration": 0,
         "flag": "SF",
         "hot": 0,
         "is_guest_login": 0,
         "is_host_login": 0,
         "land": 0,
         "logged_in": 1,
         "num_access_files": 0,
         "num_compromised": 0,
         "num_failed_logins": 0,
         "num_file_creations": 0,
         "num_outbound_cmds": 0,
         "num_root": 0,
         "num_shells": 0,
         "protocol_type": "tcp",
         "rerror_rate": 0,
         "root_shell": 0,
         "same_srv_rate": 1,
         "serror_rate": 0.2,
         "service": "http",
         "src_bytes": 232,
         "srv_count": 5,
         "srv_diff_host_rate": 0,
         "srv_rerror_rate": 0,
         "srv_serror_rate": 0.2,
         "su_attempted": 0,
         "urgent": 0,
         "wrong_fragment": 0
        },
        {
         "_deepnote_index_column": 4,
         "class": "normal",
         "count": 30,
         "diff_srv_rate": 0,
         "dst_bytes": 420,
         "dst_host_count": 255,
         "dst_host_diff_srv_rate": 0,
         "dst_host_rerror_rate": 0,
         "dst_host_same_src_port_rate": 0,
         "dst_host_same_srv_rate": 1,
         "dst_host_serror_rate": 0,
         "dst_host_srv_count": 255,
         "dst_host_srv_diff_host_rate": 0,
         "dst_host_srv_rerror_rate": 0,
         "dst_host_srv_serror_rate": 0,
         "duration": 0,
         "flag": "SF",
         "hot": 0,
         "is_guest_login": 0,
         "is_host_login": 0,
         "land": 0,
         "logged_in": 1,
         "num_access_files": 0,
         "num_compromised": 0,
         "num_failed_logins": 0,
         "num_file_creations": 0,
         "num_outbound_cmds": 0,
         "num_root": 0,
         "num_shells": 0,
         "protocol_type": "tcp",
         "rerror_rate": 0,
         "root_shell": 0,
         "same_srv_rate": 1,
         "serror_rate": 0,
         "service": "http",
         "src_bytes": 199,
         "srv_count": 32,
         "srv_diff_host_rate": 0.09,
         "srv_rerror_rate": 0,
         "srv_serror_rate": 0,
         "su_attempted": 0,
         "urgent": 0,
         "wrong_fragment": 0
        }
       ]
      },
      "text/html": [
       "<div>\n",
       "<style scoped>\n",
       "    .dataframe tbody tr th:only-of-type {\n",
       "        vertical-align: middle;\n",
       "    }\n",
       "\n",
       "    .dataframe tbody tr th {\n",
       "        vertical-align: top;\n",
       "    }\n",
       "\n",
       "    .dataframe thead th {\n",
       "        text-align: right;\n",
       "    }\n",
       "</style>\n",
       "<table border=\"1\" class=\"dataframe\">\n",
       "  <thead>\n",
       "    <tr style=\"text-align: right;\">\n",
       "      <th></th>\n",
       "      <th>duration</th>\n",
       "      <th>protocol_type</th>\n",
       "      <th>service</th>\n",
       "      <th>flag</th>\n",
       "      <th>src_bytes</th>\n",
       "      <th>dst_bytes</th>\n",
       "      <th>land</th>\n",
       "      <th>wrong_fragment</th>\n",
       "      <th>urgent</th>\n",
       "      <th>hot</th>\n",
       "      <th>...</th>\n",
       "      <th>dst_host_srv_count</th>\n",
       "      <th>dst_host_same_srv_rate</th>\n",
       "      <th>dst_host_diff_srv_rate</th>\n",
       "      <th>dst_host_same_src_port_rate</th>\n",
       "      <th>dst_host_srv_diff_host_rate</th>\n",
       "      <th>dst_host_serror_rate</th>\n",
       "      <th>dst_host_srv_serror_rate</th>\n",
       "      <th>dst_host_rerror_rate</th>\n",
       "      <th>dst_host_srv_rerror_rate</th>\n",
       "      <th>class</th>\n",
       "    </tr>\n",
       "  </thead>\n",
       "  <tbody>\n",
       "    <tr>\n",
       "      <th>0</th>\n",
       "      <td>0</td>\n",
       "      <td>tcp</td>\n",
       "      <td>ftp_data</td>\n",
       "      <td>SF</td>\n",
       "      <td>491</td>\n",
       "      <td>0</td>\n",
       "      <td>0</td>\n",
       "      <td>0</td>\n",
       "      <td>0</td>\n",
       "      <td>0</td>\n",
       "      <td>...</td>\n",
       "      <td>25</td>\n",
       "      <td>0.17</td>\n",
       "      <td>0.03</td>\n",
       "      <td>0.17</td>\n",
       "      <td>0.00</td>\n",
       "      <td>0.00</td>\n",
       "      <td>0.00</td>\n",
       "      <td>0.05</td>\n",
       "      <td>0.00</td>\n",
       "      <td>normal</td>\n",
       "    </tr>\n",
       "    <tr>\n",
       "      <th>1</th>\n",
       "      <td>0</td>\n",
       "      <td>udp</td>\n",
       "      <td>other</td>\n",
       "      <td>SF</td>\n",
       "      <td>146</td>\n",
       "      <td>0</td>\n",
       "      <td>0</td>\n",
       "      <td>0</td>\n",
       "      <td>0</td>\n",
       "      <td>0</td>\n",
       "      <td>...</td>\n",
       "      <td>1</td>\n",
       "      <td>0.00</td>\n",
       "      <td>0.60</td>\n",
       "      <td>0.88</td>\n",
       "      <td>0.00</td>\n",
       "      <td>0.00</td>\n",
       "      <td>0.00</td>\n",
       "      <td>0.00</td>\n",
       "      <td>0.00</td>\n",
       "      <td>normal</td>\n",
       "    </tr>\n",
       "    <tr>\n",
       "      <th>2</th>\n",
       "      <td>0</td>\n",
       "      <td>tcp</td>\n",
       "      <td>private</td>\n",
       "      <td>S0</td>\n",
       "      <td>0</td>\n",
       "      <td>0</td>\n",
       "      <td>0</td>\n",
       "      <td>0</td>\n",
       "      <td>0</td>\n",
       "      <td>0</td>\n",
       "      <td>...</td>\n",
       "      <td>26</td>\n",
       "      <td>0.10</td>\n",
       "      <td>0.05</td>\n",
       "      <td>0.00</td>\n",
       "      <td>0.00</td>\n",
       "      <td>1.00</td>\n",
       "      <td>1.00</td>\n",
       "      <td>0.00</td>\n",
       "      <td>0.00</td>\n",
       "      <td>anomaly</td>\n",
       "    </tr>\n",
       "    <tr>\n",
       "      <th>3</th>\n",
       "      <td>0</td>\n",
       "      <td>tcp</td>\n",
       "      <td>http</td>\n",
       "      <td>SF</td>\n",
       "      <td>232</td>\n",
       "      <td>8153</td>\n",
       "      <td>0</td>\n",
       "      <td>0</td>\n",
       "      <td>0</td>\n",
       "      <td>0</td>\n",
       "      <td>...</td>\n",
       "      <td>255</td>\n",
       "      <td>1.00</td>\n",
       "      <td>0.00</td>\n",
       "      <td>0.03</td>\n",
       "      <td>0.04</td>\n",
       "      <td>0.03</td>\n",
       "      <td>0.01</td>\n",
       "      <td>0.00</td>\n",
       "      <td>0.01</td>\n",
       "      <td>normal</td>\n",
       "    </tr>\n",
       "    <tr>\n",
       "      <th>4</th>\n",
       "      <td>0</td>\n",
       "      <td>tcp</td>\n",
       "      <td>http</td>\n",
       "      <td>SF</td>\n",
       "      <td>199</td>\n",
       "      <td>420</td>\n",
       "      <td>0</td>\n",
       "      <td>0</td>\n",
       "      <td>0</td>\n",
       "      <td>0</td>\n",
       "      <td>...</td>\n",
       "      <td>255</td>\n",
       "      <td>1.00</td>\n",
       "      <td>0.00</td>\n",
       "      <td>0.00</td>\n",
       "      <td>0.00</td>\n",
       "      <td>0.00</td>\n",
       "      <td>0.00</td>\n",
       "      <td>0.00</td>\n",
       "      <td>0.00</td>\n",
       "      <td>normal</td>\n",
       "    </tr>\n",
       "  </tbody>\n",
       "</table>\n",
       "<p>5 rows × 42 columns</p>\n",
       "</div>"
      ],
      "text/plain": [
       "   duration protocol_type   service flag  src_bytes  dst_bytes  land  \\\n",
       "0         0           tcp  ftp_data   SF        491          0     0   \n",
       "1         0           udp     other   SF        146          0     0   \n",
       "2         0           tcp   private   S0          0          0     0   \n",
       "3         0           tcp      http   SF        232       8153     0   \n",
       "4         0           tcp      http   SF        199        420     0   \n",
       "\n",
       "   wrong_fragment  urgent  hot  ...  dst_host_srv_count  \\\n",
       "0               0       0    0  ...                  25   \n",
       "1               0       0    0  ...                   1   \n",
       "2               0       0    0  ...                  26   \n",
       "3               0       0    0  ...                 255   \n",
       "4               0       0    0  ...                 255   \n",
       "\n",
       "   dst_host_same_srv_rate  dst_host_diff_srv_rate  \\\n",
       "0                    0.17                    0.03   \n",
       "1                    0.00                    0.60   \n",
       "2                    0.10                    0.05   \n",
       "3                    1.00                    0.00   \n",
       "4                    1.00                    0.00   \n",
       "\n",
       "   dst_host_same_src_port_rate  dst_host_srv_diff_host_rate  \\\n",
       "0                         0.17                         0.00   \n",
       "1                         0.88                         0.00   \n",
       "2                         0.00                         0.00   \n",
       "3                         0.03                         0.04   \n",
       "4                         0.00                         0.00   \n",
       "\n",
       "   dst_host_serror_rate  dst_host_srv_serror_rate  dst_host_rerror_rate  \\\n",
       "0                  0.00                      0.00                  0.05   \n",
       "1                  0.00                      0.00                  0.00   \n",
       "2                  1.00                      1.00                  0.00   \n",
       "3                  0.03                      0.01                  0.00   \n",
       "4                  0.00                      0.00                  0.00   \n",
       "\n",
       "   dst_host_srv_rerror_rate    class  \n",
       "0                      0.00   normal  \n",
       "1                      0.00   normal  \n",
       "2                      0.00  anomaly  \n",
       "3                      0.01   normal  \n",
       "4                      0.00   normal  \n",
       "\n",
       "[5 rows x 42 columns]"
      ]
     },
     "execution_count": 8,
     "metadata": {},
     "output_type": "execute_result"
    }
   ],
   "source": [
    "train.head()"
   ]
  },
  {
   "cell_type": "code",
   "execution_count": 9,
   "metadata": {
    "cell_id": "d4142aeabebc4aa8af2e83bfdf77d6c1",
    "deepnote_cell_type": "code",
    "execution_context_id": "7f5673bf-8344-43a3-881f-6dc18cb8328f",
    "execution_millis": 0,
    "execution_start": 1732647134072,
    "source_hash": "fea28bdd"
   },
   "outputs": [
    {
     "name": "stdout",
     "output_type": "stream",
     "text": [
      "<class 'pandas.core.frame.DataFrame'>\n",
      "RangeIndex: 25192 entries, 0 to 25191\n",
      "Data columns (total 42 columns):\n",
      " #   Column                       Non-Null Count  Dtype  \n",
      "---  ------                       --------------  -----  \n",
      " 0   duration                     25192 non-null  int64  \n",
      " 1   protocol_type                25192 non-null  object \n",
      " 2   service                      25192 non-null  object \n",
      " 3   flag                         25192 non-null  object \n",
      " 4   src_bytes                    25192 non-null  int64  \n",
      " 5   dst_bytes                    25192 non-null  int64  \n",
      " 6   land                         25192 non-null  int64  \n",
      " 7   wrong_fragment               25192 non-null  int64  \n",
      " 8   urgent                       25192 non-null  int64  \n",
      " 9   hot                          25192 non-null  int64  \n",
      " 10  num_failed_logins            25192 non-null  int64  \n",
      " 11  logged_in                    25192 non-null  int64  \n",
      " 12  num_compromised              25192 non-null  int64  \n",
      " 13  root_shell                   25192 non-null  int64  \n",
      " 14  su_attempted                 25192 non-null  int64  \n",
      " 15  num_root                     25192 non-null  int64  \n",
      " 16  num_file_creations           25192 non-null  int64  \n",
      " 17  num_shells                   25192 non-null  int64  \n",
      " 18  num_access_files             25192 non-null  int64  \n",
      " 19  num_outbound_cmds            25192 non-null  int64  \n",
      " 20  is_host_login                25192 non-null  int64  \n",
      " 21  is_guest_login               25192 non-null  int64  \n",
      " 22  count                        25192 non-null  int64  \n",
      " 23  srv_count                    25192 non-null  int64  \n",
      " 24  serror_rate                  25192 non-null  float64\n",
      " 25  srv_serror_rate              25192 non-null  float64\n",
      " 26  rerror_rate                  25192 non-null  float64\n",
      " 27  srv_rerror_rate              25192 non-null  float64\n",
      " 28  same_srv_rate                25192 non-null  float64\n",
      " 29  diff_srv_rate                25192 non-null  float64\n",
      " 30  srv_diff_host_rate           25192 non-null  float64\n",
      " 31  dst_host_count               25192 non-null  int64  \n",
      " 32  dst_host_srv_count           25192 non-null  int64  \n",
      " 33  dst_host_same_srv_rate       25192 non-null  float64\n",
      " 34  dst_host_diff_srv_rate       25192 non-null  float64\n",
      " 35  dst_host_same_src_port_rate  25192 non-null  float64\n",
      " 36  dst_host_srv_diff_host_rate  25192 non-null  float64\n",
      " 37  dst_host_serror_rate         25192 non-null  float64\n",
      " 38  dst_host_srv_serror_rate     25192 non-null  float64\n",
      " 39  dst_host_rerror_rate         25192 non-null  float64\n",
      " 40  dst_host_srv_rerror_rate     25192 non-null  float64\n",
      " 41  class                        25192 non-null  object \n",
      "dtypes: float64(15), int64(23), object(4)\n",
      "memory usage: 8.1+ MB\n"
     ]
    }
   ],
   "source": [
    "train.info()"
   ]
  },
  {
   "cell_type": "code",
   "execution_count": 10,
   "metadata": {
    "cell_id": "80144ad0622343ef8795fd9352e6f1fd",
    "deepnote_cell_type": "code",
    "execution_context_id": "7f5673bf-8344-43a3-881f-6dc18cb8328f",
    "execution_millis": 171,
    "execution_start": 1732647134124,
    "source_hash": "3dc5e06b"
   },
   "outputs": [
    {
     "data": {
      "application/vnd.deepnote.dataframe.v3+json": {
       "column_count": 38,
       "columns": [
        {
         "dtype": "float64",
         "name": "duration",
         "stats": {
          "histogram": [
           {
            "bin_end": 4286.2,
            "bin_start": 0,
            "count": 6
           },
           {
            "bin_end": 8572.4,
            "bin_start": 4286.2,
            "count": 0
           },
           {
            "bin_end": 12858.599999999999,
            "bin_start": 8572.4,
            "count": 0
           },
           {
            "bin_end": 17144.8,
            "bin_start": 12858.599999999999,
            "count": 0
           },
           {
            "bin_end": 21431,
            "bin_start": 17144.8,
            "count": 0
           },
           {
            "bin_end": 25717.199999999997,
            "bin_start": 21431,
            "count": 1
           },
           {
            "bin_end": 30003.399999999998,
            "bin_start": 25717.199999999997,
            "count": 0
           },
           {
            "bin_end": 34289.6,
            "bin_start": 30003.399999999998,
            "count": 0
           },
           {
            "bin_end": 38575.799999999996,
            "bin_start": 34289.6,
            "count": 0
           },
           {
            "bin_end": 42862,
            "bin_start": 38575.799999999996,
            "count": 1
           }
          ],
          "max": "42862.0",
          "min": "0.0",
          "nan_count": 0,
          "unique_count": 5
         }
        },
        {
         "dtype": "float64",
         "name": "src_bytes",
         "stats": {
          "histogram": [
           {
            "bin_end": 38170909,
            "bin_start": 0,
            "count": 7
           },
           {
            "bin_end": 76341818,
            "bin_start": 38170909,
            "count": 0
           },
           {
            "bin_end": 114512727,
            "bin_start": 76341818,
            "count": 0
           },
           {
            "bin_end": 152683636,
            "bin_start": 114512727,
            "count": 0
           },
           {
            "bin_end": 190854545,
            "bin_start": 152683636,
            "count": 0
           },
           {
            "bin_end": 229025454,
            "bin_start": 190854545,
            "count": 0
           },
           {
            "bin_end": 267196363,
            "bin_start": 229025454,
            "count": 0
           },
           {
            "bin_end": 305367272,
            "bin_start": 267196363,
            "count": 0
           },
           {
            "bin_end": 343538181,
            "bin_start": 305367272,
            "count": 0
           },
           {
            "bin_end": 381709090,
            "bin_start": 343538181,
            "count": 1
           }
          ],
          "max": "381709090.0",
          "min": "0.0",
          "nan_count": 0,
          "unique_count": 7
         }
        },
        {
         "dtype": "float64",
         "name": "dst_bytes",
         "stats": {
          "histogram": [
           {
            "bin_end": 515138.5,
            "bin_start": 0,
            "count": 7
           },
           {
            "bin_end": 1030277,
            "bin_start": 515138.5,
            "count": 0
           },
           {
            "bin_end": 1545415.5,
            "bin_start": 1030277,
            "count": 0
           },
           {
            "bin_end": 2060554,
            "bin_start": 1545415.5,
            "count": 0
           },
           {
            "bin_end": 2575692.5,
            "bin_start": 2060554,
            "count": 0
           },
           {
            "bin_end": 3090831,
            "bin_start": 2575692.5,
            "count": 0
           },
           {
            "bin_end": 3605969.5,
            "bin_start": 3090831,
            "count": 0
           },
           {
            "bin_end": 4121108,
            "bin_start": 3605969.5,
            "count": 0
           },
           {
            "bin_end": 4636246.5,
            "bin_start": 4121108,
            "count": 0
           },
           {
            "bin_end": 5151385,
            "bin_start": 4636246.5,
            "count": 1
           }
          ],
          "max": "5151385.0",
          "min": "0.0",
          "nan_count": 0,
          "unique_count": 6
         }
        },
        {
         "dtype": "float64",
         "name": "land",
         "stats": {
          "histogram": [
           {
            "bin_end": 2519.2,
            "bin_start": 0,
            "count": 7
           },
           {
            "bin_end": 5038.4,
            "bin_start": 2519.2,
            "count": 0
           },
           {
            "bin_end": 7557.599999999999,
            "bin_start": 5038.4,
            "count": 0
           },
           {
            "bin_end": 10076.8,
            "bin_start": 7557.599999999999,
            "count": 0
           },
           {
            "bin_end": 12596,
            "bin_start": 10076.8,
            "count": 0
           },
           {
            "bin_end": 15115.199999999999,
            "bin_start": 12596,
            "count": 0
           },
           {
            "bin_end": 17634.399999999998,
            "bin_start": 15115.199999999999,
            "count": 0
           },
           {
            "bin_end": 20153.6,
            "bin_start": 17634.399999999998,
            "count": 0
           },
           {
            "bin_end": 22672.8,
            "bin_start": 20153.6,
            "count": 0
           },
           {
            "bin_end": 25192,
            "bin_start": 22672.8,
            "count": 1
           }
          ],
          "max": "25192.0",
          "min": "0.0",
          "nan_count": 0,
          "unique_count": 5
         }
        },
        {
         "dtype": "float64",
         "name": "wrong_fragment",
         "stats": {
          "histogram": [
           {
            "bin_end": 2519.2,
            "bin_start": 0,
            "count": 7
           },
           {
            "bin_end": 5038.4,
            "bin_start": 2519.2,
            "count": 0
           },
           {
            "bin_end": 7557.599999999999,
            "bin_start": 5038.4,
            "count": 0
           },
           {
            "bin_end": 10076.8,
            "bin_start": 7557.599999999999,
            "count": 0
           },
           {
            "bin_end": 12596,
            "bin_start": 10076.8,
            "count": 0
           },
           {
            "bin_end": 15115.199999999999,
            "bin_start": 12596,
            "count": 0
           },
           {
            "bin_end": 17634.399999999998,
            "bin_start": 15115.199999999999,
            "count": 0
           },
           {
            "bin_end": 20153.6,
            "bin_start": 17634.399999999998,
            "count": 0
           },
           {
            "bin_end": 22672.8,
            "bin_start": 20153.6,
            "count": 0
           },
           {
            "bin_end": 25192,
            "bin_start": 22672.8,
            "count": 1
           }
          ],
          "max": "25192.0",
          "min": "0.0",
          "nan_count": 0,
          "unique_count": 5
         }
        },
        {
         "dtype": "float64",
         "name": "urgent",
         "stats": {
          "histogram": [
           {
            "bin_end": 2519.2,
            "bin_start": 0,
            "count": 7
           },
           {
            "bin_end": 5038.4,
            "bin_start": 2519.2,
            "count": 0
           },
           {
            "bin_end": 7557.599999999999,
            "bin_start": 5038.4,
            "count": 0
           },
           {
            "bin_end": 10076.8,
            "bin_start": 7557.599999999999,
            "count": 0
           },
           {
            "bin_end": 12596,
            "bin_start": 10076.8,
            "count": 0
           },
           {
            "bin_end": 15115.199999999999,
            "bin_start": 12596,
            "count": 0
           },
           {
            "bin_end": 17634.399999999998,
            "bin_start": 15115.199999999999,
            "count": 0
           },
           {
            "bin_end": 20153.6,
            "bin_start": 17634.399999999998,
            "count": 0
           },
           {
            "bin_end": 22672.8,
            "bin_start": 20153.6,
            "count": 0
           },
           {
            "bin_end": 25192,
            "bin_start": 22672.8,
            "count": 1
           }
          ],
          "max": "25192.0",
          "min": "0.0",
          "nan_count": 0,
          "unique_count": 5
         }
        },
        {
         "dtype": "float64",
         "name": "hot",
         "stats": {
          "histogram": [
           {
            "bin_end": 2519.2,
            "bin_start": 0,
            "count": 7
           },
           {
            "bin_end": 5038.4,
            "bin_start": 2519.2,
            "count": 0
           },
           {
            "bin_end": 7557.599999999999,
            "bin_start": 5038.4,
            "count": 0
           },
           {
            "bin_end": 10076.8,
            "bin_start": 7557.599999999999,
            "count": 0
           },
           {
            "bin_end": 12596,
            "bin_start": 10076.8,
            "count": 0
           },
           {
            "bin_end": 15115.199999999999,
            "bin_start": 12596,
            "count": 0
           },
           {
            "bin_end": 17634.399999999998,
            "bin_start": 15115.199999999999,
            "count": 0
           },
           {
            "bin_end": 20153.6,
            "bin_start": 17634.399999999998,
            "count": 0
           },
           {
            "bin_end": 22672.8,
            "bin_start": 20153.6,
            "count": 0
           },
           {
            "bin_end": 25192,
            "bin_start": 22672.8,
            "count": 1
           }
          ],
          "max": "25192.0",
          "min": "0.0",
          "nan_count": 0,
          "unique_count": 5
         }
        },
        {
         "dtype": "float64",
         "name": "num_failed_logins",
         "stats": {
          "histogram": [
           {
            "bin_end": 2519.2,
            "bin_start": 0,
            "count": 7
           },
           {
            "bin_end": 5038.4,
            "bin_start": 2519.2,
            "count": 0
           },
           {
            "bin_end": 7557.599999999999,
            "bin_start": 5038.4,
            "count": 0
           },
           {
            "bin_end": 10076.8,
            "bin_start": 7557.599999999999,
            "count": 0
           },
           {
            "bin_end": 12596,
            "bin_start": 10076.8,
            "count": 0
           },
           {
            "bin_end": 15115.199999999999,
            "bin_start": 12596,
            "count": 0
           },
           {
            "bin_end": 17634.399999999998,
            "bin_start": 15115.199999999999,
            "count": 0
           },
           {
            "bin_end": 20153.6,
            "bin_start": 17634.399999999998,
            "count": 0
           },
           {
            "bin_end": 22672.8,
            "bin_start": 20153.6,
            "count": 0
           },
           {
            "bin_end": 25192,
            "bin_start": 22672.8,
            "count": 1
           }
          ],
          "max": "25192.0",
          "min": "0.0",
          "nan_count": 0,
          "unique_count": 5
         }
        },
        {
         "dtype": "float64",
         "name": "logged_in",
         "stats": {
          "histogram": [
           {
            "bin_end": 2519.2,
            "bin_start": 0,
            "count": 7
           },
           {
            "bin_end": 5038.4,
            "bin_start": 2519.2,
            "count": 0
           },
           {
            "bin_end": 7557.599999999999,
            "bin_start": 5038.4,
            "count": 0
           },
           {
            "bin_end": 10076.8,
            "bin_start": 7557.599999999999,
            "count": 0
           },
           {
            "bin_end": 12596,
            "bin_start": 10076.8,
            "count": 0
           },
           {
            "bin_end": 15115.199999999999,
            "bin_start": 12596,
            "count": 0
           },
           {
            "bin_end": 17634.399999999998,
            "bin_start": 15115.199999999999,
            "count": 0
           },
           {
            "bin_end": 20153.6,
            "bin_start": 17634.399999999998,
            "count": 0
           },
           {
            "bin_end": 22672.8,
            "bin_start": 20153.6,
            "count": 0
           },
           {
            "bin_end": 25192,
            "bin_start": 22672.8,
            "count": 1
           }
          ],
          "max": "25192.0",
          "min": "0.0",
          "nan_count": 0,
          "unique_count": 5
         }
        },
        {
         "dtype": "float64",
         "name": "num_compromised",
         "stats": {
          "histogram": [
           {
            "bin_end": 2519.2,
            "bin_start": 0,
            "count": 7
           },
           {
            "bin_end": 5038.4,
            "bin_start": 2519.2,
            "count": 0
           },
           {
            "bin_end": 7557.599999999999,
            "bin_start": 5038.4,
            "count": 0
           },
           {
            "bin_end": 10076.8,
            "bin_start": 7557.599999999999,
            "count": 0
           },
           {
            "bin_end": 12596,
            "bin_start": 10076.8,
            "count": 0
           },
           {
            "bin_end": 15115.199999999999,
            "bin_start": 12596,
            "count": 0
           },
           {
            "bin_end": 17634.399999999998,
            "bin_start": 15115.199999999999,
            "count": 0
           },
           {
            "bin_end": 20153.6,
            "bin_start": 17634.399999999998,
            "count": 0
           },
           {
            "bin_end": 22672.8,
            "bin_start": 20153.6,
            "count": 0
           },
           {
            "bin_end": 25192,
            "bin_start": 22672.8,
            "count": 1
           }
          ],
          "max": "25192.0",
          "min": "0.0",
          "nan_count": 0,
          "unique_count": 5
         }
        },
        {
         "dtype": "float64",
         "name": "root_shell",
         "stats": {
          "histogram": [
           {
            "bin_end": 2519.2,
            "bin_start": 0,
            "count": 7
           },
           {
            "bin_end": 5038.4,
            "bin_start": 2519.2,
            "count": 0
           },
           {
            "bin_end": 7557.599999999999,
            "bin_start": 5038.4,
            "count": 0
           },
           {
            "bin_end": 10076.8,
            "bin_start": 7557.599999999999,
            "count": 0
           },
           {
            "bin_end": 12596,
            "bin_start": 10076.8,
            "count": 0
           },
           {
            "bin_end": 15115.199999999999,
            "bin_start": 12596,
            "count": 0
           },
           {
            "bin_end": 17634.399999999998,
            "bin_start": 15115.199999999999,
            "count": 0
           },
           {
            "bin_end": 20153.6,
            "bin_start": 17634.399999999998,
            "count": 0
           },
           {
            "bin_end": 22672.8,
            "bin_start": 20153.6,
            "count": 0
           },
           {
            "bin_end": 25192,
            "bin_start": 22672.8,
            "count": 1
           }
          ],
          "max": "25192.0",
          "min": "0.0",
          "nan_count": 0,
          "unique_count": 5
         }
        },
        {
         "dtype": "float64",
         "name": "su_attempted",
         "stats": {
          "histogram": [
           {
            "bin_end": 2519.2,
            "bin_start": 0,
            "count": 7
           },
           {
            "bin_end": 5038.4,
            "bin_start": 2519.2,
            "count": 0
           },
           {
            "bin_end": 7557.599999999999,
            "bin_start": 5038.4,
            "count": 0
           },
           {
            "bin_end": 10076.8,
            "bin_start": 7557.599999999999,
            "count": 0
           },
           {
            "bin_end": 12596,
            "bin_start": 10076.8,
            "count": 0
           },
           {
            "bin_end": 15115.199999999999,
            "bin_start": 12596,
            "count": 0
           },
           {
            "bin_end": 17634.399999999998,
            "bin_start": 15115.199999999999,
            "count": 0
           },
           {
            "bin_end": 20153.6,
            "bin_start": 17634.399999999998,
            "count": 0
           },
           {
            "bin_end": 22672.8,
            "bin_start": 20153.6,
            "count": 0
           },
           {
            "bin_end": 25192,
            "bin_start": 22672.8,
            "count": 1
           }
          ],
          "max": "25192.0",
          "min": "0.0",
          "nan_count": 0,
          "unique_count": 5
         }
        },
        {
         "dtype": "float64",
         "name": "num_root",
         "stats": {
          "histogram": [
           {
            "bin_end": 2519.2,
            "bin_start": 0,
            "count": 7
           },
           {
            "bin_end": 5038.4,
            "bin_start": 2519.2,
            "count": 0
           },
           {
            "bin_end": 7557.599999999999,
            "bin_start": 5038.4,
            "count": 0
           },
           {
            "bin_end": 10076.8,
            "bin_start": 7557.599999999999,
            "count": 0
           },
           {
            "bin_end": 12596,
            "bin_start": 10076.8,
            "count": 0
           },
           {
            "bin_end": 15115.199999999999,
            "bin_start": 12596,
            "count": 0
           },
           {
            "bin_end": 17634.399999999998,
            "bin_start": 15115.199999999999,
            "count": 0
           },
           {
            "bin_end": 20153.6,
            "bin_start": 17634.399999999998,
            "count": 0
           },
           {
            "bin_end": 22672.8,
            "bin_start": 20153.6,
            "count": 0
           },
           {
            "bin_end": 25192,
            "bin_start": 22672.8,
            "count": 1
           }
          ],
          "max": "25192.0",
          "min": "0.0",
          "nan_count": 0,
          "unique_count": 5
         }
        },
        {
         "dtype": "float64",
         "name": "num_file_creations",
         "stats": {
          "histogram": [
           {
            "bin_end": 2519.2,
            "bin_start": 0,
            "count": 7
           },
           {
            "bin_end": 5038.4,
            "bin_start": 2519.2,
            "count": 0
           },
           {
            "bin_end": 7557.599999999999,
            "bin_start": 5038.4,
            "count": 0
           },
           {
            "bin_end": 10076.8,
            "bin_start": 7557.599999999999,
            "count": 0
           },
           {
            "bin_end": 12596,
            "bin_start": 10076.8,
            "count": 0
           },
           {
            "bin_end": 15115.199999999999,
            "bin_start": 12596,
            "count": 0
           },
           {
            "bin_end": 17634.399999999998,
            "bin_start": 15115.199999999999,
            "count": 0
           },
           {
            "bin_end": 20153.6,
            "bin_start": 17634.399999999998,
            "count": 0
           },
           {
            "bin_end": 22672.8,
            "bin_start": 20153.6,
            "count": 0
           },
           {
            "bin_end": 25192,
            "bin_start": 22672.8,
            "count": 1
           }
          ],
          "max": "25192.0",
          "min": "0.0",
          "nan_count": 0,
          "unique_count": 5
         }
        },
        {
         "dtype": "float64",
         "name": "num_shells",
         "stats": {
          "histogram": [
           {
            "bin_end": 2519.2,
            "bin_start": 0,
            "count": 7
           },
           {
            "bin_end": 5038.4,
            "bin_start": 2519.2,
            "count": 0
           },
           {
            "bin_end": 7557.599999999999,
            "bin_start": 5038.4,
            "count": 0
           },
           {
            "bin_end": 10076.8,
            "bin_start": 7557.599999999999,
            "count": 0
           },
           {
            "bin_end": 12596,
            "bin_start": 10076.8,
            "count": 0
           },
           {
            "bin_end": 15115.199999999999,
            "bin_start": 12596,
            "count": 0
           },
           {
            "bin_end": 17634.399999999998,
            "bin_start": 15115.199999999999,
            "count": 0
           },
           {
            "bin_end": 20153.6,
            "bin_start": 17634.399999999998,
            "count": 0
           },
           {
            "bin_end": 22672.8,
            "bin_start": 20153.6,
            "count": 0
           },
           {
            "bin_end": 25192,
            "bin_start": 22672.8,
            "count": 1
           }
          ],
          "max": "25192.0",
          "min": "0.0",
          "nan_count": 0,
          "unique_count": 5
         }
        },
        {
         "dtype": "float64",
         "name": "num_access_files",
         "stats": {
          "histogram": [
           {
            "bin_end": 2519.2,
            "bin_start": 0,
            "count": 7
           },
           {
            "bin_end": 5038.4,
            "bin_start": 2519.2,
            "count": 0
           },
           {
            "bin_end": 7557.599999999999,
            "bin_start": 5038.4,
            "count": 0
           },
           {
            "bin_end": 10076.8,
            "bin_start": 7557.599999999999,
            "count": 0
           },
           {
            "bin_end": 12596,
            "bin_start": 10076.8,
            "count": 0
           },
           {
            "bin_end": 15115.199999999999,
            "bin_start": 12596,
            "count": 0
           },
           {
            "bin_end": 17634.399999999998,
            "bin_start": 15115.199999999999,
            "count": 0
           },
           {
            "bin_end": 20153.6,
            "bin_start": 17634.399999999998,
            "count": 0
           },
           {
            "bin_end": 22672.8,
            "bin_start": 20153.6,
            "count": 0
           },
           {
            "bin_end": 25192,
            "bin_start": 22672.8,
            "count": 1
           }
          ],
          "max": "25192.0",
          "min": "0.0",
          "nan_count": 0,
          "unique_count": 5
         }
        },
        {
         "dtype": "float64",
         "name": "num_outbound_cmds",
         "stats": {
          "histogram": [
           {
            "bin_end": 2519.2,
            "bin_start": 0,
            "count": 7
           },
           {
            "bin_end": 5038.4,
            "bin_start": 2519.2,
            "count": 0
           },
           {
            "bin_end": 7557.599999999999,
            "bin_start": 5038.4,
            "count": 0
           },
           {
            "bin_end": 10076.8,
            "bin_start": 7557.599999999999,
            "count": 0
           },
           {
            "bin_end": 12596,
            "bin_start": 10076.8,
            "count": 0
           },
           {
            "bin_end": 15115.199999999999,
            "bin_start": 12596,
            "count": 0
           },
           {
            "bin_end": 17634.399999999998,
            "bin_start": 15115.199999999999,
            "count": 0
           },
           {
            "bin_end": 20153.6,
            "bin_start": 17634.399999999998,
            "count": 0
           },
           {
            "bin_end": 22672.8,
            "bin_start": 20153.6,
            "count": 0
           },
           {
            "bin_end": 25192,
            "bin_start": 22672.8,
            "count": 1
           }
          ],
          "max": "25192.0",
          "min": "0.0",
          "nan_count": 0,
          "unique_count": 2
         }
        },
        {
         "dtype": "float64",
         "name": "is_host_login",
         "stats": {
          "histogram": [
           {
            "bin_end": 2519.2,
            "bin_start": 0,
            "count": 7
           },
           {
            "bin_end": 5038.4,
            "bin_start": 2519.2,
            "count": 0
           },
           {
            "bin_end": 7557.599999999999,
            "bin_start": 5038.4,
            "count": 0
           },
           {
            "bin_end": 10076.8,
            "bin_start": 7557.599999999999,
            "count": 0
           },
           {
            "bin_end": 12596,
            "bin_start": 10076.8,
            "count": 0
           },
           {
            "bin_end": 15115.199999999999,
            "bin_start": 12596,
            "count": 0
           },
           {
            "bin_end": 17634.399999999998,
            "bin_start": 15115.199999999999,
            "count": 0
           },
           {
            "bin_end": 20153.6,
            "bin_start": 17634.399999999998,
            "count": 0
           },
           {
            "bin_end": 22672.8,
            "bin_start": 20153.6,
            "count": 0
           },
           {
            "bin_end": 25192,
            "bin_start": 22672.8,
            "count": 1
           }
          ],
          "max": "25192.0",
          "min": "0.0",
          "nan_count": 0,
          "unique_count": 2
         }
        },
        {
         "dtype": "float64",
         "name": "is_guest_login",
         "stats": {
          "histogram": [
           {
            "bin_end": 2519.2,
            "bin_start": 0,
            "count": 7
           },
           {
            "bin_end": 5038.4,
            "bin_start": 2519.2,
            "count": 0
           },
           {
            "bin_end": 7557.599999999999,
            "bin_start": 5038.4,
            "count": 0
           },
           {
            "bin_end": 10076.8,
            "bin_start": 7557.599999999999,
            "count": 0
           },
           {
            "bin_end": 12596,
            "bin_start": 10076.8,
            "count": 0
           },
           {
            "bin_end": 15115.199999999999,
            "bin_start": 12596,
            "count": 0
           },
           {
            "bin_end": 17634.399999999998,
            "bin_start": 15115.199999999999,
            "count": 0
           },
           {
            "bin_end": 20153.6,
            "bin_start": 17634.399999999998,
            "count": 0
           },
           {
            "bin_end": 22672.8,
            "bin_start": 20153.6,
            "count": 0
           },
           {
            "bin_end": 25192,
            "bin_start": 22672.8,
            "count": 1
           }
          ],
          "max": "25192.0",
          "min": "0.0",
          "nan_count": 0,
          "unique_count": 5
         }
        },
        {
         "dtype": "float64",
         "name": "count",
         "stats": {
          "histogram": [
           {
            "bin_end": 2520.1,
            "bin_start": 1,
            "count": 7
           },
           {
            "bin_end": 5039.2,
            "bin_start": 2520.1,
            "count": 0
           },
           {
            "bin_end": 7558.299999999999,
            "bin_start": 5039.2,
            "count": 0
           },
           {
            "bin_end": 10077.4,
            "bin_start": 7558.299999999999,
            "count": 0
           },
           {
            "bin_end": 12596.5,
            "bin_start": 10077.4,
            "count": 0
           },
           {
            "bin_end": 15115.599999999999,
            "bin_start": 12596.5,
            "count": 0
           },
           {
            "bin_end": 17634.7,
            "bin_start": 15115.599999999999,
            "count": 0
           },
           {
            "bin_end": 20153.8,
            "bin_start": 17634.7,
            "count": 0
           },
           {
            "bin_end": 22672.899999999998,
            "bin_start": 20153.8,
            "count": 0
           },
           {
            "bin_end": 25192,
            "bin_start": 22672.899999999998,
            "count": 1
           }
          ],
          "max": "25192.0",
          "min": "1.0",
          "nan_count": 0,
          "unique_count": 8
         }
        },
        {
         "dtype": "float64",
         "name": "srv_count",
         "stats": {
          "histogram": [
           {
            "bin_end": 2520.1,
            "bin_start": 1,
            "count": 7
           },
           {
            "bin_end": 5039.2,
            "bin_start": 2520.1,
            "count": 0
           },
           {
            "bin_end": 7558.299999999999,
            "bin_start": 5039.2,
            "count": 0
           },
           {
            "bin_end": 10077.4,
            "bin_start": 7558.299999999999,
            "count": 0
           },
           {
            "bin_end": 12596.5,
            "bin_start": 10077.4,
            "count": 0
           },
           {
            "bin_end": 15115.599999999999,
            "bin_start": 12596.5,
            "count": 0
           },
           {
            "bin_end": 17634.7,
            "bin_start": 15115.599999999999,
            "count": 0
           },
           {
            "bin_end": 20153.8,
            "bin_start": 17634.7,
            "count": 0
           },
           {
            "bin_end": 22672.899999999998,
            "bin_start": 20153.8,
            "count": 0
           },
           {
            "bin_end": 25192,
            "bin_start": 22672.899999999998,
            "count": 1
           }
          ],
          "max": "25192.0",
          "min": "1.0",
          "nan_count": 0,
          "unique_count": 8
         }
        },
        {
         "dtype": "float64",
         "name": "serror_rate",
         "stats": {
          "histogram": [
           {
            "bin_end": 2519.2,
            "bin_start": 0,
            "count": 7
           },
           {
            "bin_end": 5038.4,
            "bin_start": 2519.2,
            "count": 0
           },
           {
            "bin_end": 7557.599999999999,
            "bin_start": 5038.4,
            "count": 0
           },
           {
            "bin_end": 10076.8,
            "bin_start": 7557.599999999999,
            "count": 0
           },
           {
            "bin_end": 12596,
            "bin_start": 10076.8,
            "count": 0
           },
           {
            "bin_end": 15115.199999999999,
            "bin_start": 12596,
            "count": 0
           },
           {
            "bin_end": 17634.399999999998,
            "bin_start": 15115.199999999999,
            "count": 0
           },
           {
            "bin_end": 20153.6,
            "bin_start": 17634.399999999998,
            "count": 0
           },
           {
            "bin_end": 22672.8,
            "bin_start": 20153.6,
            "count": 0
           },
           {
            "bin_end": 25192,
            "bin_start": 22672.8,
            "count": 1
           }
          ],
          "max": "25192.0",
          "min": "0.0",
          "nan_count": 0,
          "unique_count": 5
         }
        },
        {
         "dtype": "float64",
         "name": "srv_serror_rate",
         "stats": {
          "histogram": [
           {
            "bin_end": 2519.2,
            "bin_start": 0,
            "count": 7
           },
           {
            "bin_end": 5038.4,
            "bin_start": 2519.2,
            "count": 0
           },
           {
            "bin_end": 7557.599999999999,
            "bin_start": 5038.4,
            "count": 0
           },
           {
            "bin_end": 10076.8,
            "bin_start": 7557.599999999999,
            "count": 0
           },
           {
            "bin_end": 12596,
            "bin_start": 10076.8,
            "count": 0
           },
           {
            "bin_end": 15115.199999999999,
            "bin_start": 12596,
            "count": 0
           },
           {
            "bin_end": 17634.399999999998,
            "bin_start": 15115.199999999999,
            "count": 0
           },
           {
            "bin_end": 20153.6,
            "bin_start": 17634.399999999998,
            "count": 0
           },
           {
            "bin_end": 22672.8,
            "bin_start": 20153.6,
            "count": 0
           },
           {
            "bin_end": 25192,
            "bin_start": 22672.8,
            "count": 1
           }
          ],
          "max": "25192.0",
          "min": "0.0",
          "nan_count": 0,
          "unique_count": 5
         }
        },
        {
         "dtype": "float64",
         "name": "rerror_rate",
         "stats": {
          "histogram": [
           {
            "bin_end": 2519.2,
            "bin_start": 0,
            "count": 7
           },
           {
            "bin_end": 5038.4,
            "bin_start": 2519.2,
            "count": 0
           },
           {
            "bin_end": 7557.599999999999,
            "bin_start": 5038.4,
            "count": 0
           },
           {
            "bin_end": 10076.8,
            "bin_start": 7557.599999999999,
            "count": 0
           },
           {
            "bin_end": 12596,
            "bin_start": 10076.8,
            "count": 0
           },
           {
            "bin_end": 15115.199999999999,
            "bin_start": 12596,
            "count": 0
           },
           {
            "bin_end": 17634.399999999998,
            "bin_start": 15115.199999999999,
            "count": 0
           },
           {
            "bin_end": 20153.6,
            "bin_start": 17634.399999999998,
            "count": 0
           },
           {
            "bin_end": 22672.8,
            "bin_start": 20153.6,
            "count": 0
           },
           {
            "bin_end": 25192,
            "bin_start": 22672.8,
            "count": 1
           }
          ],
          "max": "25192.0",
          "min": "0.0",
          "nan_count": 0,
          "unique_count": 5
         }
        },
        {
         "dtype": "float64",
         "name": "srv_rerror_rate",
         "stats": {
          "histogram": [
           {
            "bin_end": 2519.2,
            "bin_start": 0,
            "count": 7
           },
           {
            "bin_end": 5038.4,
            "bin_start": 2519.2,
            "count": 0
           },
           {
            "bin_end": 7557.599999999999,
            "bin_start": 5038.4,
            "count": 0
           },
           {
            "bin_end": 10076.8,
            "bin_start": 7557.599999999999,
            "count": 0
           },
           {
            "bin_end": 12596,
            "bin_start": 10076.8,
            "count": 0
           },
           {
            "bin_end": 15115.199999999999,
            "bin_start": 12596,
            "count": 0
           },
           {
            "bin_end": 17634.399999999998,
            "bin_start": 15115.199999999999,
            "count": 0
           },
           {
            "bin_end": 20153.6,
            "bin_start": 17634.399999999998,
            "count": 0
           },
           {
            "bin_end": 22672.8,
            "bin_start": 20153.6,
            "count": 0
           },
           {
            "bin_end": 25192,
            "bin_start": 22672.8,
            "count": 1
           }
          ],
          "max": "25192.0",
          "min": "0.0",
          "nan_count": 0,
          "unique_count": 5
         }
        },
        {
         "dtype": "float64",
         "name": "same_srv_rate",
         "stats": {
          "histogram": [
           {
            "bin_end": 2519.2,
            "bin_start": 0,
            "count": 7
           },
           {
            "bin_end": 5038.4,
            "bin_start": 2519.2,
            "count": 0
           },
           {
            "bin_end": 7557.599999999999,
            "bin_start": 5038.4,
            "count": 0
           },
           {
            "bin_end": 10076.8,
            "bin_start": 7557.599999999999,
            "count": 0
           },
           {
            "bin_end": 12596,
            "bin_start": 10076.8,
            "count": 0
           },
           {
            "bin_end": 15115.199999999999,
            "bin_start": 12596,
            "count": 0
           },
           {
            "bin_end": 17634.399999999998,
            "bin_start": 15115.199999999999,
            "count": 0
           },
           {
            "bin_end": 20153.6,
            "bin_start": 17634.399999999998,
            "count": 0
           },
           {
            "bin_end": 22672.8,
            "bin_start": 20153.6,
            "count": 0
           },
           {
            "bin_end": 25192,
            "bin_start": 22672.8,
            "count": 1
           }
          ],
          "max": "25192.0",
          "min": "0.0",
          "nan_count": 0,
          "unique_count": 6
         }
        },
        {
         "dtype": "float64",
         "name": "diff_srv_rate",
         "stats": {
          "histogram": [
           {
            "bin_end": 2519.2,
            "bin_start": 0,
            "count": 7
           },
           {
            "bin_end": 5038.4,
            "bin_start": 2519.2,
            "count": 0
           },
           {
            "bin_end": 7557.599999999999,
            "bin_start": 5038.4,
            "count": 0
           },
           {
            "bin_end": 10076.8,
            "bin_start": 7557.599999999999,
            "count": 0
           },
           {
            "bin_end": 12596,
            "bin_start": 10076.8,
            "count": 0
           },
           {
            "bin_end": 15115.199999999999,
            "bin_start": 12596,
            "count": 0
           },
           {
            "bin_end": 17634.399999999998,
            "bin_start": 15115.199999999999,
            "count": 0
           },
           {
            "bin_end": 20153.6,
            "bin_start": 17634.399999999998,
            "count": 0
           },
           {
            "bin_end": 22672.8,
            "bin_start": 20153.6,
            "count": 0
           },
           {
            "bin_end": 25192,
            "bin_start": 22672.8,
            "count": 1
           }
          ],
          "max": "25192.0",
          "min": "0.0",
          "nan_count": 0,
          "unique_count": 6
         }
        },
        {
         "dtype": "float64",
         "name": "srv_diff_host_rate",
         "stats": {
          "histogram": [
           {
            "bin_end": 2519.2,
            "bin_start": 0,
            "count": 7
           },
           {
            "bin_end": 5038.4,
            "bin_start": 2519.2,
            "count": 0
           },
           {
            "bin_end": 7557.599999999999,
            "bin_start": 5038.4,
            "count": 0
           },
           {
            "bin_end": 10076.8,
            "bin_start": 7557.599999999999,
            "count": 0
           },
           {
            "bin_end": 12596,
            "bin_start": 10076.8,
            "count": 0
           },
           {
            "bin_end": 15115.199999999999,
            "bin_start": 12596,
            "count": 0
           },
           {
            "bin_end": 17634.399999999998,
            "bin_start": 15115.199999999999,
            "count": 0
           },
           {
            "bin_end": 20153.6,
            "bin_start": 17634.399999999998,
            "count": 0
           },
           {
            "bin_end": 22672.8,
            "bin_start": 20153.6,
            "count": 0
           },
           {
            "bin_end": 25192,
            "bin_start": 22672.8,
            "count": 1
           }
          ],
          "max": "25192.0",
          "min": "0.0",
          "nan_count": 0,
          "unique_count": 5
         }
        },
        {
         "dtype": "float64",
         "name": "dst_host_count",
         "stats": {
          "histogram": [
           {
            "bin_end": 2519.2,
            "bin_start": 0,
            "count": 7
           },
           {
            "bin_end": 5038.4,
            "bin_start": 2519.2,
            "count": 0
           },
           {
            "bin_end": 7557.599999999999,
            "bin_start": 5038.4,
            "count": 0
           },
           {
            "bin_end": 10076.8,
            "bin_start": 7557.599999999999,
            "count": 0
           },
           {
            "bin_end": 12596,
            "bin_start": 10076.8,
            "count": 0
           },
           {
            "bin_end": 15115.199999999999,
            "bin_start": 12596,
            "count": 0
           },
           {
            "bin_end": 17634.399999999998,
            "bin_start": 15115.199999999999,
            "count": 0
           },
           {
            "bin_end": 20153.6,
            "bin_start": 17634.399999999998,
            "count": 0
           },
           {
            "bin_end": 22672.8,
            "bin_start": 20153.6,
            "count": 0
           },
           {
            "bin_end": 25192,
            "bin_start": 22672.8,
            "count": 1
           }
          ],
          "max": "25192.0",
          "min": "0.0",
          "nan_count": 0,
          "unique_count": 6
         }
        },
        {
         "dtype": "float64",
         "name": "dst_host_srv_count",
         "stats": {
          "histogram": [
           {
            "bin_end": 2519.2,
            "bin_start": 0,
            "count": 7
           },
           {
            "bin_end": 5038.4,
            "bin_start": 2519.2,
            "count": 0
           },
           {
            "bin_end": 7557.599999999999,
            "bin_start": 5038.4,
            "count": 0
           },
           {
            "bin_end": 10076.8,
            "bin_start": 7557.599999999999,
            "count": 0
           },
           {
            "bin_end": 12596,
            "bin_start": 10076.8,
            "count": 0
           },
           {
            "bin_end": 15115.199999999999,
            "bin_start": 12596,
            "count": 0
           },
           {
            "bin_end": 17634.399999999998,
            "bin_start": 15115.199999999999,
            "count": 0
           },
           {
            "bin_end": 20153.6,
            "bin_start": 17634.399999999998,
            "count": 0
           },
           {
            "bin_end": 22672.8,
            "bin_start": 20153.6,
            "count": 0
           },
           {
            "bin_end": 25192,
            "bin_start": 22672.8,
            "count": 1
           }
          ],
          "max": "25192.0",
          "min": "0.0",
          "nan_count": 0,
          "unique_count": 7
         }
        },
        {
         "dtype": "float64",
         "name": "dst_host_same_srv_rate",
         "stats": {
          "histogram": [
           {
            "bin_end": 2519.2,
            "bin_start": 0,
            "count": 7
           },
           {
            "bin_end": 5038.4,
            "bin_start": 2519.2,
            "count": 0
           },
           {
            "bin_end": 7557.599999999999,
            "bin_start": 5038.4,
            "count": 0
           },
           {
            "bin_end": 10076.8,
            "bin_start": 7557.599999999999,
            "count": 0
           },
           {
            "bin_end": 12596,
            "bin_start": 10076.8,
            "count": 0
           },
           {
            "bin_end": 15115.199999999999,
            "bin_start": 12596,
            "count": 0
           },
           {
            "bin_end": 17634.399999999998,
            "bin_start": 15115.199999999999,
            "count": 0
           },
           {
            "bin_end": 20153.6,
            "bin_start": 17634.399999999998,
            "count": 0
           },
           {
            "bin_end": 22672.8,
            "bin_start": 20153.6,
            "count": 0
           },
           {
            "bin_end": 25192,
            "bin_start": 22672.8,
            "count": 1
           }
          ],
          "max": "25192.0",
          "min": "0.0",
          "nan_count": 0,
          "unique_count": 7
         }
        },
        {
         "dtype": "float64",
         "name": "dst_host_diff_srv_rate",
         "stats": {
          "histogram": [
           {
            "bin_end": 2519.2,
            "bin_start": 0,
            "count": 7
           },
           {
            "bin_end": 5038.4,
            "bin_start": 2519.2,
            "count": 0
           },
           {
            "bin_end": 7557.599999999999,
            "bin_start": 5038.4,
            "count": 0
           },
           {
            "bin_end": 10076.8,
            "bin_start": 7557.599999999999,
            "count": 0
           },
           {
            "bin_end": 12596,
            "bin_start": 10076.8,
            "count": 0
           },
           {
            "bin_end": 15115.199999999999,
            "bin_start": 12596,
            "count": 0
           },
           {
            "bin_end": 17634.399999999998,
            "bin_start": 15115.199999999999,
            "count": 0
           },
           {
            "bin_end": 20153.6,
            "bin_start": 17634.399999999998,
            "count": 0
           },
           {
            "bin_end": 22672.8,
            "bin_start": 20153.6,
            "count": 0
           },
           {
            "bin_end": 25192,
            "bin_start": 22672.8,
            "count": 1
           }
          ],
          "max": "25192.0",
          "min": "0.0",
          "nan_count": 0,
          "unique_count": 7
         }
        },
        {
         "dtype": "float64",
         "name": "dst_host_same_src_port_rate",
         "stats": {
          "histogram": [
           {
            "bin_end": 2519.2,
            "bin_start": 0,
            "count": 7
           },
           {
            "bin_end": 5038.4,
            "bin_start": 2519.2,
            "count": 0
           },
           {
            "bin_end": 7557.599999999999,
            "bin_start": 5038.4,
            "count": 0
           },
           {
            "bin_end": 10076.8,
            "bin_start": 7557.599999999999,
            "count": 0
           },
           {
            "bin_end": 12596,
            "bin_start": 10076.8,
            "count": 0
           },
           {
            "bin_end": 15115.199999999999,
            "bin_start": 12596,
            "count": 0
           },
           {
            "bin_end": 17634.399999999998,
            "bin_start": 15115.199999999999,
            "count": 0
           },
           {
            "bin_end": 20153.6,
            "bin_start": 17634.399999999998,
            "count": 0
           },
           {
            "bin_end": 22672.8,
            "bin_start": 20153.6,
            "count": 0
           },
           {
            "bin_end": 25192,
            "bin_start": 22672.8,
            "count": 1
           }
          ],
          "max": "25192.0",
          "min": "0.0",
          "nan_count": 0,
          "unique_count": 6
         }
        },
        {
         "dtype": "float64",
         "name": "dst_host_srv_diff_host_rate",
         "stats": {
          "histogram": [
           {
            "bin_end": 2519.2,
            "bin_start": 0,
            "count": 7
           },
           {
            "bin_end": 5038.4,
            "bin_start": 2519.2,
            "count": 0
           },
           {
            "bin_end": 7557.599999999999,
            "bin_start": 5038.4,
            "count": 0
           },
           {
            "bin_end": 10076.8,
            "bin_start": 7557.599999999999,
            "count": 0
           },
           {
            "bin_end": 12596,
            "bin_start": 10076.8,
            "count": 0
           },
           {
            "bin_end": 15115.199999999999,
            "bin_start": 12596,
            "count": 0
           },
           {
            "bin_end": 17634.399999999998,
            "bin_start": 15115.199999999999,
            "count": 0
           },
           {
            "bin_end": 20153.6,
            "bin_start": 17634.399999999998,
            "count": 0
           },
           {
            "bin_end": 22672.8,
            "bin_start": 20153.6,
            "count": 0
           },
           {
            "bin_end": 25192,
            "bin_start": 22672.8,
            "count": 1
           }
          ],
          "max": "25192.0",
          "min": "0.0",
          "nan_count": 0,
          "unique_count": 6
         }
        },
        {
         "dtype": "float64",
         "name": "dst_host_serror_rate",
         "stats": {
          "histogram": [
           {
            "bin_end": 2519.2,
            "bin_start": 0,
            "count": 7
           },
           {
            "bin_end": 5038.4,
            "bin_start": 2519.2,
            "count": 0
           },
           {
            "bin_end": 7557.599999999999,
            "bin_start": 5038.4,
            "count": 0
           },
           {
            "bin_end": 10076.8,
            "bin_start": 7557.599999999999,
            "count": 0
           },
           {
            "bin_end": 12596,
            "bin_start": 10076.8,
            "count": 0
           },
           {
            "bin_end": 15115.199999999999,
            "bin_start": 12596,
            "count": 0
           },
           {
            "bin_end": 17634.399999999998,
            "bin_start": 15115.199999999999,
            "count": 0
           },
           {
            "bin_end": 20153.6,
            "bin_start": 17634.399999999998,
            "count": 0
           },
           {
            "bin_end": 22672.8,
            "bin_start": 20153.6,
            "count": 0
           },
           {
            "bin_end": 25192,
            "bin_start": 22672.8,
            "count": 1
           }
          ],
          "max": "25192.0",
          "min": "0.0",
          "nan_count": 0,
          "unique_count": 5
         }
        },
        {
         "dtype": "float64",
         "name": "dst_host_srv_serror_rate",
         "stats": {
          "histogram": [
           {
            "bin_end": 2519.2,
            "bin_start": 0,
            "count": 7
           },
           {
            "bin_end": 5038.4,
            "bin_start": 2519.2,
            "count": 0
           },
           {
            "bin_end": 7557.599999999999,
            "bin_start": 5038.4,
            "count": 0
           },
           {
            "bin_end": 10076.8,
            "bin_start": 7557.599999999999,
            "count": 0
           },
           {
            "bin_end": 12596,
            "bin_start": 10076.8,
            "count": 0
           },
           {
            "bin_end": 15115.199999999999,
            "bin_start": 12596,
            "count": 0
           },
           {
            "bin_end": 17634.399999999998,
            "bin_start": 15115.199999999999,
            "count": 0
           },
           {
            "bin_end": 20153.6,
            "bin_start": 17634.399999999998,
            "count": 0
           },
           {
            "bin_end": 22672.8,
            "bin_start": 20153.6,
            "count": 0
           },
           {
            "bin_end": 25192,
            "bin_start": 22672.8,
            "count": 1
           }
          ],
          "max": "25192.0",
          "min": "0.0",
          "nan_count": 0,
          "unique_count": 5
         }
        },
        {
         "dtype": "float64",
         "name": "dst_host_rerror_rate",
         "stats": {
          "histogram": [
           {
            "bin_end": 2519.2,
            "bin_start": 0,
            "count": 7
           },
           {
            "bin_end": 5038.4,
            "bin_start": 2519.2,
            "count": 0
           },
           {
            "bin_end": 7557.599999999999,
            "bin_start": 5038.4,
            "count": 0
           },
           {
            "bin_end": 10076.8,
            "bin_start": 7557.599999999999,
            "count": 0
           },
           {
            "bin_end": 12596,
            "bin_start": 10076.8,
            "count": 0
           },
           {
            "bin_end": 15115.199999999999,
            "bin_start": 12596,
            "count": 0
           },
           {
            "bin_end": 17634.399999999998,
            "bin_start": 15115.199999999999,
            "count": 0
           },
           {
            "bin_end": 20153.6,
            "bin_start": 17634.399999999998,
            "count": 0
           },
           {
            "bin_end": 22672.8,
            "bin_start": 20153.6,
            "count": 0
           },
           {
            "bin_end": 25192,
            "bin_start": 22672.8,
            "count": 1
           }
          ],
          "max": "25192.0",
          "min": "0.0",
          "nan_count": 0,
          "unique_count": 5
         }
        },
        {
         "dtype": "float64",
         "name": "dst_host_srv_rerror_rate",
         "stats": {
          "histogram": [
           {
            "bin_end": 2519.2,
            "bin_start": 0,
            "count": 7
           },
           {
            "bin_end": 5038.4,
            "bin_start": 2519.2,
            "count": 0
           },
           {
            "bin_end": 7557.599999999999,
            "bin_start": 5038.4,
            "count": 0
           },
           {
            "bin_end": 10076.8,
            "bin_start": 7557.599999999999,
            "count": 0
           },
           {
            "bin_end": 12596,
            "bin_start": 10076.8,
            "count": 0
           },
           {
            "bin_end": 15115.199999999999,
            "bin_start": 12596,
            "count": 0
           },
           {
            "bin_end": 17634.399999999998,
            "bin_start": 15115.199999999999,
            "count": 0
           },
           {
            "bin_end": 20153.6,
            "bin_start": 17634.399999999998,
            "count": 0
           },
           {
            "bin_end": 22672.8,
            "bin_start": 20153.6,
            "count": 0
           },
           {
            "bin_end": 25192,
            "bin_start": 22672.8,
            "count": 1
           }
          ],
          "max": "25192.0",
          "min": "0.0",
          "nan_count": 0,
          "unique_count": 5
         }
        },
        {
         "dtype": "object",
         "name": "_deepnote_index_column"
        }
       ],
       "row_count": 8,
       "rows": [
        {
         "_deepnote_index_column": "count",
         "count": 25192,
         "diff_srv_rate": 25192,
         "dst_bytes": 25192,
         "dst_host_count": 25192,
         "dst_host_diff_srv_rate": 25192,
         "dst_host_rerror_rate": 25192,
         "dst_host_same_src_port_rate": 25192,
         "dst_host_same_srv_rate": 25192,
         "dst_host_serror_rate": 25192,
         "dst_host_srv_count": 25192,
         "dst_host_srv_diff_host_rate": 25192,
         "dst_host_srv_rerror_rate": 25192,
         "dst_host_srv_serror_rate": 25192,
         "duration": 25192,
         "hot": 25192,
         "is_guest_login": 25192,
         "is_host_login": 25192,
         "land": 25192,
         "logged_in": 25192,
         "num_access_files": 25192,
         "num_compromised": 25192,
         "num_failed_logins": 25192,
         "num_file_creations": 25192,
         "num_outbound_cmds": 25192,
         "num_root": 25192,
         "num_shells": 25192,
         "rerror_rate": 25192,
         "root_shell": 25192,
         "same_srv_rate": 25192,
         "serror_rate": 25192,
         "src_bytes": 25192,
         "srv_count": 25192,
         "srv_diff_host_rate": 25192,
         "srv_rerror_rate": 25192,
         "srv_serror_rate": 25192,
         "su_attempted": 25192,
         "urgent": 25192,
         "wrong_fragment": 25192
        },
        {
         "_deepnote_index_column": "mean",
         "count": 84.59117973959987,
         "diff_srv_rate": 0.062363051762464275,
         "dst_bytes": 3491.8471737059385,
         "dst_host_count": 182.53207367418227,
         "dst_host_diff_srv_rate": 0.08253850428707526,
         "dst_host_rerror_rate": 0.11780009526833916,
         "dst_host_same_src_port_rate": 0.1474527627818355,
         "dst_host_same_srv_rate": 0.5197908066052715,
         "dst_host_serror_rate": 0.28580025404890447,
         "dst_host_srv_count": 115.06303588440775,
         "dst_host_srv_diff_host_rate": 0.0318442362654811,
         "dst_host_srv_rerror_rate": 0.1187694506192442,
         "dst_host_srv_serror_rate": 0.27984637980311217,
         "duration": 305.05410447761193,
         "hot": 0.19803906001905366,
         "is_guest_login": 0.009129882502381708,
         "is_host_login": 0,
         "land": 0.00007939028262940616,
         "logged_in": 0.3947681803747221,
         "num_access_files": 0.004326770403302636,
         "num_compromised": 0.22785011114639567,
         "num_failed_logins": 0.0011908542394410925,
         "num_file_creations": 0.014726897427754843,
         "num_outbound_cmds": 0,
         "num_root": 0.2498412194347412,
         "num_shells": 0.0003572562718323277,
         "rerror_rate": 0.11863012067322959,
         "root_shell": 0.0015481105112734202,
         "same_srv_rate": 0.660558907589711,
         "serror_rate": 0.28633772626230547,
         "src_bytes": 24330.628215306446,
         "srv_count": 27.69875357256272,
         "srv_diff_host_rate": 0.09593085106382979,
         "srv_rerror_rate": 0.12026040012702445,
         "srv_serror_rate": 0.28376230549380754,
         "su_attempted": 0.0013496348046999047,
         "urgent": 0.00003969514131470308,
         "wrong_fragment": 0.023737694506192442
        },
        {
         "_deepnote_index_column": "std",
         "count": 114.67345089343645,
         "diff_srv_rate": 0.1785499961593988,
         "dst_bytes": 88830.71832952298,
         "dst_host_count": 98.99389515528125,
         "dst_host_diff_srv_rate": 0.1871911135359112,
         "dst_host_rerror_rate": 0.3058692456687719,
         "dst_host_same_src_port_rate": 0.3083665910878398,
         "dst_host_same_srv_rate": 0.44894391743819856,
         "dst_host_serror_rate": 0.44531647511154454,
         "dst_host_srv_count": 110.64685035369344,
         "dst_host_srv_diff_host_rate": 0.11057496885808364,
         "dst_host_srv_rerror_rate": 0.3173334682460084,
         "dst_host_srv_serror_rate": 0.4460753261474883,
         "duration": 2686.555640061753,
         "hot": 2.1542017672082707,
         "is_guest_login": 0.0951151242722575,
         "is_host_login": 0,
         "land": 0.008909945628106692,
         "logged_in": 0.4888105448194258,
         "num_access_files": 0.0985239767756256,
         "num_compromised": 10.41735203721135,
         "num_failed_logins": 0.045418180259924675,
         "num_file_creations": 0.5296023001894312,
         "num_outbound_cmds": 0,
         "num_root": 11.500841797387885,
         "num_shells": 0.018898222578410367,
         "rerror_rate": 0.31874547077645493,
         "root_shell": 0.03931634806138914,
         "same_srv_rate": 0.43963738032975064,
         "serror_rate": 0.4473123226849905,
         "src_bytes": 2410805.402027758,
         "srv_count": 72.46824199226837,
         "srv_diff_host_rate": 0.2565828468853858,
         "srv_rerror_rate": 0.3223353518727589,
         "srv_serror_rate": 0.44759890774142586,
         "su_attempted": 0.04878505343315363,
         "urgent": 0.006300408027636232,
         "wrong_fragment": 0.26022077717098957
        },
        {
         "_deepnote_index_column": "min",
         "count": 1,
         "diff_srv_rate": 0,
         "dst_bytes": 0,
         "dst_host_count": 0,
         "dst_host_diff_srv_rate": 0,
         "dst_host_rerror_rate": 0,
         "dst_host_same_src_port_rate": 0,
         "dst_host_same_srv_rate": 0,
         "dst_host_serror_rate": 0,
         "dst_host_srv_count": 0,
         "dst_host_srv_diff_host_rate": 0,
         "dst_host_srv_rerror_rate": 0,
         "dst_host_srv_serror_rate": 0,
         "duration": 0,
         "hot": 0,
         "is_guest_login": 0,
         "is_host_login": 0,
         "land": 0,
         "logged_in": 0,
         "num_access_files": 0,
         "num_compromised": 0,
         "num_failed_logins": 0,
         "num_file_creations": 0,
         "num_outbound_cmds": 0,
         "num_root": 0,
         "num_shells": 0,
         "rerror_rate": 0,
         "root_shell": 0,
         "same_srv_rate": 0,
         "serror_rate": 0,
         "src_bytes": 0,
         "srv_count": 1,
         "srv_diff_host_rate": 0,
         "srv_rerror_rate": 0,
         "srv_serror_rate": 0,
         "su_attempted": 0,
         "urgent": 0,
         "wrong_fragment": 0
        },
        {
         "_deepnote_index_column": "25%",
         "count": 2,
         "diff_srv_rate": 0,
         "dst_bytes": 0,
         "dst_host_count": 84,
         "dst_host_diff_srv_rate": 0,
         "dst_host_rerror_rate": 0,
         "dst_host_same_src_port_rate": 0,
         "dst_host_same_srv_rate": 0.05,
         "dst_host_serror_rate": 0,
         "dst_host_srv_count": 10,
         "dst_host_srv_diff_host_rate": 0,
         "dst_host_srv_rerror_rate": 0,
         "dst_host_srv_serror_rate": 0,
         "duration": 0,
         "hot": 0,
         "is_guest_login": 0,
         "is_host_login": 0,
         "land": 0,
         "logged_in": 0,
         "num_access_files": 0,
         "num_compromised": 0,
         "num_failed_logins": 0,
         "num_file_creations": 0,
         "num_outbound_cmds": 0,
         "num_root": 0,
         "num_shells": 0,
         "rerror_rate": 0,
         "root_shell": 0,
         "same_srv_rate": 0.09,
         "serror_rate": 0,
         "src_bytes": 0,
         "srv_count": 2,
         "srv_diff_host_rate": 0,
         "srv_rerror_rate": 0,
         "srv_serror_rate": 0,
         "su_attempted": 0,
         "urgent": 0,
         "wrong_fragment": 0
        },
        {
         "_deepnote_index_column": "50%",
         "count": 14,
         "diff_srv_rate": 0,
         "dst_bytes": 0,
         "dst_host_count": 255,
         "dst_host_diff_srv_rate": 0.03,
         "dst_host_rerror_rate": 0,
         "dst_host_same_src_port_rate": 0,
         "dst_host_same_srv_rate": 0.51,
         "dst_host_serror_rate": 0,
         "dst_host_srv_count": 61,
         "dst_host_srv_diff_host_rate": 0,
         "dst_host_srv_rerror_rate": 0,
         "dst_host_srv_serror_rate": 0,
         "duration": 0,
         "hot": 0,
         "is_guest_login": 0,
         "is_host_login": 0,
         "land": 0,
         "logged_in": 0,
         "num_access_files": 0,
         "num_compromised": 0,
         "num_failed_logins": 0,
         "num_file_creations": 0,
         "num_outbound_cmds": 0,
         "num_root": 0,
         "num_shells": 0,
         "rerror_rate": 0,
         "root_shell": 0,
         "same_srv_rate": 1,
         "serror_rate": 0,
         "src_bytes": 44,
         "srv_count": 8,
         "srv_diff_host_rate": 0,
         "srv_rerror_rate": 0,
         "srv_serror_rate": 0,
         "su_attempted": 0,
         "urgent": 0,
         "wrong_fragment": 0
        },
        {
         "_deepnote_index_column": "75%",
         "count": 144,
         "diff_srv_rate": 0.06,
         "dst_bytes": 530.25,
         "dst_host_count": 255,
         "dst_host_diff_srv_rate": 0.07,
         "dst_host_rerror_rate": 0,
         "dst_host_same_src_port_rate": 0.06,
         "dst_host_same_srv_rate": 1,
         "dst_host_serror_rate": 1,
         "dst_host_srv_count": 255,
         "dst_host_srv_diff_host_rate": 0.02,
         "dst_host_srv_rerror_rate": 0,
         "dst_host_srv_serror_rate": 1,
         "duration": 0,
         "hot": 0,
         "is_guest_login": 0,
         "is_host_login": 0,
         "land": 0,
         "logged_in": 1,
         "num_access_files": 0,
         "num_compromised": 0,
         "num_failed_logins": 0,
         "num_file_creations": 0,
         "num_outbound_cmds": 0,
         "num_root": 0,
         "num_shells": 0,
         "rerror_rate": 0,
         "root_shell": 0,
         "same_srv_rate": 1,
         "serror_rate": 1,
         "src_bytes": 279,
         "srv_count": 18,
         "srv_diff_host_rate": 0,
         "srv_rerror_rate": 0,
         "srv_serror_rate": 1,
         "su_attempted": 0,
         "urgent": 0,
         "wrong_fragment": 0
        },
        {
         "_deepnote_index_column": "max",
         "count": 511,
         "diff_srv_rate": 1,
         "dst_bytes": 5151385,
         "dst_host_count": 255,
         "dst_host_diff_srv_rate": 1,
         "dst_host_rerror_rate": 1,
         "dst_host_same_src_port_rate": 1,
         "dst_host_same_srv_rate": 1,
         "dst_host_serror_rate": 1,
         "dst_host_srv_count": 255,
         "dst_host_srv_diff_host_rate": 1,
         "dst_host_srv_rerror_rate": 1,
         "dst_host_srv_serror_rate": 1,
         "duration": 42862,
         "hot": 77,
         "is_guest_login": 1,
         "is_host_login": 0,
         "land": 1,
         "logged_in": 1,
         "num_access_files": 8,
         "num_compromised": 884,
         "num_failed_logins": 4,
         "num_file_creations": 40,
         "num_outbound_cmds": 0,
         "num_root": 975,
         "num_shells": 1,
         "rerror_rate": 1,
         "root_shell": 1,
         "same_srv_rate": 1,
         "serror_rate": 1,
         "src_bytes": 381709090,
         "srv_count": 511,
         "srv_diff_host_rate": 1,
         "srv_rerror_rate": 1,
         "srv_serror_rate": 1,
         "su_attempted": 2,
         "urgent": 1,
         "wrong_fragment": 3
        }
       ]
      },
      "text/html": [
       "<div>\n",
       "<style scoped>\n",
       "    .dataframe tbody tr th:only-of-type {\n",
       "        vertical-align: middle;\n",
       "    }\n",
       "\n",
       "    .dataframe tbody tr th {\n",
       "        vertical-align: top;\n",
       "    }\n",
       "\n",
       "    .dataframe thead th {\n",
       "        text-align: right;\n",
       "    }\n",
       "</style>\n",
       "<table border=\"1\" class=\"dataframe\">\n",
       "  <thead>\n",
       "    <tr style=\"text-align: right;\">\n",
       "      <th></th>\n",
       "      <th>duration</th>\n",
       "      <th>src_bytes</th>\n",
       "      <th>dst_bytes</th>\n",
       "      <th>land</th>\n",
       "      <th>wrong_fragment</th>\n",
       "      <th>urgent</th>\n",
       "      <th>hot</th>\n",
       "      <th>num_failed_logins</th>\n",
       "      <th>logged_in</th>\n",
       "      <th>num_compromised</th>\n",
       "      <th>...</th>\n",
       "      <th>dst_host_count</th>\n",
       "      <th>dst_host_srv_count</th>\n",
       "      <th>dst_host_same_srv_rate</th>\n",
       "      <th>dst_host_diff_srv_rate</th>\n",
       "      <th>dst_host_same_src_port_rate</th>\n",
       "      <th>dst_host_srv_diff_host_rate</th>\n",
       "      <th>dst_host_serror_rate</th>\n",
       "      <th>dst_host_srv_serror_rate</th>\n",
       "      <th>dst_host_rerror_rate</th>\n",
       "      <th>dst_host_srv_rerror_rate</th>\n",
       "    </tr>\n",
       "  </thead>\n",
       "  <tbody>\n",
       "    <tr>\n",
       "      <th>count</th>\n",
       "      <td>25192.000000</td>\n",
       "      <td>2.519200e+04</td>\n",
       "      <td>2.519200e+04</td>\n",
       "      <td>25192.000000</td>\n",
       "      <td>25192.000000</td>\n",
       "      <td>25192.00000</td>\n",
       "      <td>25192.000000</td>\n",
       "      <td>25192.000000</td>\n",
       "      <td>25192.000000</td>\n",
       "      <td>25192.000000</td>\n",
       "      <td>...</td>\n",
       "      <td>25192.000000</td>\n",
       "      <td>25192.000000</td>\n",
       "      <td>25192.000000</td>\n",
       "      <td>25192.000000</td>\n",
       "      <td>25192.000000</td>\n",
       "      <td>25192.000000</td>\n",
       "      <td>25192.000000</td>\n",
       "      <td>25192.000000</td>\n",
       "      <td>25192.000000</td>\n",
       "      <td>25192.000000</td>\n",
       "    </tr>\n",
       "    <tr>\n",
       "      <th>mean</th>\n",
       "      <td>305.054104</td>\n",
       "      <td>2.433063e+04</td>\n",
       "      <td>3.491847e+03</td>\n",
       "      <td>0.000079</td>\n",
       "      <td>0.023738</td>\n",
       "      <td>0.00004</td>\n",
       "      <td>0.198039</td>\n",
       "      <td>0.001191</td>\n",
       "      <td>0.394768</td>\n",
       "      <td>0.227850</td>\n",
       "      <td>...</td>\n",
       "      <td>182.532074</td>\n",
       "      <td>115.063036</td>\n",
       "      <td>0.519791</td>\n",
       "      <td>0.082539</td>\n",
       "      <td>0.147453</td>\n",
       "      <td>0.031844</td>\n",
       "      <td>0.285800</td>\n",
       "      <td>0.279846</td>\n",
       "      <td>0.117800</td>\n",
       "      <td>0.118769</td>\n",
       "    </tr>\n",
       "    <tr>\n",
       "      <th>std</th>\n",
       "      <td>2686.555640</td>\n",
       "      <td>2.410805e+06</td>\n",
       "      <td>8.883072e+04</td>\n",
       "      <td>0.008910</td>\n",
       "      <td>0.260221</td>\n",
       "      <td>0.00630</td>\n",
       "      <td>2.154202</td>\n",
       "      <td>0.045418</td>\n",
       "      <td>0.488811</td>\n",
       "      <td>10.417352</td>\n",
       "      <td>...</td>\n",
       "      <td>98.993895</td>\n",
       "      <td>110.646850</td>\n",
       "      <td>0.448944</td>\n",
       "      <td>0.187191</td>\n",
       "      <td>0.308367</td>\n",
       "      <td>0.110575</td>\n",
       "      <td>0.445316</td>\n",
       "      <td>0.446075</td>\n",
       "      <td>0.305869</td>\n",
       "      <td>0.317333</td>\n",
       "    </tr>\n",
       "    <tr>\n",
       "      <th>min</th>\n",
       "      <td>0.000000</td>\n",
       "      <td>0.000000e+00</td>\n",
       "      <td>0.000000e+00</td>\n",
       "      <td>0.000000</td>\n",
       "      <td>0.000000</td>\n",
       "      <td>0.00000</td>\n",
       "      <td>0.000000</td>\n",
       "      <td>0.000000</td>\n",
       "      <td>0.000000</td>\n",
       "      <td>0.000000</td>\n",
       "      <td>...</td>\n",
       "      <td>0.000000</td>\n",
       "      <td>0.000000</td>\n",
       "      <td>0.000000</td>\n",
       "      <td>0.000000</td>\n",
       "      <td>0.000000</td>\n",
       "      <td>0.000000</td>\n",
       "      <td>0.000000</td>\n",
       "      <td>0.000000</td>\n",
       "      <td>0.000000</td>\n",
       "      <td>0.000000</td>\n",
       "    </tr>\n",
       "    <tr>\n",
       "      <th>25%</th>\n",
       "      <td>0.000000</td>\n",
       "      <td>0.000000e+00</td>\n",
       "      <td>0.000000e+00</td>\n",
       "      <td>0.000000</td>\n",
       "      <td>0.000000</td>\n",
       "      <td>0.00000</td>\n",
       "      <td>0.000000</td>\n",
       "      <td>0.000000</td>\n",
       "      <td>0.000000</td>\n",
       "      <td>0.000000</td>\n",
       "      <td>...</td>\n",
       "      <td>84.000000</td>\n",
       "      <td>10.000000</td>\n",
       "      <td>0.050000</td>\n",
       "      <td>0.000000</td>\n",
       "      <td>0.000000</td>\n",
       "      <td>0.000000</td>\n",
       "      <td>0.000000</td>\n",
       "      <td>0.000000</td>\n",
       "      <td>0.000000</td>\n",
       "      <td>0.000000</td>\n",
       "    </tr>\n",
       "    <tr>\n",
       "      <th>50%</th>\n",
       "      <td>0.000000</td>\n",
       "      <td>4.400000e+01</td>\n",
       "      <td>0.000000e+00</td>\n",
       "      <td>0.000000</td>\n",
       "      <td>0.000000</td>\n",
       "      <td>0.00000</td>\n",
       "      <td>0.000000</td>\n",
       "      <td>0.000000</td>\n",
       "      <td>0.000000</td>\n",
       "      <td>0.000000</td>\n",
       "      <td>...</td>\n",
       "      <td>255.000000</td>\n",
       "      <td>61.000000</td>\n",
       "      <td>0.510000</td>\n",
       "      <td>0.030000</td>\n",
       "      <td>0.000000</td>\n",
       "      <td>0.000000</td>\n",
       "      <td>0.000000</td>\n",
       "      <td>0.000000</td>\n",
       "      <td>0.000000</td>\n",
       "      <td>0.000000</td>\n",
       "    </tr>\n",
       "    <tr>\n",
       "      <th>75%</th>\n",
       "      <td>0.000000</td>\n",
       "      <td>2.790000e+02</td>\n",
       "      <td>5.302500e+02</td>\n",
       "      <td>0.000000</td>\n",
       "      <td>0.000000</td>\n",
       "      <td>0.00000</td>\n",
       "      <td>0.000000</td>\n",
       "      <td>0.000000</td>\n",
       "      <td>1.000000</td>\n",
       "      <td>0.000000</td>\n",
       "      <td>...</td>\n",
       "      <td>255.000000</td>\n",
       "      <td>255.000000</td>\n",
       "      <td>1.000000</td>\n",
       "      <td>0.070000</td>\n",
       "      <td>0.060000</td>\n",
       "      <td>0.020000</td>\n",
       "      <td>1.000000</td>\n",
       "      <td>1.000000</td>\n",
       "      <td>0.000000</td>\n",
       "      <td>0.000000</td>\n",
       "    </tr>\n",
       "    <tr>\n",
       "      <th>max</th>\n",
       "      <td>42862.000000</td>\n",
       "      <td>3.817091e+08</td>\n",
       "      <td>5.151385e+06</td>\n",
       "      <td>1.000000</td>\n",
       "      <td>3.000000</td>\n",
       "      <td>1.00000</td>\n",
       "      <td>77.000000</td>\n",
       "      <td>4.000000</td>\n",
       "      <td>1.000000</td>\n",
       "      <td>884.000000</td>\n",
       "      <td>...</td>\n",
       "      <td>255.000000</td>\n",
       "      <td>255.000000</td>\n",
       "      <td>1.000000</td>\n",
       "      <td>1.000000</td>\n",
       "      <td>1.000000</td>\n",
       "      <td>1.000000</td>\n",
       "      <td>1.000000</td>\n",
       "      <td>1.000000</td>\n",
       "      <td>1.000000</td>\n",
       "      <td>1.000000</td>\n",
       "    </tr>\n",
       "  </tbody>\n",
       "</table>\n",
       "<p>8 rows × 38 columns</p>\n",
       "</div>"
      ],
      "text/plain": [
       "           duration     src_bytes     dst_bytes          land  wrong_fragment  \\\n",
       "count  25192.000000  2.519200e+04  2.519200e+04  25192.000000    25192.000000   \n",
       "mean     305.054104  2.433063e+04  3.491847e+03      0.000079        0.023738   \n",
       "std     2686.555640  2.410805e+06  8.883072e+04      0.008910        0.260221   \n",
       "min        0.000000  0.000000e+00  0.000000e+00      0.000000        0.000000   \n",
       "25%        0.000000  0.000000e+00  0.000000e+00      0.000000        0.000000   \n",
       "50%        0.000000  4.400000e+01  0.000000e+00      0.000000        0.000000   \n",
       "75%        0.000000  2.790000e+02  5.302500e+02      0.000000        0.000000   \n",
       "max    42862.000000  3.817091e+08  5.151385e+06      1.000000        3.000000   \n",
       "\n",
       "            urgent           hot  num_failed_logins     logged_in  \\\n",
       "count  25192.00000  25192.000000       25192.000000  25192.000000   \n",
       "mean       0.00004      0.198039           0.001191      0.394768   \n",
       "std        0.00630      2.154202           0.045418      0.488811   \n",
       "min        0.00000      0.000000           0.000000      0.000000   \n",
       "25%        0.00000      0.000000           0.000000      0.000000   \n",
       "50%        0.00000      0.000000           0.000000      0.000000   \n",
       "75%        0.00000      0.000000           0.000000      1.000000   \n",
       "max        1.00000     77.000000           4.000000      1.000000   \n",
       "\n",
       "       num_compromised  ...  dst_host_count  dst_host_srv_count  \\\n",
       "count     25192.000000  ...    25192.000000        25192.000000   \n",
       "mean          0.227850  ...      182.532074          115.063036   \n",
       "std          10.417352  ...       98.993895          110.646850   \n",
       "min           0.000000  ...        0.000000            0.000000   \n",
       "25%           0.000000  ...       84.000000           10.000000   \n",
       "50%           0.000000  ...      255.000000           61.000000   \n",
       "75%           0.000000  ...      255.000000          255.000000   \n",
       "max         884.000000  ...      255.000000          255.000000   \n",
       "\n",
       "       dst_host_same_srv_rate  dst_host_diff_srv_rate  \\\n",
       "count            25192.000000            25192.000000   \n",
       "mean                 0.519791                0.082539   \n",
       "std                  0.448944                0.187191   \n",
       "min                  0.000000                0.000000   \n",
       "25%                  0.050000                0.000000   \n",
       "50%                  0.510000                0.030000   \n",
       "75%                  1.000000                0.070000   \n",
       "max                  1.000000                1.000000   \n",
       "\n",
       "       dst_host_same_src_port_rate  dst_host_srv_diff_host_rate  \\\n",
       "count                 25192.000000                 25192.000000   \n",
       "mean                      0.147453                     0.031844   \n",
       "std                       0.308367                     0.110575   \n",
       "min                       0.000000                     0.000000   \n",
       "25%                       0.000000                     0.000000   \n",
       "50%                       0.000000                     0.000000   \n",
       "75%                       0.060000                     0.020000   \n",
       "max                       1.000000                     1.000000   \n",
       "\n",
       "       dst_host_serror_rate  dst_host_srv_serror_rate  dst_host_rerror_rate  \\\n",
       "count          25192.000000              25192.000000          25192.000000   \n",
       "mean               0.285800                  0.279846              0.117800   \n",
       "std                0.445316                  0.446075              0.305869   \n",
       "min                0.000000                  0.000000              0.000000   \n",
       "25%                0.000000                  0.000000              0.000000   \n",
       "50%                0.000000                  0.000000              0.000000   \n",
       "75%                1.000000                  1.000000              0.000000   \n",
       "max                1.000000                  1.000000              1.000000   \n",
       "\n",
       "       dst_host_srv_rerror_rate  \n",
       "count              25192.000000  \n",
       "mean                   0.118769  \n",
       "std                    0.317333  \n",
       "min                    0.000000  \n",
       "25%                    0.000000  \n",
       "50%                    0.000000  \n",
       "75%                    0.000000  \n",
       "max                    1.000000  \n",
       "\n",
       "[8 rows x 38 columns]"
      ]
     },
     "execution_count": 10,
     "metadata": {},
     "output_type": "execute_result"
    }
   ],
   "source": [
    "train.describe()"
   ]
  },
  {
   "cell_type": "code",
   "execution_count": 11,
   "metadata": {
    "cell_id": "e3095f45160e44369fc00f68406abaa6",
    "deepnote_cell_type": "code",
    "execution_context_id": "7f5673bf-8344-43a3-881f-6dc18cb8328f",
    "execution_millis": 4,
    "execution_start": 1732647134352,
    "source_hash": "6497c3ec"
   },
   "outputs": [
    {
     "data": {
      "application/vnd.deepnote.dataframe.v3+json": {
       "column_count": 4,
       "columns": [
        {
         "dtype": "object",
         "name": "protocol_type",
         "stats": {
          "categories": [
           {
            "count": 1,
            "name": "25192"
           },
           {
            "count": 1,
            "name": "3"
           },
           {
            "count": 2,
            "name": "2 others"
           }
          ],
          "nan_count": 0,
          "unique_count": 4
         }
        },
        {
         "dtype": "object",
         "name": "service",
         "stats": {
          "categories": [
           {
            "count": 1,
            "name": "25192"
           },
           {
            "count": 1,
            "name": "66"
           },
           {
            "count": 2,
            "name": "2 others"
           }
          ],
          "nan_count": 0,
          "unique_count": 4
         }
        },
        {
         "dtype": "object",
         "name": "flag",
         "stats": {
          "categories": [
           {
            "count": 1,
            "name": "25192"
           },
           {
            "count": 1,
            "name": "11"
           },
           {
            "count": 2,
            "name": "2 others"
           }
          ],
          "nan_count": 0,
          "unique_count": 4
         }
        },
        {
         "dtype": "object",
         "name": "class",
         "stats": {
          "categories": [
           {
            "count": 1,
            "name": "25192"
           },
           {
            "count": 1,
            "name": "2"
           },
           {
            "count": 2,
            "name": "2 others"
           }
          ],
          "nan_count": 0,
          "unique_count": 4
         }
        },
        {
         "dtype": "object",
         "name": "_deepnote_index_column"
        }
       ],
       "row_count": 4,
       "rows": [
        {
         "_deepnote_index_column": "count",
         "class": "25192",
         "flag": "25192",
         "protocol_type": "25192",
         "service": "25192"
        },
        {
         "_deepnote_index_column": "unique",
         "class": "2",
         "flag": "11",
         "protocol_type": "3",
         "service": "66"
        },
        {
         "_deepnote_index_column": "top",
         "class": "normal",
         "flag": "SF",
         "protocol_type": "tcp",
         "service": "http"
        },
        {
         "_deepnote_index_column": "freq",
         "class": "13449",
         "flag": "14973",
         "protocol_type": "20526",
         "service": "8003"
        }
       ]
      },
      "text/html": [
       "<div>\n",
       "<style scoped>\n",
       "    .dataframe tbody tr th:only-of-type {\n",
       "        vertical-align: middle;\n",
       "    }\n",
       "\n",
       "    .dataframe tbody tr th {\n",
       "        vertical-align: top;\n",
       "    }\n",
       "\n",
       "    .dataframe thead th {\n",
       "        text-align: right;\n",
       "    }\n",
       "</style>\n",
       "<table border=\"1\" class=\"dataframe\">\n",
       "  <thead>\n",
       "    <tr style=\"text-align: right;\">\n",
       "      <th></th>\n",
       "      <th>protocol_type</th>\n",
       "      <th>service</th>\n",
       "      <th>flag</th>\n",
       "      <th>class</th>\n",
       "    </tr>\n",
       "  </thead>\n",
       "  <tbody>\n",
       "    <tr>\n",
       "      <th>count</th>\n",
       "      <td>25192</td>\n",
       "      <td>25192</td>\n",
       "      <td>25192</td>\n",
       "      <td>25192</td>\n",
       "    </tr>\n",
       "    <tr>\n",
       "      <th>unique</th>\n",
       "      <td>3</td>\n",
       "      <td>66</td>\n",
       "      <td>11</td>\n",
       "      <td>2</td>\n",
       "    </tr>\n",
       "    <tr>\n",
       "      <th>top</th>\n",
       "      <td>tcp</td>\n",
       "      <td>http</td>\n",
       "      <td>SF</td>\n",
       "      <td>normal</td>\n",
       "    </tr>\n",
       "    <tr>\n",
       "      <th>freq</th>\n",
       "      <td>20526</td>\n",
       "      <td>8003</td>\n",
       "      <td>14973</td>\n",
       "      <td>13449</td>\n",
       "    </tr>\n",
       "  </tbody>\n",
       "</table>\n",
       "</div>"
      ],
      "text/plain": [
       "       protocol_type service   flag   class\n",
       "count          25192   25192  25192   25192\n",
       "unique             3      66     11       2\n",
       "top              tcp    http     SF  normal\n",
       "freq           20526    8003  14973   13449"
      ]
     },
     "execution_count": 11,
     "metadata": {},
     "output_type": "execute_result"
    }
   ],
   "source": [
    "train.describe(include='object')"
   ]
  },
  {
   "cell_type": "code",
   "execution_count": 12,
   "metadata": {
    "cell_id": "4ea9226e60d34bf5aa926a3785cc5d73",
    "deepnote_cell_type": "code",
    "execution_context_id": "7f5673bf-8344-43a3-881f-6dc18cb8328f",
    "execution_millis": 1,
    "execution_start": 1732647134404,
    "source_hash": "74267d7c"
   },
   "outputs": [
    {
     "data": {
      "text/plain": [
       "(25192, 42)"
      ]
     },
     "execution_count": 12,
     "metadata": {},
     "output_type": "execute_result"
    }
   ],
   "source": [
    "train.shape"
   ]
  },
  {
   "cell_type": "code",
   "execution_count": 13,
   "metadata": {
    "cell_id": "3e5cc965217c4bb9879df163a0d24466",
    "deepnote_cell_type": "code",
    "execution_context_id": "7f5673bf-8344-43a3-881f-6dc18cb8328f",
    "execution_millis": 0,
    "execution_start": 1732647134452,
    "source_hash": "f8683763"
   },
   "outputs": [
    {
     "data": {
      "text/plain": [
       "duration                       0\n",
       "protocol_type                  0\n",
       "service                        0\n",
       "flag                           0\n",
       "src_bytes                      0\n",
       "dst_bytes                      0\n",
       "land                           0\n",
       "wrong_fragment                 0\n",
       "urgent                         0\n",
       "hot                            0\n",
       "num_failed_logins              0\n",
       "logged_in                      0\n",
       "num_compromised                0\n",
       "root_shell                     0\n",
       "su_attempted                   0\n",
       "num_root                       0\n",
       "num_file_creations             0\n",
       "num_shells                     0\n",
       "num_access_files               0\n",
       "num_outbound_cmds              0\n",
       "is_host_login                  0\n",
       "is_guest_login                 0\n",
       "count                          0\n",
       "srv_count                      0\n",
       "serror_rate                    0\n",
       "srv_serror_rate                0\n",
       "rerror_rate                    0\n",
       "srv_rerror_rate                0\n",
       "same_srv_rate                  0\n",
       "diff_srv_rate                  0\n",
       "srv_diff_host_rate             0\n",
       "dst_host_count                 0\n",
       "dst_host_srv_count             0\n",
       "dst_host_same_srv_rate         0\n",
       "dst_host_diff_srv_rate         0\n",
       "dst_host_same_src_port_rate    0\n",
       "dst_host_srv_diff_host_rate    0\n",
       "dst_host_serror_rate           0\n",
       "dst_host_srv_serror_rate       0\n",
       "dst_host_rerror_rate           0\n",
       "dst_host_srv_rerror_rate       0\n",
       "class                          0\n",
       "dtype: int64"
      ]
     },
     "execution_count": 13,
     "metadata": {},
     "output_type": "execute_result"
    }
   ],
   "source": [
    "train.isnull().sum()"
   ]
  },
  {
   "cell_type": "code",
   "execution_count": 14,
   "metadata": {
    "cell_id": "f6f8ce6f7ed04dd5a0cc139c64c05e7b",
    "deepnote_cell_type": "code",
    "execution_context_id": "7f5673bf-8344-43a3-881f-6dc18cb8328f",
    "execution_millis": 0,
    "execution_start": 1732647134500,
    "source_hash": "20926020"
   },
   "outputs": [],
   "source": [
    "total = train.shape[0]\n",
    "missing_columns = [col for col in train.columns if train[col].isnull().sum() > 0]\n",
    "for col in missing_columns:\n",
    "    null_count = train[col].isnull().sum()\n",
    "    per = (null_count/total) * 100\n",
    "    print(f\"{col}: {null_count} ({round(per, 3)}%)\")"
   ]
  },
  {
   "cell_type": "code",
   "execution_count": 15,
   "metadata": {
    "cell_id": "5e93bad995e849eb803d0c68b6d33468",
    "deepnote_cell_type": "code",
    "execution_context_id": "7f5673bf-8344-43a3-881f-6dc18cb8328f",
    "execution_millis": 0,
    "execution_start": 1732647134548,
    "source_hash": "4f7bfc6b"
   },
   "outputs": [
    {
     "name": "stdout",
     "output_type": "stream",
     "text": [
      "Number of duplicate rows: 0\n"
     ]
    }
   ],
   "source": [
    "print(f\"Number of duplicate rows: {train.duplicated().sum()}\")\n"
   ]
  },
  {
   "cell_type": "code",
   "execution_count": 16,
   "metadata": {
    "cell_id": "5a88c4e45ec340c7be907c2d5f8e47aa",
    "deepnote_cell_type": "code",
    "execution_context_id": "7f5673bf-8344-43a3-881f-6dc18cb8328f",
    "execution_millis": 81,
    "execution_start": 1732647134600,
    "source_hash": "a8cf8a4f"
   },
   "outputs": [
    {
     "data": {
      "text/plain": [
       "<AxesSubplot: xlabel='class', ylabel='count'>"
      ]
     },
     "execution_count": 16,
     "metadata": {},
     "output_type": "execute_result"
    },
    {
     "data": {
      "image/png": "[encoded data removed]",
      "text/plain": [
       "<Figure size 640x480 with 1 Axes>"
      ]
     },
     "metadata": {
      "image/png": {
       "height": 435,
       "width": 589
      }
     },
     "output_type": "display_data"
    }
   ],
   "source": [
    "sns.countplot(x=train['class'])"
   ]
  },
  {
   "cell_type": "code",
   "execution_count": 17,
   "metadata": {
    "cell_id": "31ac87a29c734f84b6e750b6356b263e",
    "deepnote_cell_type": "code",
    "execution_context_id": "7f5673bf-8344-43a3-881f-6dc18cb8328f",
    "execution_millis": 1,
    "execution_start": 1732647134978,
    "source_hash": "e34b6081"
   },
   "outputs": [
    {
     "name": "stdout",
     "output_type": "stream",
     "text": [
      "Class distribution Training set:\n",
      "class\n",
      "normal     13449\n",
      "anomaly    11743\n",
      "Name: count, dtype: int64\n"
     ]
    }
   ],
   "source": [
    "\n",
    "print('Class distribution Training set:')\n",
    "print(train['class'].value_counts())"
   ]
  },
  {
   "cell_type": "code",
   "execution_count": 18,
   "metadata": {
    "cell_id": "2eeda0377f3f4b01842e9ed978e10e82",
    "deepnote_cell_type": "code",
    "execution_context_id": "7f5673bf-8344-43a3-881f-6dc18cb8328f",
    "execution_millis": 4,
    "execution_start": 1732647135040,
    "source_hash": "5dedc6b"
   },
   "outputs": [],
   "source": [
    "def le(df):\n",
    "    for col in df.columns:\n",
    "        if df[col].dtype == 'object':\n",
    "                label_encoder = LabelEncoder()\n",
    "                df[col] = label_encoder.fit_transform(df[col])\n",
    "\n",
    "le(train)\n",
    "le(test)\n",
    "\n",
    "#Label Encoding is a process that converts categorical data (which is in text format) into numerical labels. \n",
    "# preparing the dataset by converting categorical variables into numeric values and removing any irrelevant\n",
    "#features before further processing or model training."
   ]
  },
  {
   "cell_type": "code",
   "execution_count": 19,
   "metadata": {
    "cell_id": "0b4105baf0f0425da72433775d1b1c4e",
    "deepnote_cell_type": "code",
    "execution_context_id": "7f5673bf-8344-43a3-881f-6dc18cb8328f",
    "execution_millis": 0,
    "execution_start": 1732647135088,
    "source_hash": "c73b7f63"
   },
   "outputs": [],
   "source": [
    "train.drop(['num_outbound_cmds'], axis=1, inplace=True)\n",
    "test.drop(['num_outbound_cmds'], axis=1, inplace=True)"
   ]
  },
  {
   "cell_type": "code",
   "execution_count": 20,
   "metadata": {
    "cell_id": "5b5c1af0f26841ef9f617f79a9a7159b",
    "deepnote_cell_type": "code",
    "execution_context_id": "7f5673bf-8344-43a3-881f-6dc18cb8328f",
    "execution_millis": 46,
    "execution_start": 1732647135140,
    "source_hash": "e1f0b45"
   },
   "outputs": [
    {
     "data": {
      "application/vnd.deepnote.dataframe.v3+json": {
       "column_count": 41,
       "columns": [
        {
         "dtype": "int64",
         "name": "duration",
         "stats": {
          "histogram": [
           {
            "bin_end": -0.4,
            "bin_start": -0.5,
            "count": 0
           },
           {
            "bin_end": -0.3,
            "bin_start": -0.4,
            "count": 0
           },
           {
            "bin_end": -0.19999999999999996,
            "bin_start": -0.3,
            "count": 0
           },
           {
            "bin_end": -0.09999999999999998,
            "bin_start": -0.19999999999999996,
            "count": 0
           },
           {
            "bin_end": 0,
            "bin_start": -0.09999999999999998,
            "count": 0
           },
           {
            "bin_end": 0.10000000000000009,
            "bin_start": 0,
            "count": 5
           },
           {
            "bin_end": 0.20000000000000007,
            "bin_start": 0.10000000000000009,
            "count": 0
           },
           {
            "bin_end": 0.30000000000000004,
            "bin_start": 0.20000000000000007,
            "count": 0
           },
           {
            "bin_end": 0.4,
            "bin_start": 0.30000000000000004,
            "count": 0
           },
           {
            "bin_end": 0.5,
            "bin_start": 0.4,
            "count": 0
           }
          ],
          "max": "0",
          "min": "0",
          "nan_count": 0,
          "unique_count": 1
         }
        },
        {
         "dtype": "int64",
         "name": "protocol_type",
         "stats": {
          "histogram": [
           {
            "bin_end": 1.1,
            "bin_start": 1,
            "count": 4
           },
           {
            "bin_end": 1.2,
            "bin_start": 1.1,
            "count": 0
           },
           {
            "bin_end": 1.3,
            "bin_start": 1.2,
            "count": 0
           },
           {
            "bin_end": 1.4,
            "bin_start": 1.3,
            "count": 0
           },
           {
            "bin_end": 1.5,
            "bin_start": 1.4,
            "count": 0
           },
           {
            "bin_end": 1.6,
            "bin_start": 1.5,
            "count": 0
           },
           {
            "bin_end": 1.7000000000000002,
            "bin_start": 1.6,
            "count": 0
           },
           {
            "bin_end": 1.8,
            "bin_start": 1.7000000000000002,
            "count": 0
           },
           {
            "bin_end": 1.9,
            "bin_start": 1.8,
            "count": 0
           },
           {
            "bin_end": 2,
            "bin_start": 1.9,
            "count": 1
           }
          ],
          "max": "2",
          "min": "1",
          "nan_count": 0,
          "unique_count": 2
         }
        },
        {
         "dtype": "int64",
         "name": "service",
         "stats": {
          "histogram": [
           {
            "bin_end": 21.7,
            "bin_start": 19,
            "count": 1
           },
           {
            "bin_end": 24.4,
            "bin_start": 21.7,
            "count": 2
           },
           {
            "bin_end": 27.1,
            "bin_start": 24.4,
            "count": 0
           },
           {
            "bin_end": 29.8,
            "bin_start": 27.1,
            "count": 0
           },
           {
            "bin_end": 32.5,
            "bin_start": 29.8,
            "count": 0
           },
           {
            "bin_end": 35.2,
            "bin_start": 32.5,
            "count": 0
           },
           {
            "bin_end": 37.900000000000006,
            "bin_start": 35.2,
            "count": 0
           },
           {
            "bin_end": 40.6,
            "bin_start": 37.900000000000006,
            "count": 0
           },
           {
            "bin_end": 43.3,
            "bin_start": 40.6,
            "count": 1
           },
           {
            "bin_end": 46,
            "bin_start": 43.3,
            "count": 1
           }
          ],
          "max": "46",
          "min": "19",
          "nan_count": 0,
          "unique_count": 4
         }
        },
        {
         "dtype": "int64",
         "name": "flag",
         "stats": {
          "histogram": [
           {
            "bin_end": 5.4,
            "bin_start": 5,
            "count": 1
           },
           {
            "bin_end": 5.8,
            "bin_start": 5.4,
            "count": 0
           },
           {
            "bin_end": 6.2,
            "bin_start": 5.8,
            "count": 0
           },
           {
            "bin_end": 6.6,
            "bin_start": 6.2,
            "count": 0
           },
           {
            "bin_end": 7,
            "bin_start": 6.6,
            "count": 0
           },
           {
            "bin_end": 7.4,
            "bin_start": 7,
            "count": 0
           },
           {
            "bin_end": 7.800000000000001,
            "bin_start": 7.4,
            "count": 0
           },
           {
            "bin_end": 8.2,
            "bin_start": 7.800000000000001,
            "count": 0
           },
           {
            "bin_end": 8.6,
            "bin_start": 8.2,
            "count": 0
           },
           {
            "bin_end": 9,
            "bin_start": 8.6,
            "count": 4
           }
          ],
          "max": "9",
          "min": "5",
          "nan_count": 0,
          "unique_count": 2
         }
        },
        {
         "dtype": "int64",
         "name": "src_bytes",
         "stats": {
          "histogram": [
           {
            "bin_end": 49.1,
            "bin_start": 0,
            "count": 1
           },
           {
            "bin_end": 98.2,
            "bin_start": 49.1,
            "count": 0
           },
           {
            "bin_end": 147.3,
            "bin_start": 98.2,
            "count": 1
           },
           {
            "bin_end": 196.4,
            "bin_start": 147.3,
            "count": 0
           },
           {
            "bin_end": 245.5,
            "bin_start": 196.4,
            "count": 2
           },
           {
            "bin_end": 294.6,
            "bin_start": 245.5,
            "count": 0
           },
           {
            "bin_end": 343.7,
            "bin_start": 294.6,
            "count": 0
           },
           {
            "bin_end": 392.8,
            "bin_start": 343.7,
            "count": 0
           },
           {
            "bin_end": 441.90000000000003,
            "bin_start": 392.8,
            "count": 0
           },
           {
            "bin_end": 491,
            "bin_start": 441.90000000000003,
            "count": 1
           }
          ],
          "max": "491",
          "min": "0",
          "nan_count": 0,
          "unique_count": 5
         }
        },
        {
         "dtype": "int64",
         "name": "dst_bytes",
         "stats": {
          "histogram": [
           {
            "bin_end": 815.3,
            "bin_start": 0,
            "count": 4
           },
           {
            "bin_end": 1630.6,
            "bin_start": 815.3,
            "count": 0
           },
           {
            "bin_end": 2445.8999999999996,
            "bin_start": 1630.6,
            "count": 0
           },
           {
            "bin_end": 3261.2,
            "bin_start": 2445.8999999999996,
            "count": 0
           },
           {
            "bin_end": 4076.5,
            "bin_start": 3261.2,
            "count": 0
           },
           {
            "bin_end": 4891.799999999999,
            "bin_start": 4076.5,
            "count": 0
           },
           {
            "bin_end": 5707.099999999999,
            "bin_start": 4891.799999999999,
            "count": 0
           },
           {
            "bin_end": 6522.4,
            "bin_start": 5707.099999999999,
            "count": 0
           },
           {
            "bin_end": 7337.7,
            "bin_start": 6522.4,
            "count": 0
           },
           {
            "bin_end": 8153,
            "bin_start": 7337.7,
            "count": 1
           }
          ],
          "max": "8153",
          "min": "0",
          "nan_count": 0,
          "unique_count": 3
         }
        },
        {
         "dtype": "int64",
         "name": "land",
         "stats": {
          "histogram": [
           {
            "bin_end": -0.4,
            "bin_start": -0.5,
            "count": 0
           },
           {
            "bin_end": -0.3,
            "bin_start": -0.4,
            "count": 0
           },
           {
            "bin_end": -0.19999999999999996,
            "bin_start": -0.3,
            "count": 0
           },
           {
            "bin_end": -0.09999999999999998,
            "bin_start": -0.19999999999999996,
            "count": 0
           },
           {
            "bin_end": 0,
            "bin_start": -0.09999999999999998,
            "count": 0
           },
           {
            "bin_end": 0.10000000000000009,
            "bin_start": 0,
            "count": 5
           },
           {
            "bin_end": 0.20000000000000007,
            "bin_start": 0.10000000000000009,
            "count": 0
           },
           {
            "bin_end": 0.30000000000000004,
            "bin_start": 0.20000000000000007,
            "count": 0
           },
           {
            "bin_end": 0.4,
            "bin_start": 0.30000000000000004,
            "count": 0
           },
           {
            "bin_end": 0.5,
            "bin_start": 0.4,
            "count": 0
           }
          ],
          "max": "0",
          "min": "0",
          "nan_count": 0,
          "unique_count": 1
         }
        },
        {
         "dtype": "int64",
         "name": "wrong_fragment",
         "stats": {
          "histogram": [
           {
            "bin_end": -0.4,
            "bin_start": -0.5,
            "count": 0
           },
           {
            "bin_end": -0.3,
            "bin_start": -0.4,
            "count": 0
           },
           {
            "bin_end": -0.19999999999999996,
            "bin_start": -0.3,
            "count": 0
           },
           {
            "bin_end": -0.09999999999999998,
            "bin_start": -0.19999999999999996,
            "count": 0
           },
           {
            "bin_end": 0,
            "bin_start": -0.09999999999999998,
            "count": 0
           },
           {
            "bin_end": 0.10000000000000009,
            "bin_start": 0,
            "count": 5
           },
           {
            "bin_end": 0.20000000000000007,
            "bin_start": 0.10000000000000009,
            "count": 0
           },
           {
            "bin_end": 0.30000000000000004,
            "bin_start": 0.20000000000000007,
            "count": 0
           },
           {
            "bin_end": 0.4,
            "bin_start": 0.30000000000000004,
            "count": 0
           },
           {
            "bin_end": 0.5,
            "bin_start": 0.4,
            "count": 0
           }
          ],
          "max": "0",
          "min": "0",
          "nan_count": 0,
          "unique_count": 1
         }
        },
        {
         "dtype": "int64",
         "name": "urgent",
         "stats": {
          "histogram": [
           {
            "bin_end": -0.4,
            "bin_start": -0.5,
            "count": 0
           },
           {
            "bin_end": -0.3,
            "bin_start": -0.4,
            "count": 0
           },
           {
            "bin_end": -0.19999999999999996,
            "bin_start": -0.3,
            "count": 0
           },
           {
            "bin_end": -0.09999999999999998,
            "bin_start": -0.19999999999999996,
            "count": 0
           },
           {
            "bin_end": 0,
            "bin_start": -0.09999999999999998,
            "count": 0
           },
           {
            "bin_end": 0.10000000000000009,
            "bin_start": 0,
            "count": 5
           },
           {
            "bin_end": 0.20000000000000007,
            "bin_start": 0.10000000000000009,
            "count": 0
           },
           {
            "bin_end": 0.30000000000000004,
            "bin_start": 0.20000000000000007,
            "count": 0
           },
           {
            "bin_end": 0.4,
            "bin_start": 0.30000000000000004,
            "count": 0
           },
           {
            "bin_end": 0.5,
            "bin_start": 0.4,
            "count": 0
           }
          ],
          "max": "0",
          "min": "0",
          "nan_count": 0,
          "unique_count": 1
         }
        },
        {
         "dtype": "int64",
         "name": "hot",
         "stats": {
          "histogram": [
           {
            "bin_end": -0.4,
            "bin_start": -0.5,
            "count": 0
           },
           {
            "bin_end": -0.3,
            "bin_start": -0.4,
            "count": 0
           },
           {
            "bin_end": -0.19999999999999996,
            "bin_start": -0.3,
            "count": 0
           },
           {
            "bin_end": -0.09999999999999998,
            "bin_start": -0.19999999999999996,
            "count": 0
           },
           {
            "bin_end": 0,
            "bin_start": -0.09999999999999998,
            "count": 0
           },
           {
            "bin_end": 0.10000000000000009,
            "bin_start": 0,
            "count": 5
           },
           {
            "bin_end": 0.20000000000000007,
            "bin_start": 0.10000000000000009,
            "count": 0
           },
           {
            "bin_end": 0.30000000000000004,
            "bin_start": 0.20000000000000007,
            "count": 0
           },
           {
            "bin_end": 0.4,
            "bin_start": 0.30000000000000004,
            "count": 0
           },
           {
            "bin_end": 0.5,
            "bin_start": 0.4,
            "count": 0
           }
          ],
          "max": "0",
          "min": "0",
          "nan_count": 0,
          "unique_count": 1
         }
        },
        {
         "dtype": "int64",
         "name": "num_failed_logins",
         "stats": {
          "histogram": [
           {
            "bin_end": -0.4,
            "bin_start": -0.5,
            "count": 0
           },
           {
            "bin_end": -0.3,
            "bin_start": -0.4,
            "count": 0
           },
           {
            "bin_end": -0.19999999999999996,
            "bin_start": -0.3,
            "count": 0
           },
           {
            "bin_end": -0.09999999999999998,
            "bin_start": -0.19999999999999996,
            "count": 0
           },
           {
            "bin_end": 0,
            "bin_start": -0.09999999999999998,
            "count": 0
           },
           {
            "bin_end": 0.10000000000000009,
            "bin_start": 0,
            "count": 5
           },
           {
            "bin_end": 0.20000000000000007,
            "bin_start": 0.10000000000000009,
            "count": 0
           },
           {
            "bin_end": 0.30000000000000004,
            "bin_start": 0.20000000000000007,
            "count": 0
           },
           {
            "bin_end": 0.4,
            "bin_start": 0.30000000000000004,
            "count": 0
           },
           {
            "bin_end": 0.5,
            "bin_start": 0.4,
            "count": 0
           }
          ],
          "max": "0",
          "min": "0",
          "nan_count": 0,
          "unique_count": 1
         }
        },
        {
         "dtype": "int64",
         "name": "logged_in",
         "stats": {
          "histogram": [
           {
            "bin_end": 0.1,
            "bin_start": 0,
            "count": 3
           },
           {
            "bin_end": 0.2,
            "bin_start": 0.1,
            "count": 0
           },
           {
            "bin_end": 0.30000000000000004,
            "bin_start": 0.2,
            "count": 0
           },
           {
            "bin_end": 0.4,
            "bin_start": 0.30000000000000004,
            "count": 0
           },
           {
            "bin_end": 0.5,
            "bin_start": 0.4,
            "count": 0
           },
           {
            "bin_end": 0.6000000000000001,
            "bin_start": 0.5,
            "count": 0
           },
           {
            "bin_end": 0.7000000000000001,
            "bin_start": 0.6000000000000001,
            "count": 0
           },
           {
            "bin_end": 0.8,
            "bin_start": 0.7000000000000001,
            "count": 0
           },
           {
            "bin_end": 0.9,
            "bin_start": 0.8,
            "count": 0
           },
           {
            "bin_end": 1,
            "bin_start": 0.9,
            "count": 2
           }
          ],
          "max": "1",
          "min": "0",
          "nan_count": 0,
          "unique_count": 2
         }
        },
        {
         "dtype": "int64",
         "name": "num_compromised",
         "stats": {
          "histogram": [
           {
            "bin_end": -0.4,
            "bin_start": -0.5,
            "count": 0
           },
           {
            "bin_end": -0.3,
            "bin_start": -0.4,
            "count": 0
           },
           {
            "bin_end": -0.19999999999999996,
            "bin_start": -0.3,
            "count": 0
           },
           {
            "bin_end": -0.09999999999999998,
            "bin_start": -0.19999999999999996,
            "count": 0
           },
           {
            "bin_end": 0,
            "bin_start": -0.09999999999999998,
            "count": 0
           },
           {
            "bin_end": 0.10000000000000009,
            "bin_start": 0,
            "count": 5
           },
           {
            "bin_end": 0.20000000000000007,
            "bin_start": 0.10000000000000009,
            "count": 0
           },
           {
            "bin_end": 0.30000000000000004,
            "bin_start": 0.20000000000000007,
            "count": 0
           },
           {
            "bin_end": 0.4,
            "bin_start": 0.30000000000000004,
            "count": 0
           },
           {
            "bin_end": 0.5,
            "bin_start": 0.4,
            "count": 0
           }
          ],
          "max": "0",
          "min": "0",
          "nan_count": 0,
          "unique_count": 1
         }
        },
        {
         "dtype": "int64",
         "name": "root_shell",
         "stats": {
          "histogram": [
           {
            "bin_end": -0.4,
            "bin_start": -0.5,
            "count": 0
           },
           {
            "bin_end": -0.3,
            "bin_start": -0.4,
            "count": 0
           },
           {
            "bin_end": -0.19999999999999996,
            "bin_start": -0.3,
            "count": 0
           },
           {
            "bin_end": -0.09999999999999998,
            "bin_start": -0.19999999999999996,
            "count": 0
           },
           {
            "bin_end": 0,
            "bin_start": -0.09999999999999998,
            "count": 0
           },
           {
            "bin_end": 0.10000000000000009,
            "bin_start": 0,
            "count": 5
           },
           {
            "bin_end": 0.20000000000000007,
            "bin_start": 0.10000000000000009,
            "count": 0
           },
           {
            "bin_end": 0.30000000000000004,
            "bin_start": 0.20000000000000007,
            "count": 0
           },
           {
            "bin_end": 0.4,
            "bin_start": 0.30000000000000004,
            "count": 0
           },
           {
            "bin_end": 0.5,
            "bin_start": 0.4,
            "count": 0
           }
          ],
          "max": "0",
          "min": "0",
          "nan_count": 0,
          "unique_count": 1
         }
        },
        {
         "dtype": "int64",
         "name": "su_attempted",
         "stats": {
          "histogram": [
           {
            "bin_end": -0.4,
            "bin_start": -0.5,
            "count": 0
           },
           {
            "bin_end": -0.3,
            "bin_start": -0.4,
            "count": 0
           },
           {
            "bin_end": -0.19999999999999996,
            "bin_start": -0.3,
            "count": 0
           },
           {
            "bin_end": -0.09999999999999998,
            "bin_start": -0.19999999999999996,
            "count": 0
           },
           {
            "bin_end": 0,
            "bin_start": -0.09999999999999998,
            "count": 0
           },
           {
            "bin_end": 0.10000000000000009,
            "bin_start": 0,
            "count": 5
           },
           {
            "bin_end": 0.20000000000000007,
            "bin_start": 0.10000000000000009,
            "count": 0
           },
           {
            "bin_end": 0.30000000000000004,
            "bin_start": 0.20000000000000007,
            "count": 0
           },
           {
            "bin_end": 0.4,
            "bin_start": 0.30000000000000004,
            "count": 0
           },
           {
            "bin_end": 0.5,
            "bin_start": 0.4,
            "count": 0
           }
          ],
          "max": "0",
          "min": "0",
          "nan_count": 0,
          "unique_count": 1
         }
        },
        {
         "dtype": "int64",
         "name": "num_root",
         "stats": {
          "histogram": [
           {
            "bin_end": -0.4,
            "bin_start": -0.5,
            "count": 0
           },
           {
            "bin_end": -0.3,
            "bin_start": -0.4,
            "count": 0
           },
           {
            "bin_end": -0.19999999999999996,
            "bin_start": -0.3,
            "count": 0
           },
           {
            "bin_end": -0.09999999999999998,
            "bin_start": -0.19999999999999996,
            "count": 0
           },
           {
            "bin_end": 0,
            "bin_start": -0.09999999999999998,
            "count": 0
           },
           {
            "bin_end": 0.10000000000000009,
            "bin_start": 0,
            "count": 5
           },
           {
            "bin_end": 0.20000000000000007,
            "bin_start": 0.10000000000000009,
            "count": 0
           },
           {
            "bin_end": 0.30000000000000004,
            "bin_start": 0.20000000000000007,
            "count": 0
           },
           {
            "bin_end": 0.4,
            "bin_start": 0.30000000000000004,
            "count": 0
           },
           {
            "bin_end": 0.5,
            "bin_start": 0.4,
            "count": 0
           }
          ],
          "max": "0",
          "min": "0",
          "nan_count": 0,
          "unique_count": 1
         }
        },
        {
         "dtype": "int64",
         "name": "num_file_creations",
         "stats": {
          "histogram": [
           {
            "bin_end": -0.4,
            "bin_start": -0.5,
            "count": 0
           },
           {
            "bin_end": -0.3,
            "bin_start": -0.4,
            "count": 0
           },
           {
            "bin_end": -0.19999999999999996,
            "bin_start": -0.3,
            "count": 0
           },
           {
            "bin_end": -0.09999999999999998,
            "bin_start": -0.19999999999999996,
            "count": 0
           },
           {
            "bin_end": 0,
            "bin_start": -0.09999999999999998,
            "count": 0
           },
           {
            "bin_end": 0.10000000000000009,
            "bin_start": 0,
            "count": 5
           },
           {
            "bin_end": 0.20000000000000007,
            "bin_start": 0.10000000000000009,
            "count": 0
           },
           {
            "bin_end": 0.30000000000000004,
            "bin_start": 0.20000000000000007,
            "count": 0
           },
           {
            "bin_end": 0.4,
            "bin_start": 0.30000000000000004,
            "count": 0
           },
           {
            "bin_end": 0.5,
            "bin_start": 0.4,
            "count": 0
           }
          ],
          "max": "0",
          "min": "0",
          "nan_count": 0,
          "unique_count": 1
         }
        },
        {
         "dtype": "int64",
         "name": "num_shells",
         "stats": {
          "histogram": [
           {
            "bin_end": -0.4,
            "bin_start": -0.5,
            "count": 0
           },
           {
            "bin_end": -0.3,
            "bin_start": -0.4,
            "count": 0
           },
           {
            "bin_end": -0.19999999999999996,
            "bin_start": -0.3,
            "count": 0
           },
           {
            "bin_end": -0.09999999999999998,
            "bin_start": -0.19999999999999996,
            "count": 0
           },
           {
            "bin_end": 0,
            "bin_start": -0.09999999999999998,
            "count": 0
           },
           {
            "bin_end": 0.10000000000000009,
            "bin_start": 0,
            "count": 5
           },
           {
            "bin_end": 0.20000000000000007,
            "bin_start": 0.10000000000000009,
            "count": 0
           },
           {
            "bin_end": 0.30000000000000004,
            "bin_start": 0.20000000000000007,
            "count": 0
           },
           {
            "bin_end": 0.4,
            "bin_start": 0.30000000000000004,
            "count": 0
           },
           {
            "bin_end": 0.5,
            "bin_start": 0.4,
            "count": 0
           }
          ],
          "max": "0",
          "min": "0",
          "nan_count": 0,
          "unique_count": 1
         }
        },
        {
         "dtype": "int64",
         "name": "num_access_files",
         "stats": {
          "histogram": [
           {
            "bin_end": -0.4,
            "bin_start": -0.5,
            "count": 0
           },
           {
            "bin_end": -0.3,
            "bin_start": -0.4,
            "count": 0
           },
           {
            "bin_end": -0.19999999999999996,
            "bin_start": -0.3,
            "count": 0
           },
           {
            "bin_end": -0.09999999999999998,
            "bin_start": -0.19999999999999996,
            "count": 0
           },
           {
            "bin_end": 0,
            "bin_start": -0.09999999999999998,
            "count": 0
           },
           {
            "bin_end": 0.10000000000000009,
            "bin_start": 0,
            "count": 5
           },
           {
            "bin_end": 0.20000000000000007,
            "bin_start": 0.10000000000000009,
            "count": 0
           },
           {
            "bin_end": 0.30000000000000004,
            "bin_start": 0.20000000000000007,
            "count": 0
           },
           {
            "bin_end": 0.4,
            "bin_start": 0.30000000000000004,
            "count": 0
           },
           {
            "bin_end": 0.5,
            "bin_start": 0.4,
            "count": 0
           }
          ],
          "max": "0",
          "min": "0",
          "nan_count": 0,
          "unique_count": 1
         }
        },
        {
         "dtype": "int64",
         "name": "is_host_login",
         "stats": {
          "histogram": [
           {
            "bin_end": -0.4,
            "bin_start": -0.5,
            "count": 0
           },
           {
            "bin_end": -0.3,
            "bin_start": -0.4,
            "count": 0
           },
           {
            "bin_end": -0.19999999999999996,
            "bin_start": -0.3,
            "count": 0
           },
           {
            "bin_end": -0.09999999999999998,
            "bin_start": -0.19999999999999996,
            "count": 0
           },
           {
            "bin_end": 0,
            "bin_start": -0.09999999999999998,
            "count": 0
           },
           {
            "bin_end": 0.10000000000000009,
            "bin_start": 0,
            "count": 5
           },
           {
            "bin_end": 0.20000000000000007,
            "bin_start": 0.10000000000000009,
            "count": 0
           },
           {
            "bin_end": 0.30000000000000004,
            "bin_start": 0.20000000000000007,
            "count": 0
           },
           {
            "bin_end": 0.4,
            "bin_start": 0.30000000000000004,
            "count": 0
           },
           {
            "bin_end": 0.5,
            "bin_start": 0.4,
            "count": 0
           }
          ],
          "max": "0",
          "min": "0",
          "nan_count": 0,
          "unique_count": 1
         }
        },
        {
         "dtype": "int64",
         "name": "is_guest_login",
         "stats": {
          "histogram": [
           {
            "bin_end": -0.4,
            "bin_start": -0.5,
            "count": 0
           },
           {
            "bin_end": -0.3,
            "bin_start": -0.4,
            "count": 0
           },
           {
            "bin_end": -0.19999999999999996,
            "bin_start": -0.3,
            "count": 0
           },
           {
            "bin_end": -0.09999999999999998,
            "bin_start": -0.19999999999999996,
            "count": 0
           },
           {
            "bin_end": 0,
            "bin_start": -0.09999999999999998,
            "count": 0
           },
           {
            "bin_end": 0.10000000000000009,
            "bin_start": 0,
            "count": 5
           },
           {
            "bin_end": 0.20000000000000007,
            "bin_start": 0.10000000000000009,
            "count": 0
           },
           {
            "bin_end": 0.30000000000000004,
            "bin_start": 0.20000000000000007,
            "count": 0
           },
           {
            "bin_end": 0.4,
            "bin_start": 0.30000000000000004,
            "count": 0
           },
           {
            "bin_end": 0.5,
            "bin_start": 0.4,
            "count": 0
           }
          ],
          "max": "0",
          "min": "0",
          "nan_count": 0,
          "unique_count": 1
         }
        },
        {
         "dtype": "int64",
         "name": "count",
         "stats": {
          "histogram": [
           {
            "bin_end": 14.1,
            "bin_start": 2,
            "count": 3
           },
           {
            "bin_end": 26.2,
            "bin_start": 14.1,
            "count": 0
           },
           {
            "bin_end": 38.3,
            "bin_start": 26.2,
            "count": 1
           },
           {
            "bin_end": 50.4,
            "bin_start": 38.3,
            "count": 0
           },
           {
            "bin_end": 62.5,
            "bin_start": 50.4,
            "count": 0
           },
           {
            "bin_end": 74.6,
            "bin_start": 62.5,
            "count": 0
           },
           {
            "bin_end": 86.7,
            "bin_start": 74.6,
            "count": 0
           },
           {
            "bin_end": 98.8,
            "bin_start": 86.7,
            "count": 0
           },
           {
            "bin_end": 110.89999999999999,
            "bin_start": 98.8,
            "count": 0
           },
           {
            "bin_end": 123,
            "bin_start": 110.89999999999999,
            "count": 1
           }
          ],
          "max": "123",
          "min": "2",
          "nan_count": 0,
          "unique_count": 5
         }
        },
        {
         "dtype": "int64",
         "name": "srv_count",
         "stats": {
          "histogram": [
           {
            "bin_end": 4.1,
            "bin_start": 1,
            "count": 2
           },
           {
            "bin_end": 7.2,
            "bin_start": 4.1,
            "count": 2
           },
           {
            "bin_end": 10.3,
            "bin_start": 7.2,
            "count": 0
           },
           {
            "bin_end": 13.4,
            "bin_start": 10.3,
            "count": 0
           },
           {
            "bin_end": 16.5,
            "bin_start": 13.4,
            "count": 0
           },
           {
            "bin_end": 19.6,
            "bin_start": 16.5,
            "count": 0
           },
           {
            "bin_end": 22.7,
            "bin_start": 19.6,
            "count": 0
           },
           {
            "bin_end": 25.8,
            "bin_start": 22.7,
            "count": 0
           },
           {
            "bin_end": 28.900000000000002,
            "bin_start": 25.8,
            "count": 0
           },
           {
            "bin_end": 32,
            "bin_start": 28.900000000000002,
            "count": 1
           }
          ],
          "max": "32",
          "min": "1",
          "nan_count": 0,
          "unique_count": 5
         }
        },
        {
         "dtype": "float64",
         "name": "serror_rate",
         "stats": {
          "histogram": [
           {
            "bin_end": 0.1,
            "bin_start": 0,
            "count": 3
           },
           {
            "bin_end": 0.2,
            "bin_start": 0.1,
            "count": 0
           },
           {
            "bin_end": 0.30000000000000004,
            "bin_start": 0.2,
            "count": 1
           },
           {
            "bin_end": 0.4,
            "bin_start": 0.30000000000000004,
            "count": 0
           },
           {
            "bin_end": 0.5,
            "bin_start": 0.4,
            "count": 0
           },
           {
            "bin_end": 0.6000000000000001,
            "bin_start": 0.5,
            "count": 0
           },
           {
            "bin_end": 0.7000000000000001,
            "bin_start": 0.6000000000000001,
            "count": 0
           },
           {
            "bin_end": 0.8,
            "bin_start": 0.7000000000000001,
            "count": 0
           },
           {
            "bin_end": 0.9,
            "bin_start": 0.8,
            "count": 0
           },
           {
            "bin_end": 1,
            "bin_start": 0.9,
            "count": 1
           }
          ],
          "max": "1.0",
          "min": "0.0",
          "nan_count": 0,
          "unique_count": 3
         }
        },
        {
         "dtype": "float64",
         "name": "srv_serror_rate",
         "stats": {
          "histogram": [
           {
            "bin_end": 0.1,
            "bin_start": 0,
            "count": 3
           },
           {
            "bin_end": 0.2,
            "bin_start": 0.1,
            "count": 0
           },
           {
            "bin_end": 0.30000000000000004,
            "bin_start": 0.2,
            "count": 1
           },
           {
            "bin_end": 0.4,
            "bin_start": 0.30000000000000004,
            "count": 0
           },
           {
            "bin_end": 0.5,
            "bin_start": 0.4,
            "count": 0
           },
           {
            "bin_end": 0.6000000000000001,
            "bin_start": 0.5,
            "count": 0
           },
           {
            "bin_end": 0.7000000000000001,
            "bin_start": 0.6000000000000001,
            "count": 0
           },
           {
            "bin_end": 0.8,
            "bin_start": 0.7000000000000001,
            "count": 0
           },
           {
            "bin_end": 0.9,
            "bin_start": 0.8,
            "count": 0
           },
           {
            "bin_end": 1,
            "bin_start": 0.9,
            "count": 1
           }
          ],
          "max": "1.0",
          "min": "0.0",
          "nan_count": 0,
          "unique_count": 3
         }
        },
        {
         "dtype": "float64",
         "name": "rerror_rate",
         "stats": {
          "histogram": [
           {
            "bin_end": -0.4,
            "bin_start": -0.5,
            "count": 0
           },
           {
            "bin_end": -0.3,
            "bin_start": -0.4,
            "count": 0
           },
           {
            "bin_end": -0.19999999999999996,
            "bin_start": -0.3,
            "count": 0
           },
           {
            "bin_end": -0.09999999999999998,
            "bin_start": -0.19999999999999996,
            "count": 0
           },
           {
            "bin_end": 0,
            "bin_start": -0.09999999999999998,
            "count": 0
           },
           {
            "bin_end": 0.10000000000000009,
            "bin_start": 0,
            "count": 5
           },
           {
            "bin_end": 0.20000000000000007,
            "bin_start": 0.10000000000000009,
            "count": 0
           },
           {
            "bin_end": 0.30000000000000004,
            "bin_start": 0.20000000000000007,
            "count": 0
           },
           {
            "bin_end": 0.4,
            "bin_start": 0.30000000000000004,
            "count": 0
           },
           {
            "bin_end": 0.5,
            "bin_start": 0.4,
            "count": 0
           }
          ],
          "max": "0.0",
          "min": "0.0",
          "nan_count": 0,
          "unique_count": 1
         }
        },
        {
         "dtype": "float64",
         "name": "srv_rerror_rate",
         "stats": {
          "histogram": [
           {
            "bin_end": -0.4,
            "bin_start": -0.5,
            "count": 0
           },
           {
            "bin_end": -0.3,
            "bin_start": -0.4,
            "count": 0
           },
           {
            "bin_end": -0.19999999999999996,
            "bin_start": -0.3,
            "count": 0
           },
           {
            "bin_end": -0.09999999999999998,
            "bin_start": -0.19999999999999996,
            "count": 0
           },
           {
            "bin_end": 0,
            "bin_start": -0.09999999999999998,
            "count": 0
           },
           {
            "bin_end": 0.10000000000000009,
            "bin_start": 0,
            "count": 5
           },
           {
            "bin_end": 0.20000000000000007,
            "bin_start": 0.10000000000000009,
            "count": 0
           },
           {
            "bin_end": 0.30000000000000004,
            "bin_start": 0.20000000000000007,
            "count": 0
           },
           {
            "bin_end": 0.4,
            "bin_start": 0.30000000000000004,
            "count": 0
           },
           {
            "bin_end": 0.5,
            "bin_start": 0.4,
            "count": 0
           }
          ],
          "max": "0.0",
          "min": "0.0",
          "nan_count": 0,
          "unique_count": 1
         }
        },
        {
         "dtype": "float64",
         "name": "same_srv_rate",
         "stats": {
          "histogram": [
           {
            "bin_end": 0.14500000000000002,
            "bin_start": 0.05,
            "count": 2
           },
           {
            "bin_end": 0.24,
            "bin_start": 0.14500000000000002,
            "count": 0
           },
           {
            "bin_end": 0.335,
            "bin_start": 0.24,
            "count": 0
           },
           {
            "bin_end": 0.43,
            "bin_start": 0.335,
            "count": 0
           },
           {
            "bin_end": 0.525,
            "bin_start": 0.43,
            "count": 0
           },
           {
            "bin_end": 0.6200000000000001,
            "bin_start": 0.525,
            "count": 0
           },
           {
            "bin_end": 0.7150000000000001,
            "bin_start": 0.6200000000000001,
            "count": 0
           },
           {
            "bin_end": 0.81,
            "bin_start": 0.7150000000000001,
            "count": 0
           },
           {
            "bin_end": 0.905,
            "bin_start": 0.81,
            "count": 0
           },
           {
            "bin_end": 1,
            "bin_start": 0.905,
            "count": 3
           }
          ],
          "max": "1.0",
          "min": "0.05",
          "nan_count": 0,
          "unique_count": 3
         }
        },
        {
         "dtype": "float64",
         "name": "diff_srv_rate",
         "stats": {
          "histogram": [
           {
            "bin_end": 0.015,
            "bin_start": 0,
            "count": 3
           },
           {
            "bin_end": 0.03,
            "bin_start": 0.015,
            "count": 0
           },
           {
            "bin_end": 0.045,
            "bin_start": 0.03,
            "count": 0
           },
           {
            "bin_end": 0.06,
            "bin_start": 0.045,
            "count": 0
           },
           {
            "bin_end": 0.075,
            "bin_start": 0.06,
            "count": 1
           },
           {
            "bin_end": 0.09,
            "bin_start": 0.075,
            "count": 0
           },
           {
            "bin_end": 0.105,
            "bin_start": 0.09,
            "count": 0
           },
           {
            "bin_end": 0.12,
            "bin_start": 0.105,
            "count": 0
           },
           {
            "bin_end": 0.135,
            "bin_start": 0.12,
            "count": 0
           },
           {
            "bin_end": 0.15,
            "bin_start": 0.135,
            "count": 1
           }
          ],
          "max": "0.15",
          "min": "0.0",
          "nan_count": 0,
          "unique_count": 3
         }
        },
        {
         "dtype": "float64",
         "name": "srv_diff_host_rate",
         "stats": {
          "histogram": [
           {
            "bin_end": 0.009,
            "bin_start": 0,
            "count": 4
           },
           {
            "bin_end": 0.018,
            "bin_start": 0.009,
            "count": 0
           },
           {
            "bin_end": 0.026999999999999996,
            "bin_start": 0.018,
            "count": 0
           },
           {
            "bin_end": 0.036,
            "bin_start": 0.026999999999999996,
            "count": 0
           },
           {
            "bin_end": 0.045,
            "bin_start": 0.036,
            "count": 0
           },
           {
            "bin_end": 0.05399999999999999,
            "bin_start": 0.045,
            "count": 0
           },
           {
            "bin_end": 0.063,
            "bin_start": 0.05399999999999999,
            "count": 0
           },
           {
            "bin_end": 0.072,
            "bin_start": 0.063,
            "count": 0
           },
           {
            "bin_end": 0.08099999999999999,
            "bin_start": 0.072,
            "count": 0
           },
           {
            "bin_end": 0.09,
            "bin_start": 0.08099999999999999,
            "count": 1
           }
          ],
          "max": "0.09",
          "min": "0.0",
          "nan_count": 0,
          "unique_count": 2
         }
        },
        {
         "dtype": "int64",
         "name": "dst_host_count",
         "stats": {
          "histogram": [
           {
            "bin_end": 52.5,
            "bin_start": 30,
            "count": 1
           },
           {
            "bin_end": 75,
            "bin_start": 52.5,
            "count": 0
           },
           {
            "bin_end": 97.5,
            "bin_start": 75,
            "count": 0
           },
           {
            "bin_end": 120,
            "bin_start": 97.5,
            "count": 0
           },
           {
            "bin_end": 142.5,
            "bin_start": 120,
            "count": 0
           },
           {
            "bin_end": 165,
            "bin_start": 142.5,
            "count": 1
           },
           {
            "bin_end": 187.5,
            "bin_start": 165,
            "count": 0
           },
           {
            "bin_end": 210,
            "bin_start": 187.5,
            "count": 0
           },
           {
            "bin_end": 232.5,
            "bin_start": 210,
            "count": 0
           },
           {
            "bin_end": 255,
            "bin_start": 232.5,
            "count": 3
           }
          ],
          "max": "255",
          "min": "30",
          "nan_count": 0,
          "unique_count": 3
         }
        },
        {
         "dtype": "int64",
         "name": "dst_host_srv_count",
         "stats": {
          "histogram": [
           {
            "bin_end": 26.4,
            "bin_start": 1,
            "count": 3
           },
           {
            "bin_end": 51.8,
            "bin_start": 26.4,
            "count": 0
           },
           {
            "bin_end": 77.19999999999999,
            "bin_start": 51.8,
            "count": 0
           },
           {
            "bin_end": 102.6,
            "bin_start": 77.19999999999999,
            "count": 0
           },
           {
            "bin_end": 128,
            "bin_start": 102.6,
            "count": 0
           },
           {
            "bin_end": 153.39999999999998,
            "bin_start": 128,
            "count": 0
           },
           {
            "bin_end": 178.79999999999998,
            "bin_start": 153.39999999999998,
            "count": 0
           },
           {
            "bin_end": 204.2,
            "bin_start": 178.79999999999998,
            "count": 0
           },
           {
            "bin_end": 229.6,
            "bin_start": 204.2,
            "count": 0
           },
           {
            "bin_end": 255,
            "bin_start": 229.6,
            "count": 2
           }
          ],
          "max": "255",
          "min": "1",
          "nan_count": 0,
          "unique_count": 4
         }
        },
        {
         "dtype": "float64",
         "name": "dst_host_same_srv_rate",
         "stats": {
          "histogram": [
           {
            "bin_end": 0.1,
            "bin_start": 0,
            "count": 1
           },
           {
            "bin_end": 0.2,
            "bin_start": 0.1,
            "count": 2
           },
           {
            "bin_end": 0.30000000000000004,
            "bin_start": 0.2,
            "count": 0
           },
           {
            "bin_end": 0.4,
            "bin_start": 0.30000000000000004,
            "count": 0
           },
           {
            "bin_end": 0.5,
            "bin_start": 0.4,
            "count": 0
           },
           {
            "bin_end": 0.6000000000000001,
            "bin_start": 0.5,
            "count": 0
           },
           {
            "bin_end": 0.7000000000000001,
            "bin_start": 0.6000000000000001,
            "count": 0
           },
           {
            "bin_end": 0.8,
            "bin_start": 0.7000000000000001,
            "count": 0
           },
           {
            "bin_end": 0.9,
            "bin_start": 0.8,
            "count": 0
           },
           {
            "bin_end": 1,
            "bin_start": 0.9,
            "count": 2
           }
          ],
          "max": "1.0",
          "min": "0.0",
          "nan_count": 0,
          "unique_count": 4
         }
        },
        {
         "dtype": "float64",
         "name": "dst_host_diff_srv_rate",
         "stats": {
          "histogram": [
           {
            "bin_end": 0.06,
            "bin_start": 0,
            "count": 4
           },
           {
            "bin_end": 0.12,
            "bin_start": 0.06,
            "count": 0
           },
           {
            "bin_end": 0.18,
            "bin_start": 0.12,
            "count": 0
           },
           {
            "bin_end": 0.24,
            "bin_start": 0.18,
            "count": 0
           },
           {
            "bin_end": 0.3,
            "bin_start": 0.24,
            "count": 0
           },
           {
            "bin_end": 0.36,
            "bin_start": 0.3,
            "count": 0
           },
           {
            "bin_end": 0.42,
            "bin_start": 0.36,
            "count": 0
           },
           {
            "bin_end": 0.48,
            "bin_start": 0.42,
            "count": 0
           },
           {
            "bin_end": 0.54,
            "bin_start": 0.48,
            "count": 0
           },
           {
            "bin_end": 0.6,
            "bin_start": 0.54,
            "count": 1
           }
          ],
          "max": "0.6",
          "min": "0.0",
          "nan_count": 0,
          "unique_count": 4
         }
        },
        {
         "dtype": "float64",
         "name": "dst_host_same_src_port_rate",
         "stats": {
          "histogram": [
           {
            "bin_end": 0.088,
            "bin_start": 0,
            "count": 3
           },
           {
            "bin_end": 0.176,
            "bin_start": 0.088,
            "count": 1
           },
           {
            "bin_end": 0.264,
            "bin_start": 0.176,
            "count": 0
           },
           {
            "bin_end": 0.352,
            "bin_start": 0.264,
            "count": 0
           },
           {
            "bin_end": 0.43999999999999995,
            "bin_start": 0.352,
            "count": 0
           },
           {
            "bin_end": 0.528,
            "bin_start": 0.43999999999999995,
            "count": 0
           },
           {
            "bin_end": 0.616,
            "bin_start": 0.528,
            "count": 0
           },
           {
            "bin_end": 0.704,
            "bin_start": 0.616,
            "count": 0
           },
           {
            "bin_end": 0.7919999999999999,
            "bin_start": 0.704,
            "count": 0
           },
           {
            "bin_end": 0.88,
            "bin_start": 0.7919999999999999,
            "count": 1
           }
          ],
          "max": "0.88",
          "min": "0.0",
          "nan_count": 0,
          "unique_count": 4
         }
        },
        {
         "dtype": "float64",
         "name": "dst_host_srv_diff_host_rate",
         "stats": {
          "histogram": [
           {
            "bin_end": 0.004,
            "bin_start": 0,
            "count": 4
           },
           {
            "bin_end": 0.008,
            "bin_start": 0.004,
            "count": 0
           },
           {
            "bin_end": 0.012,
            "bin_start": 0.008,
            "count": 0
           },
           {
            "bin_end": 0.016,
            "bin_start": 0.012,
            "count": 0
           },
           {
            "bin_end": 0.02,
            "bin_start": 0.016,
            "count": 0
           },
           {
            "bin_end": 0.024,
            "bin_start": 0.02,
            "count": 0
           },
           {
            "bin_end": 0.028,
            "bin_start": 0.024,
            "count": 0
           },
           {
            "bin_end": 0.032,
            "bin_start": 0.028,
            "count": 0
           },
           {
            "bin_end": 0.036000000000000004,
            "bin_start": 0.032,
            "count": 0
           },
           {
            "bin_end": 0.04,
            "bin_start": 0.036000000000000004,
            "count": 1
           }
          ],
          "max": "0.04",
          "min": "0.0",
          "nan_count": 0,
          "unique_count": 2
         }
        },
        {
         "dtype": "float64",
         "name": "dst_host_serror_rate",
         "stats": {
          "histogram": [
           {
            "bin_end": 0.1,
            "bin_start": 0,
            "count": 4
           },
           {
            "bin_end": 0.2,
            "bin_start": 0.1,
            "count": 0
           },
           {
            "bin_end": 0.30000000000000004,
            "bin_start": 0.2,
            "count": 0
           },
           {
            "bin_end": 0.4,
            "bin_start": 0.30000000000000004,
            "count": 0
           },
           {
            "bin_end": 0.5,
            "bin_start": 0.4,
            "count": 0
           },
           {
            "bin_end": 0.6000000000000001,
            "bin_start": 0.5,
            "count": 0
           },
           {
            "bin_end": 0.7000000000000001,
            "bin_start": 0.6000000000000001,
            "count": 0
           },
           {
            "bin_end": 0.8,
            "bin_start": 0.7000000000000001,
            "count": 0
           },
           {
            "bin_end": 0.9,
            "bin_start": 0.8,
            "count": 0
           },
           {
            "bin_end": 1,
            "bin_start": 0.9,
            "count": 1
           }
          ],
          "max": "1.0",
          "min": "0.0",
          "nan_count": 0,
          "unique_count": 3
         }
        },
        {
         "dtype": "float64",
         "name": "dst_host_srv_serror_rate",
         "stats": {
          "histogram": [
           {
            "bin_end": 0.1,
            "bin_start": 0,
            "count": 4
           },
           {
            "bin_end": 0.2,
            "bin_start": 0.1,
            "count": 0
           },
           {
            "bin_end": 0.30000000000000004,
            "bin_start": 0.2,
            "count": 0
           },
           {
            "bin_end": 0.4,
            "bin_start": 0.30000000000000004,
            "count": 0
           },
           {
            "bin_end": 0.5,
            "bin_start": 0.4,
            "count": 0
           },
           {
            "bin_end": 0.6000000000000001,
            "bin_start": 0.5,
            "count": 0
           },
           {
            "bin_end": 0.7000000000000001,
            "bin_start": 0.6000000000000001,
            "count": 0
           },
           {
            "bin_end": 0.8,
            "bin_start": 0.7000000000000001,
            "count": 0
           },
           {
            "bin_end": 0.9,
            "bin_start": 0.8,
            "count": 0
           },
           {
            "bin_end": 1,
            "bin_start": 0.9,
            "count": 1
           }
          ],
          "max": "1.0",
          "min": "0.0",
          "nan_count": 0,
          "unique_count": 3
         }
        },
        {
         "dtype": "float64",
         "name": "dst_host_rerror_rate",
         "stats": {
          "histogram": [
           {
            "bin_end": 0.005,
            "bin_start": 0,
            "count": 4
           },
           {
            "bin_end": 0.01,
            "bin_start": 0.005,
            "count": 0
           },
           {
            "bin_end": 0.015,
            "bin_start": 0.01,
            "count": 0
           },
           {
            "bin_end": 0.02,
            "bin_start": 0.015,
            "count": 0
           },
           {
            "bin_end": 0.025,
            "bin_start": 0.02,
            "count": 0
           },
           {
            "bin_end": 0.03,
            "bin_start": 0.025,
            "count": 0
           },
           {
            "bin_end": 0.035,
            "bin_start": 0.03,
            "count": 0
           },
           {
            "bin_end": 0.04,
            "bin_start": 0.035,
            "count": 0
           },
           {
            "bin_end": 0.045,
            "bin_start": 0.04,
            "count": 0
           },
           {
            "bin_end": 0.05,
            "bin_start": 0.045,
            "count": 1
           }
          ],
          "max": "0.05",
          "min": "0.0",
          "nan_count": 0,
          "unique_count": 2
         }
        },
        {
         "dtype": "float64",
         "name": "dst_host_srv_rerror_rate",
         "stats": {
          "histogram": [
           {
            "bin_end": 0.001,
            "bin_start": 0,
            "count": 4
           },
           {
            "bin_end": 0.002,
            "bin_start": 0.001,
            "count": 0
           },
           {
            "bin_end": 0.003,
            "bin_start": 0.002,
            "count": 0
           },
           {
            "bin_end": 0.004,
            "bin_start": 0.003,
            "count": 0
           },
           {
            "bin_end": 0.005,
            "bin_start": 0.004,
            "count": 0
           },
           {
            "bin_end": 0.006,
            "bin_start": 0.005,
            "count": 0
           },
           {
            "bin_end": 0.007,
            "bin_start": 0.006,
            "count": 0
           },
           {
            "bin_end": 0.008,
            "bin_start": 0.007,
            "count": 0
           },
           {
            "bin_end": 0.009000000000000001,
            "bin_start": 0.008,
            "count": 0
           },
           {
            "bin_end": 0.01,
            "bin_start": 0.009000000000000001,
            "count": 1
           }
          ],
          "max": "0.01",
          "min": "0.0",
          "nan_count": 0,
          "unique_count": 2
         }
        },
        {
         "dtype": "int64",
         "name": "class",
         "stats": {
          "histogram": [
           {
            "bin_end": 0.1,
            "bin_start": 0,
            "count": 1
           },
           {
            "bin_end": 0.2,
            "bin_start": 0.1,
            "count": 0
           },
           {
            "bin_end": 0.30000000000000004,
            "bin_start": 0.2,
            "count": 0
           },
           {
            "bin_end": 0.4,
            "bin_start": 0.30000000000000004,
            "count": 0
           },
           {
            "bin_end": 0.5,
            "bin_start": 0.4,
            "count": 0
           },
           {
            "bin_end": 0.6000000000000001,
            "bin_start": 0.5,
            "count": 0
           },
           {
            "bin_end": 0.7000000000000001,
            "bin_start": 0.6000000000000001,
            "count": 0
           },
           {
            "bin_end": 0.8,
            "bin_start": 0.7000000000000001,
            "count": 0
           },
           {
            "bin_end": 0.9,
            "bin_start": 0.8,
            "count": 0
           },
           {
            "bin_end": 1,
            "bin_start": 0.9,
            "count": 4
           }
          ],
          "max": "1",
          "min": "0",
          "nan_count": 0,
          "unique_count": 2
         }
        },
        {
         "dtype": "int64",
         "name": "_deepnote_index_column"
        }
       ],
       "row_count": 5,
       "rows": [
        {
         "_deepnote_index_column": 0,
         "class": 1,
         "count": 2,
         "diff_srv_rate": 0,
         "dst_bytes": 0,
         "dst_host_count": 150,
         "dst_host_diff_srv_rate": 0.03,
         "dst_host_rerror_rate": 0.05,
         "dst_host_same_src_port_rate": 0.17,
         "dst_host_same_srv_rate": 0.17,
         "dst_host_serror_rate": 0,
         "dst_host_srv_count": 25,
         "dst_host_srv_diff_host_rate": 0,
         "dst_host_srv_rerror_rate": 0,
         "dst_host_srv_serror_rate": 0,
         "duration": 0,
         "flag": 9,
         "hot": 0,
         "is_guest_login": 0,
         "is_host_login": 0,
         "land": 0,
         "logged_in": 0,
         "num_access_files": 0,
         "num_compromised": 0,
         "num_failed_logins": 0,
         "num_file_creations": 0,
         "num_root": 0,
         "num_shells": 0,
         "protocol_type": 1,
         "rerror_rate": 0,
         "root_shell": 0,
         "same_srv_rate": 1,
         "serror_rate": 0,
         "service": 19,
         "src_bytes": 491,
         "srv_count": 2,
         "srv_diff_host_rate": 0,
         "srv_rerror_rate": 0,
         "srv_serror_rate": 0,
         "su_attempted": 0,
         "urgent": 0,
         "wrong_fragment": 0
        },
        {
         "_deepnote_index_column": 1,
         "class": 1,
         "count": 13,
         "diff_srv_rate": 0.15,
         "dst_bytes": 0,
         "dst_host_count": 255,
         "dst_host_diff_srv_rate": 0.6,
         "dst_host_rerror_rate": 0,
         "dst_host_same_src_port_rate": 0.88,
         "dst_host_same_srv_rate": 0,
         "dst_host_serror_rate": 0,
         "dst_host_srv_count": 1,
         "dst_host_srv_diff_host_rate": 0,
         "dst_host_srv_rerror_rate": 0,
         "dst_host_srv_serror_rate": 0,
         "duration": 0,
         "flag": 9,
         "hot": 0,
         "is_guest_login": 0,
         "is_host_login": 0,
         "land": 0,
         "logged_in": 0,
         "num_access_files": 0,
         "num_compromised": 0,
         "num_failed_logins": 0,
         "num_file_creations": 0,
         "num_root": 0,
         "num_shells": 0,
         "protocol_type": 2,
         "rerror_rate": 0,
         "root_shell": 0,
         "same_srv_rate": 0.08,
         "serror_rate": 0,
         "service": 41,
         "src_bytes": 146,
         "srv_count": 1,
         "srv_diff_host_rate": 0,
         "srv_rerror_rate": 0,
         "srv_serror_rate": 0,
         "su_attempted": 0,
         "urgent": 0,
         "wrong_fragment": 0
        },
        {
         "_deepnote_index_column": 2,
         "class": 0,
         "count": 123,
         "diff_srv_rate": 0.07,
         "dst_bytes": 0,
         "dst_host_count": 255,
         "dst_host_diff_srv_rate": 0.05,
         "dst_host_rerror_rate": 0,
         "dst_host_same_src_port_rate": 0,
         "dst_host_same_srv_rate": 0.1,
         "dst_host_serror_rate": 1,
         "dst_host_srv_count": 26,
         "dst_host_srv_diff_host_rate": 0,
         "dst_host_srv_rerror_rate": 0,
         "dst_host_srv_serror_rate": 1,
         "duration": 0,
         "flag": 5,
         "hot": 0,
         "is_guest_login": 0,
         "is_host_login": 0,
         "land": 0,
         "logged_in": 0,
         "num_access_files": 0,
         "num_compromised": 0,
         "num_failed_logins": 0,
         "num_file_creations": 0,
         "num_root": 0,
         "num_shells": 0,
         "protocol_type": 1,
         "rerror_rate": 0,
         "root_shell": 0,
         "same_srv_rate": 0.05,
         "serror_rate": 1,
         "service": 46,
         "src_bytes": 0,
         "srv_count": 6,
         "srv_diff_host_rate": 0,
         "srv_rerror_rate": 0,
         "srv_serror_rate": 1,
         "su_attempted": 0,
         "urgent": 0,
         "wrong_fragment": 0
        },
        {
         "_deepnote_index_column": 3,
         "class": 1,
         "count": 5,
         "diff_srv_rate": 0,
         "dst_bytes": 8153,
         "dst_host_count": 30,
         "dst_host_diff_srv_rate": 0,
         "dst_host_rerror_rate": 0,
         "dst_host_same_src_port_rate": 0.03,
         "dst_host_same_srv_rate": 1,
         "dst_host_serror_rate": 0.03,
         "dst_host_srv_count": 255,
         "dst_host_srv_diff_host_rate": 0.04,
         "dst_host_srv_rerror_rate": 0.01,
         "dst_host_srv_serror_rate": 0.01,
         "duration": 0,
         "flag": 9,
         "hot": 0,
         "is_guest_login": 0,
         "is_host_login": 0,
         "land": 0,
         "logged_in": 1,
         "num_access_files": 0,
         "num_compromised": 0,
         "num_failed_logins": 0,
         "num_file_creations": 0,
         "num_root": 0,
         "num_shells": 0,
         "protocol_type": 1,
         "rerror_rate": 0,
         "root_shell": 0,
         "same_srv_rate": 1,
         "serror_rate": 0.2,
         "service": 22,
         "src_bytes": 232,
         "srv_count": 5,
         "srv_diff_host_rate": 0,
         "srv_rerror_rate": 0,
         "srv_serror_rate": 0.2,
         "su_attempted": 0,
         "urgent": 0,
         "wrong_fragment": 0
        },
        {
         "_deepnote_index_column": 4,
         "class": 1,
         "count": 30,
         "diff_srv_rate": 0,
         "dst_bytes": 420,
         "dst_host_count": 255,
         "dst_host_diff_srv_rate": 0,
         "dst_host_rerror_rate": 0,
         "dst_host_same_src_port_rate": 0,
         "dst_host_same_srv_rate": 1,
         "dst_host_serror_rate": 0,
         "dst_host_srv_count": 255,
         "dst_host_srv_diff_host_rate": 0,
         "dst_host_srv_rerror_rate": 0,
         "dst_host_srv_serror_rate": 0,
         "duration": 0,
         "flag": 9,
         "hot": 0,
         "is_guest_login": 0,
         "is_host_login": 0,
         "land": 0,
         "logged_in": 1,
         "num_access_files": 0,
         "num_compromised": 0,
         "num_failed_logins": 0,
         "num_file_creations": 0,
         "num_root": 0,
         "num_shells": 0,
         "protocol_type": 1,
         "rerror_rate": 0,
         "root_shell": 0,
         "same_srv_rate": 1,
         "serror_rate": 0,
         "service": 22,
         "src_bytes": 199,
         "srv_count": 32,
         "srv_diff_host_rate": 0.09,
         "srv_rerror_rate": 0,
         "srv_serror_rate": 0,
         "su_attempted": 0,
         "urgent": 0,
         "wrong_fragment": 0
        }
       ]
      },
      "text/html": [
       "<div>\n",
       "<style scoped>\n",
       "    .dataframe tbody tr th:only-of-type {\n",
       "        vertical-align: middle;\n",
       "    }\n",
       "\n",
       "    .dataframe tbody tr th {\n",
       "        vertical-align: top;\n",
       "    }\n",
       "\n",
       "    .dataframe thead th {\n",
       "        text-align: right;\n",
       "    }\n",
       "</style>\n",
       "<table border=\"1\" class=\"dataframe\">\n",
       "  <thead>\n",
       "    <tr style=\"text-align: right;\">\n",
       "      <th></th>\n",
       "      <th>duration</th>\n",
       "      <th>protocol_type</th>\n",
       "      <th>service</th>\n",
       "      <th>flag</th>\n",
       "      <th>src_bytes</th>\n",
       "      <th>dst_bytes</th>\n",
       "      <th>land</th>\n",
       "      <th>wrong_fragment</th>\n",
       "      <th>urgent</th>\n",
       "      <th>hot</th>\n",
       "      <th>...</th>\n",
       "      <th>dst_host_srv_count</th>\n",
       "      <th>dst_host_same_srv_rate</th>\n",
       "      <th>dst_host_diff_srv_rate</th>\n",
       "      <th>dst_host_same_src_port_rate</th>\n",
       "      <th>dst_host_srv_diff_host_rate</th>\n",
       "      <th>dst_host_serror_rate</th>\n",
       "      <th>dst_host_srv_serror_rate</th>\n",
       "      <th>dst_host_rerror_rate</th>\n",
       "      <th>dst_host_srv_rerror_rate</th>\n",
       "      <th>class</th>\n",
       "    </tr>\n",
       "  </thead>\n",
       "  <tbody>\n",
       "    <tr>\n",
       "      <th>0</th>\n",
       "      <td>0</td>\n",
       "      <td>1</td>\n",
       "      <td>19</td>\n",
       "      <td>9</td>\n",
       "      <td>491</td>\n",
       "      <td>0</td>\n",
       "      <td>0</td>\n",
       "      <td>0</td>\n",
       "      <td>0</td>\n",
       "      <td>0</td>\n",
       "      <td>...</td>\n",
       "      <td>25</td>\n",
       "      <td>0.17</td>\n",
       "      <td>0.03</td>\n",
       "      <td>0.17</td>\n",
       "      <td>0.00</td>\n",
       "      <td>0.00</td>\n",
       "      <td>0.00</td>\n",
       "      <td>0.05</td>\n",
       "      <td>0.00</td>\n",
       "      <td>1</td>\n",
       "    </tr>\n",
       "    <tr>\n",
       "      <th>1</th>\n",
       "      <td>0</td>\n",
       "      <td>2</td>\n",
       "      <td>41</td>\n",
       "      <td>9</td>\n",
       "      <td>146</td>\n",
       "      <td>0</td>\n",
       "      <td>0</td>\n",
       "      <td>0</td>\n",
       "      <td>0</td>\n",
       "      <td>0</td>\n",
       "      <td>...</td>\n",
       "      <td>1</td>\n",
       "      <td>0.00</td>\n",
       "      <td>0.60</td>\n",
       "      <td>0.88</td>\n",
       "      <td>0.00</td>\n",
       "      <td>0.00</td>\n",
       "      <td>0.00</td>\n",
       "      <td>0.00</td>\n",
       "      <td>0.00</td>\n",
       "      <td>1</td>\n",
       "    </tr>\n",
       "    <tr>\n",
       "      <th>2</th>\n",
       "      <td>0</td>\n",
       "      <td>1</td>\n",
       "      <td>46</td>\n",
       "      <td>5</td>\n",
       "      <td>0</td>\n",
       "      <td>0</td>\n",
       "      <td>0</td>\n",
       "      <td>0</td>\n",
       "      <td>0</td>\n",
       "      <td>0</td>\n",
       "      <td>...</td>\n",
       "      <td>26</td>\n",
       "      <td>0.10</td>\n",
       "      <td>0.05</td>\n",
       "      <td>0.00</td>\n",
       "      <td>0.00</td>\n",
       "      <td>1.00</td>\n",
       "      <td>1.00</td>\n",
       "      <td>0.00</td>\n",
       "      <td>0.00</td>\n",
       "      <td>0</td>\n",
       "    </tr>\n",
       "    <tr>\n",
       "      <th>3</th>\n",
       "      <td>0</td>\n",
       "      <td>1</td>\n",
       "      <td>22</td>\n",
       "      <td>9</td>\n",
       "      <td>232</td>\n",
       "      <td>8153</td>\n",
       "      <td>0</td>\n",
       "      <td>0</td>\n",
       "      <td>0</td>\n",
       "      <td>0</td>\n",
       "      <td>...</td>\n",
       "      <td>255</td>\n",
       "      <td>1.00</td>\n",
       "      <td>0.00</td>\n",
       "      <td>0.03</td>\n",
       "      <td>0.04</td>\n",
       "      <td>0.03</td>\n",
       "      <td>0.01</td>\n",
       "      <td>0.00</td>\n",
       "      <td>0.01</td>\n",
       "      <td>1</td>\n",
       "    </tr>\n",
       "    <tr>\n",
       "      <th>4</th>\n",
       "      <td>0</td>\n",
       "      <td>1</td>\n",
       "      <td>22</td>\n",
       "      <td>9</td>\n",
       "      <td>199</td>\n",
       "      <td>420</td>\n",
       "      <td>0</td>\n",
       "      <td>0</td>\n",
       "      <td>0</td>\n",
       "      <td>0</td>\n",
       "      <td>...</td>\n",
       "      <td>255</td>\n",
       "      <td>1.00</td>\n",
       "      <td>0.00</td>\n",
       "      <td>0.00</td>\n",
       "      <td>0.00</td>\n",
       "      <td>0.00</td>\n",
       "      <td>0.00</td>\n",
       "      <td>0.00</td>\n",
       "      <td>0.00</td>\n",
       "      <td>1</td>\n",
       "    </tr>\n",
       "  </tbody>\n",
       "</table>\n",
       "<p>5 rows × 41 columns</p>\n",
       "</div>"
      ],
      "text/plain": [
       "   duration  protocol_type  service  flag  src_bytes  dst_bytes  land  \\\n",
       "0         0              1       19     9        491          0     0   \n",
       "1         0              2       41     9        146          0     0   \n",
       "2         0              1       46     5          0          0     0   \n",
       "3         0              1       22     9        232       8153     0   \n",
       "4         0              1       22     9        199        420     0   \n",
       "\n",
       "   wrong_fragment  urgent  hot  ...  dst_host_srv_count  \\\n",
       "0               0       0    0  ...                  25   \n",
       "1               0       0    0  ...                   1   \n",
       "2               0       0    0  ...                  26   \n",
       "3               0       0    0  ...                 255   \n",
       "4               0       0    0  ...                 255   \n",
       "\n",
       "   dst_host_same_srv_rate  dst_host_diff_srv_rate  \\\n",
       "0                    0.17                    0.03   \n",
       "1                    0.00                    0.60   \n",
       "2                    0.10                    0.05   \n",
       "3                    1.00                    0.00   \n",
       "4                    1.00                    0.00   \n",
       "\n",
       "   dst_host_same_src_port_rate  dst_host_srv_diff_host_rate  \\\n",
       "0                         0.17                         0.00   \n",
       "1                         0.88                         0.00   \n",
       "2                         0.00                         0.00   \n",
       "3                         0.03                         0.04   \n",
       "4                         0.00                         0.00   \n",
       "\n",
       "   dst_host_serror_rate  dst_host_srv_serror_rate  dst_host_rerror_rate  \\\n",
       "0                  0.00                      0.00                  0.05   \n",
       "1                  0.00                      0.00                  0.00   \n",
       "2                  1.00                      1.00                  0.00   \n",
       "3                  0.03                      0.01                  0.00   \n",
       "4                  0.00                      0.00                  0.00   \n",
       "\n",
       "   dst_host_srv_rerror_rate  class  \n",
       "0                      0.00      1  \n",
       "1                      0.00      1  \n",
       "2                      0.00      0  \n",
       "3                      0.01      1  \n",
       "4                      0.00      1  \n",
       "\n",
       "[5 rows x 41 columns]"
      ]
     },
     "execution_count": 20,
     "metadata": {},
     "output_type": "execute_result"
    }
   ],
   "source": [
    "train.head()"
   ]
  },
  {
   "cell_type": "code",
   "execution_count": 21,
   "metadata": {
    "cell_id": "f9fe68ccce474fe296943bd6858dcfc3",
    "deepnote_cell_type": "code",
    "execution_context_id": "7f5673bf-8344-43a3-881f-6dc18cb8328f",
    "execution_millis": 0,
    "execution_start": 1732647135228,
    "source_hash": "573bdd09"
   },
   "outputs": [],
   "source": [
    "X_train = train.drop(['class'], axis=1)\n",
    "Y_train = train['class']"
   ]
  },
  {
   "cell_type": "code",
   "execution_count": 22,
   "metadata": {
    "allow_embed": false,
    "cell_id": "c3cdd32eed2d4d11b6544a3cad843f12",
    "deepnote_cell_type": "code",
    "execution_context_id": "7f5673bf-8344-43a3-881f-6dc18cb8328f",
    "execution_millis": 0,
    "execution_start": 1732647135280,
    "source_hash": "f5ccc435"
   },
   "outputs": [],
   "source": [
    "# X_train = train.drop(['class'], axis=1): This line creates the feature set X_train by removing the class \n",
    "# column from the train DataFrame. The class column is the target variable (i.e., what you're trying to predict)\n",
    "# and the rest are the features.\n",
    "\n",
    "# Y_train = train['class']: This line creates the target variable Y_train by selecting the class column \n",
    "#from the train DataFrame, which represents the labels (or outcomes) to predict."
   ]
  },
  {
   "cell_type": "code",
   "execution_count": 23,
   "metadata": {
    "cell_id": "cc30f31f57124d348fdb67d2943f10df",
    "deepnote_cell_type": "code",
    "execution_context_id": "7f5673bf-8344-43a3-881f-6dc18cb8328f",
    "execution_millis": 46813,
    "execution_start": 1732647135329,
    "source_hash": "be929e15"
   },
   "outputs": [
    {
     "data": {
      "text/plain": [
       "['protocol_type',\n",
       " 'flag',\n",
       " 'src_bytes',\n",
       " 'dst_bytes',\n",
       " 'count',\n",
       " 'same_srv_rate',\n",
       " 'diff_srv_rate',\n",
       " 'dst_host_srv_count',\n",
       " 'dst_host_same_srv_rate',\n",
       " 'dst_host_same_src_port_rate']"
      ]
     },
     "execution_count": 23,
     "metadata": {},
     "output_type": "execute_result"
    }
   ],
   "source": [
    "# feature selection in a dataset, specifically using Recursive Feature Elimination (RFE) with a \n",
    "# RandomForestClassifier (RFC) as the estimator\n",
    "\n",
    "rfc = RandomForestClassifier()\n",
    "\n",
    "rfe = RFE(rfc, n_features_to_select=10)\n",
    "rfe = rfe.fit(X_train, Y_train)\n",
    "\n",
    "feature_map = [(i, v) for i, v in itertools.zip_longest(rfe.get_support(), X_train.columns)]\n",
    "selected_features = [v for i, v in feature_map if i==True]\n",
    "\n",
    "selected_features"
   ]
  },
  {
   "cell_type": "code",
   "execution_count": 24,
   "metadata": {
    "cell_id": "beff40e3b08947718e08e70b491b44fc",
    "deepnote_cell_type": "code",
    "execution_context_id": "7f5673bf-8344-43a3-881f-6dc18cb8328f",
    "execution_millis": 0,
    "execution_start": 1732647182184,
    "source_hash": "ca8f1279"
   },
   "outputs": [],
   "source": [
    "X_train = X_train[selected_features]\n"
   ]
  },
  {
   "cell_type": "code",
   "execution_count": 25,
   "metadata": {
    "cell_id": "98ae6415fce2458085fb56a83d29674f",
    "deepnote_cell_type": "code",
    "execution_context_id": "7f5673bf-8344-43a3-881f-6dc18cb8328f",
    "execution_millis": 0,
    "execution_start": 1732647182232,
    "source_hash": "e66d46be"
   },
   "outputs": [],
   "source": [
    "scale = StandardScaler()\n",
    "X_train = scale.fit_transform(X_train)\n",
    "test = scale.fit_transform(test)"
   ]
  },
  {
   "cell_type": "code",
   "execution_count": 26,
   "metadata": {
    "cell_id": "c59260a8fe494451bfbdc330bd7d104c",
    "deepnote_cell_type": "code",
    "execution_context_id": "7f5673bf-8344-43a3-881f-6dc18cb8328f",
    "execution_millis": 0,
    "execution_start": 1732647182284,
    "source_hash": "f4dd4e69"
   },
   "outputs": [],
   "source": [
    "x_train, x_test, y_train, y_test = train_test_split(X_train, Y_train, train_size=0.70, random_state=2)\n"
   ]
  },
  {
   "cell_type": "code",
   "execution_count": 27,
   "metadata": {
    "cell_id": "1830e73087de4fd183b984702898ae2a",
    "deepnote_cell_type": "code",
    "execution_context_id": "7f5673bf-8344-43a3-881f-6dc18cb8328f",
    "execution_millis": 0,
    "execution_start": 1732647182336,
    "source_hash": "5be7198a"
   },
   "outputs": [
    {
     "data": {
      "text/plain": [
       "(17634, 10)"
      ]
     },
     "execution_count": 27,
     "metadata": {},
     "output_type": "execute_result"
    }
   ],
   "source": [
    "x_train.shape\n"
   ]
  },
  {
   "cell_type": "code",
   "execution_count": 28,
   "metadata": {
    "cell_id": "d0c73d1e84bd45f5905a1ee3d50a0fd8",
    "deepnote_cell_type": "code",
    "execution_context_id": "7f5673bf-8344-43a3-881f-6dc18cb8328f",
    "execution_millis": 0,
    "execution_start": 1732647182384,
    "source_hash": "692ae804"
   },
   "outputs": [
    {
     "data": {
      "text/plain": [
       "(7558, 10)"
      ]
     },
     "execution_count": 28,
     "metadata": {},
     "output_type": "execute_result"
    }
   ],
   "source": [
    "x_test.shape"
   ]
  },
  {
   "cell_type": "code",
   "execution_count": 29,
   "metadata": {
    "cell_id": "614e36be2d4e4d11a08269f2632a225c",
    "deepnote_cell_type": "code",
    "execution_context_id": "7f5673bf-8344-43a3-881f-6dc18cb8328f",
    "execution_millis": 0,
    "execution_start": 1732647182436,
    "source_hash": "9cd47083"
   },
   "outputs": [
    {
     "data": {
      "text/plain": [
       "(17634,)"
      ]
     },
     "execution_count": 29,
     "metadata": {},
     "output_type": "execute_result"
    }
   ],
   "source": [
    "y_train.shape"
   ]
  },
  {
   "cell_type": "code",
   "execution_count": 30,
   "metadata": {
    "cell_id": "dc1de89af0be429a975bfde15b334ba5",
    "deepnote_cell_type": "code",
    "execution_context_id": "7f5673bf-8344-43a3-881f-6dc18cb8328f",
    "execution_millis": 0,
    "execution_start": 1732647182484,
    "source_hash": "953a8cdc"
   },
   "outputs": [
    {
     "data": {
      "text/plain": [
       "(7558,)"
      ]
     },
     "execution_count": 30,
     "metadata": {},
     "output_type": "execute_result"
    }
   ],
   "source": [
    "y_test.shape"
   ]
  },
  {
   "cell_type": "code",
   "execution_count": 31,
   "metadata": {
    "cell_id": "00158607bee94f978b2d8c418e3c1b65",
    "deepnote_cell_type": "code",
    "execution_context_id": "7f5673bf-8344-43a3-881f-6dc18cb8328f",
    "execution_millis": 0,
    "execution_start": 1732647182532,
    "source_hash": "41ca3a68"
   },
   "outputs": [],
   "source": [
    "\n",
    "import time"
   ]
  },
  {
   "cell_type": "code",
   "execution_count": 32,
   "metadata": {
    "cell_id": "bb3cce6cb3d241bcbc4d660993bd72f3",
    "deepnote_cell_type": "code",
    "execution_context_id": "7f5673bf-8344-43a3-881f-6dc18cb8328f",
    "execution_millis": 270,
    "execution_start": 1732647182580,
    "source_hash": "8f3ae2b8"
   },
   "outputs": [
    {
     "name": "stdout",
     "output_type": "stream",
     "text": [
      "Training time:  0.2229321002960205\n"
     ]
    }
   ],
   "source": [
    "from sklearn.linear_model import LogisticRegression\n",
    "  \n",
    "clfl = LogisticRegression(max_iter = 1200000)\n",
    "start_time = time.time()\n",
    "clfl.fit(x_train, y_train.values.ravel())\n",
    "end_time = time.time()\n",
    "print(\"Training time: \", end_time-start_time)"
   ]
  },
  {
   "cell_type": "code",
   "execution_count": 33,
   "metadata": {
    "cell_id": "0b500b155fa44e68a68da14baf3d9f32",
    "deepnote_cell_type": "code",
    "execution_context_id": "7f5673bf-8344-43a3-881f-6dc18cb8328f",
    "execution_millis": 59,
    "execution_start": 1732647182896,
    "source_hash": "cbed404a"
   },
   "outputs": [
    {
     "name": "stdout",
     "output_type": "stream",
     "text": [
      "Testing time:  0.0018506050109863281\n"
     ]
    }
   ],
   "source": [
    "start_time = time.time()\n",
    "y_test_pred = clfl.predict(x_train)\n",
    "end_time = time.time()\n",
    "print(\"Testing time: \", end_time-start_time)"
   ]
  },
  {
   "cell_type": "code",
   "execution_count": 34,
   "metadata": {
    "cell_id": "6f0b5e8ad9d44f5a890e38ce0e33b84b",
    "deepnote_cell_type": "code",
    "execution_context_id": "7f5673bf-8344-43a3-881f-6dc18cb8328f",
    "execution_millis": 601,
    "execution_start": 1732647183051,
    "source_hash": "74e9d8bd"
   },
   "outputs": [
    {
     "data": {
      "text/html": [
       "<style>#sk-container-id-1 {color: black;background-color: white;}#sk-container-id-1 pre{padding: 0;}#sk-container-id-1 div.sk-toggleable {background-color: white;}#sk-container-id-1 label.sk-toggleable__label {cursor: pointer;display: block;width: 100%;margin-bottom: 0;padding: 0.3em;box-sizing: border-box;text-align: center;}#sk-container-id-1 label.sk-toggleable__label-arrow:before {content: \"▸\";float: left;margin-right: 0.25em;color: #696969;}#sk-container-id-1 label.sk-toggleable__label-arrow:hover:before {color: black;}#sk-container-id-1 div.sk-estimator:hover label.sk-toggleable__label-arrow:before {color: black;}#sk-container-id-1 div.sk-toggleable__content {max-height: 0;max-width: 0;overflow: hidden;text-align: left;background-color: #f0f8ff;}#sk-container-id-1 div.sk-toggleable__content pre {margin: 0.2em;color: black;border-radius: 0.25em;background-color: #f0f8ff;}#sk-container-id-1 input.sk-toggleable__control:checked~div.sk-toggleable__content {max-height: 200px;max-width: 100%;overflow: auto;}#sk-container-id-1 input.sk-toggleable__control:checked~label.sk-toggleable__label-arrow:before {content: \"▾\";}#sk-container-id-1 div.sk-estimator input.sk-toggleable__control:checked~label.sk-toggleable__label {background-color: #d4ebff;}#sk-container-id-1 div.sk-label input.sk-toggleable__control:checked~label.sk-toggleable__label {background-color: #d4ebff;}#sk-container-id-1 input.sk-hidden--visually {border: 0;clip: rect(1px 1px 1px 1px);clip: rect(1px, 1px, 1px, 1px);height: 1px;margin: -1px;overflow: hidden;padding: 0;position: absolute;width: 1px;}#sk-container-id-1 div.sk-estimator {font-family: monospace;background-color: #f0f8ff;border: 1px dotted black;border-radius: 0.25em;box-sizing: border-box;margin-bottom: 0.5em;}#sk-container-id-1 div.sk-estimator:hover {background-color: #d4ebff;}#sk-container-id-1 div.sk-parallel-item::after {content: \"\";width: 100%;border-bottom: 1px solid gray;flex-grow: 1;}#sk-container-id-1 div.sk-label:hover label.sk-toggleable__label {background-color: #d4ebff;}#sk-container-id-1 div.sk-serial::before {content: \"\";position: absolute;border-left: 1px solid gray;box-sizing: border-box;top: 0;bottom: 0;left: 50%;z-index: 0;}#sk-container-id-1 div.sk-serial {display: flex;flex-direction: column;align-items: center;background-color: white;padding-right: 0.2em;padding-left: 0.2em;position: relative;}#sk-container-id-1 div.sk-item {position: relative;z-index: 1;}#sk-container-id-1 div.sk-parallel {display: flex;align-items: stretch;justify-content: center;background-color: white;position: relative;}#sk-container-id-1 div.sk-item::before, #sk-container-id-1 div.sk-parallel-item::before {content: \"\";position: absolute;border-left: 1px solid gray;box-sizing: border-box;top: 0;bottom: 0;left: 50%;z-index: -1;}#sk-container-id-1 div.sk-parallel-item {display: flex;flex-direction: column;z-index: 1;position: relative;background-color: white;}#sk-container-id-1 div.sk-parallel-item:first-child::after {align-self: flex-end;width: 50%;}#sk-container-id-1 div.sk-parallel-item:last-child::after {align-self: flex-start;width: 50%;}#sk-container-id-1 div.sk-parallel-item:only-child::after {width: 0;}#sk-container-id-1 div.sk-dashed-wrapped {border: 1px dashed gray;margin: 0 0.4em 0.5em 0.4em;box-sizing: border-box;padding-bottom: 0.4em;background-color: white;}#sk-container-id-1 div.sk-label label {font-family: monospace;font-weight: bold;display: inline-block;line-height: 1.2em;}#sk-container-id-1 div.sk-label-container {text-align: center;}#sk-container-id-1 div.sk-container {/* jupyter's `normalize.less` sets `[hidden] { display: none; }` but bootstrap.min.css set `[hidden] { display: none !important; }` so we also need the `!important` here to be able to override the default hidden behavior on the sphinx rendered scikit-learn.org. See: https://github.com/scikit-learn/scikit-learn/issues/21755 */display: inline-block !important;position: relative;}#sk-container-id-1 div.sk-text-repr-fallback {display: none;}</style><div id=\"sk-container-id-1\" class=\"sk-top-container\"><div class=\"sk-text-repr-fallback\"><pre>LogisticRegression(random_state=42)</pre><b>In a Jupyter environment, please rerun this cell to show the HTML representation or trust the notebook. <br />On GitHub, the HTML representation is unable to render, please try loading this page with nbviewer.org.</b></div><div class=\"sk-container\" hidden><div class=\"sk-item\"><div class=\"sk-estimator sk-toggleable\"><input class=\"sk-toggleable__control sk-hidden--visually\" id=\"sk-estimator-id-1\" type=\"checkbox\" checked><label for=\"sk-estimator-id-1\" class=\"sk-toggleable__label sk-toggleable__label-arrow\">LogisticRegression</label><div class=\"sk-toggleable__content\"><pre>LogisticRegression(random_state=42)</pre></div></div></div></div></div>"
      ],
      "text/plain": [
       "LogisticRegression(random_state=42)"
      ]
     },
     "execution_count": 34,
     "metadata": {},
     "output_type": "execute_result"
    }
   ],
   "source": [
    "lg_model = LogisticRegression(random_state = 42)\n",
    "lg_model.fit(x_train, y_train)"
   ]
  },
  {
   "cell_type": "code",
   "execution_count": 35,
   "metadata": {
    "cell_id": "f6906f6e5a5f49d8a0c92cc90d9f5c05",
    "deepnote_cell_type": "code",
    "execution_context_id": "7f5673bf-8344-43a3-881f-6dc18cb8328f",
    "execution_millis": 59,
    "execution_start": 1732647183696,
    "source_hash": "c05f1171"
   },
   "outputs": [
    {
     "name": "stdout",
     "output_type": "stream",
     "text": [
      "Training Score: 0.9418169445389588\n",
      "Test Score: 0.938872717650172\n"
     ]
    }
   ],
   "source": [
    "#Results\n",
    "lg_train, lg_test = lg_model.score(x_train , y_train), lg_model.score(x_test , y_test)\n",
    "\n",
    "print(f\"Training Score: {lg_train}\")\n",
    "print(f\"Test Score: {lg_test}\")\n",
    "\n",
    "\n",
    "#Conclusion: The Logistic Regression model appears to be performing well on both the training and test datasets, \n",
    "#with high accuracy in predicting the target variable for both."
   ]
  },
  {
   "cell_type": "code",
   "execution_count": 36,
   "metadata": {
    "cell_id": "0e00c24e89244ea98e6fa8e6bf43fe1d",
    "deepnote_cell_type": "code",
    "execution_context_id": "7f5673bf-8344-43a3-881f-6dc18cb8328f",
    "execution_millis": 4111,
    "execution_start": 1732647183859,
    "source_hash": "24dab69"
   },
   "outputs": [
    {
     "name": "stdout",
     "output_type": "stream",
     "text": [
      "Collecting optuna\n",
      "  Downloading optuna-4.1.0-py3-none-any.whl (364 kB)\n",
      "\u001b[2K     \u001b[90m━━━━━━━━━━━━━━━━━━━━━━━━━━━━━━━━━━━━━━\u001b[0m \u001b[32m364.4/364.4 kB\u001b[0m \u001b[31m25.1 MB/s\u001b[0m eta \u001b[36m0:00:00\u001b[0m\n",
      "\u001b[?25hRequirement already satisfied: numpy in /shared-libs/python3.9/py/lib/python3.9/site-packages (from optuna) (1.23.4)\n",
      "Requirement already satisfied: sqlalchemy>=1.4.2 in /shared-libs/python3.9/py/lib/python3.9/site-packages (from optuna) (1.4.42)\n",
      "Collecting PyYAML\n",
      "  Downloading PyYAML-6.0.2-cp39-cp39-manylinux_2_17_x86_64.manylinux2014_x86_64.whl (737 kB)\n",
      "\u001b[2K     \u001b[90m━━━━━━━━━━━━━━━━━━━━━━━━━━━━━━━━━━━━━━\u001b[0m \u001b[32m737.4/737.4 kB\u001b[0m \u001b[31m61.6 MB/s\u001b[0m eta \u001b[36m0:00:00\u001b[0m\n",
      "\u001b[?25hRequirement already satisfied: packaging>=20.0 in /shared-libs/python3.9/py-core/lib/python3.9/site-packages (from optuna) (21.3)\n",
      "Requirement already satisfied: alembic>=1.5.0 in /shared-libs/python3.9/py/lib/python3.9/site-packages (from optuna) (1.11.1)\n",
      "Collecting colorlog\n",
      "  Downloading colorlog-6.9.0-py3-none-any.whl (11 kB)\n",
      "Requirement already satisfied: tqdm in /shared-libs/python3.9/py/lib/python3.9/site-packages (from optuna) (4.64.1)\n",
      "Requirement already satisfied: typing-extensions>=4 in /shared-libs/python3.9/py/lib/python3.9/site-packages (from alembic>=1.5.0->optuna) (4.4.0)\n",
      "Requirement already satisfied: Mako in /shared-libs/python3.9/py/lib/python3.9/site-packages (from alembic>=1.5.0->optuna) (1.2.4)\n",
      "Requirement already satisfied: pyparsing!=3.0.5,>=2.0.2 in /shared-libs/python3.9/py-core/lib/python3.9/site-packages (from packaging>=20.0->optuna) (3.0.9)\n",
      "Requirement already satisfied: greenlet!=0.4.17 in /shared-libs/python3.9/py/lib/python3.9/site-packages (from sqlalchemy>=1.4.2->optuna) (1.1.3.post0)\n",
      "Requirement already satisfied: MarkupSafe>=0.9.2 in /shared-libs/python3.9/py-core/lib/python3.9/site-packages (from Mako->alembic>=1.5.0->optuna) (2.0.0)\n",
      "Installing collected packages: PyYAML, colorlog, optuna\n",
      "Successfully installed PyYAML-6.0.2 colorlog-6.9.0 optuna-4.1.0\n",
      "\n",
      "\u001b[1m[\u001b[0m\u001b[34;49mnotice\u001b[0m\u001b[1;39;49m]\u001b[0m\u001b[39;49m A new release of pip is available: \u001b[0m\u001b[31;49m23.0.1\u001b[0m\u001b[39;49m -> \u001b[0m\u001b[32;49m24.3.1\u001b[0m\n",
      "\u001b[1m[\u001b[0m\u001b[34;49mnotice\u001b[0m\u001b[1;39;49m]\u001b[0m\u001b[39;49m To update, run: \u001b[0m\u001b[32;49mpip install --upgrade pip\u001b[0m\n"
     ]
    }
   ],
   "source": [
    "!pip install optuna\n"
   ]
  },
  {
   "cell_type": "code",
   "execution_count": 37,
   "metadata": {
    "cell_id": "f7c506b2683c47bfafe394b39b87ed3f",
    "deepnote_cell_type": "code",
    "execution_context_id": "7f5673bf-8344-43a3-881f-6dc18cb8328f",
    "execution_millis": 8,
    "execution_start": 1732647188012,
    "source_hash": "fd517fe0"
   },
   "outputs": [
    {
     "name": "stderr",
     "output_type": "stream",
     "text": [
      "/shared-libs/python3.9/py/lib/python3.9/site-packages/tqdm/auto.py:22: TqdmWarning: IProgress not found. Please update jupyter and ipywidgets. See https://ipywidgets.readthedocs.io/en/stable/user_install.html\n",
      "  from .autonotebook import tqdm as notebook_tqdm\n"
     ]
    }
   ],
   "source": [
    "import optuna\n",
    "optuna.logging.set_verbosity(optuna.logging.WARNING)\n",
    "def objective(trial):\n",
    "    n_neighbors = trial.suggest_int('KNN_n_neighbors', 2, 16, log=False)\n",
    "    classifier_obj = KNeighborsClassifier(n_neighbors=n_neighbors)\n",
    "    classifier_obj.fit(x_train, y_train)\n",
    "    accuracy = classifier_obj.score(x_test, y_test)\n",
    "    return accuracy\n"
   ]
  },
  {
   "cell_type": "code",
   "execution_count": 38,
   "metadata": {
    "cell_id": "4c905f1f5d254096ae7b9e06fffa1c0b",
    "deepnote_cell_type": "code",
    "execution_context_id": "7f5673bf-8344-43a3-881f-6dc18cb8328f",
    "execution_millis": 798,
    "execution_start": 1732647188068,
    "source_hash": "6ed35a2d"
   },
   "outputs": [
    {
     "name": "stdout",
     "output_type": "stream",
     "text": [
      "FrozenTrial(number=0, state=TrialState.COMPLETE, values=[0.9792273088118549], datetime_start=datetime.datetime(2024, 11, 26, 18, 53, 8, 24435), datetime_complete=datetime.datetime(2024, 11, 26, 18, 53, 8, 861882), params={'KNN_n_neighbors': 15}, user_attrs={}, system_attrs={}, intermediate_values={}, distributions={'KNN_n_neighbors': IntDistribution(high=16, log=False, low=2, step=1)}, trial_id=0, value=None)\n"
     ]
    }
   ],
   "source": [
    "study_KNN = optuna.create_study(direction='maximize')\n",
    "study_KNN.optimize(objective, n_trials=1)\n",
    "print(study_KNN.best_trial)"
   ]
  },
  {
   "cell_type": "code",
   "execution_count": 39,
   "metadata": {
    "cell_id": "828e61fab2ab4a65a5b6e0d21a0f81ed",
    "deepnote_cell_type": "code",
    "execution_context_id": "7f5673bf-8344-43a3-881f-6dc18cb8328f",
    "execution_millis": 2537,
    "execution_start": 1732647188912,
    "source_hash": "b3485147"
   },
   "outputs": [
    {
     "name": "stdout",
     "output_type": "stream",
     "text": [
      "Train Score: 0.9786208460927753\n",
      "Test Score: 0.9792273088118549\n"
     ]
    }
   ],
   "source": [
    "KNN_model = KNeighborsClassifier(n_neighbors=study_KNN.best_trial.params['KNN_n_neighbors'])\n",
    "KNN_model.fit(x_train, y_train)\n",
    "\n",
    "KNN_train, KNN_test = KNN_model.score(x_train, y_train), KNN_model.score(x_test, y_test)\n",
    "\n",
    "print(f\"Train Score: {KNN_train}\")\n",
    "print(f\"Test Score: {KNN_test}\")"
   ]
  },
  {
   "cell_type": "markdown",
   "metadata": {
    "cell_id": "76069fb0372d44f6983e7f04e8076cec",
    "deepnote_cell_type": "markdown"
   },
   "source": [
    "#KNN Model Results\n",
    "#Since the training and test scores are nearly identical, this indicates low risk of overfitting. The KNN model is performing consistently on both sets."
   ]
  },
  {
   "cell_type": "code",
   "execution_count": 40,
   "metadata": {
    "cell_id": "717b71ad4bfe43dc890d504a4c2bb4c0",
    "deepnote_cell_type": "code",
    "execution_context_id": "7f5673bf-8344-43a3-881f-6dc18cb8328f",
    "execution_millis": 0,
    "execution_start": 1732647191492,
    "source_hash": "39953c20"
   },
   "outputs": [
    {
     "name": "stdout",
     "output_type": "stream",
     "text": [
      "Training time:  0.020139455795288086\n"
     ]
    }
   ],
   "source": [
    "from sklearn.tree import DecisionTreeClassifier\n",
    "  \n",
    "clfd = DecisionTreeClassifier(criterion =\"entropy\", max_depth = 4)\n",
    "start_time = time.time()\n",
    "clfd.fit(x_train, y_train.values.ravel())\n",
    "end_time = time.time()\n",
    "print(\"Training time: \", end_time-start_time)"
   ]
  },
  {
   "cell_type": "code",
   "execution_count": 41,
   "metadata": {
    "cell_id": "689f6368d94b4a33b39f89542ee2797c",
    "deepnote_cell_type": "code",
    "execution_context_id": "7f5673bf-8344-43a3-881f-6dc18cb8328f",
    "execution_millis": 0,
    "execution_start": 1732647191544,
    "source_hash": "e0adaa83"
   },
   "outputs": [
    {
     "name": "stdout",
     "output_type": "stream",
     "text": [
      "Testing time:  0.001943826675415039\n"
     ]
    }
   ],
   "source": [
    "start_time = time.time()\n",
    "y_test_pred = clfd.predict(x_train)\n",
    "end_time = time.time()\n",
    "print(\"Testing time: \", end_time-start_time)"
   ]
  },
  {
   "cell_type": "markdown",
   "metadata": {
    "cell_id": "3af9907674954d2f9939147e9f1bbc53",
    "deepnote_cell_type": "markdown"
   },
   "source": [
    "#KNN is computationally expensive at inference time since it calculates distances between test points and training data.\n",
    "#Decision Trees have a straightforward structure and evaluate a series of rules for prediction."
   ]
  },
  {
   "cell_type": "markdown",
   "metadata": {
    "cell_id": "fa72fce4b88a40589cb02ec275af23c0",
    "deepnote_cell_type": "markdown"
   },
   "source": []
  },
  {
   "cell_type": "code",
   "execution_count": 42,
   "metadata": {
    "cell_id": "3002865cf7fb467a8995f48c80e57966",
    "deepnote_cell_type": "code",
    "execution_context_id": "7f5673bf-8344-43a3-881f-6dc18cb8328f",
    "execution_millis": 0,
    "execution_start": 1732647191596,
    "source_hash": "dd531eee"
   },
   "outputs": [],
   "source": [
    "def objective(trial):\n",
    "    dt_max_depth = trial.suggest_int('dt_max_depth', 2, 32, log=False)\n",
    "    dt_max_features = trial.suggest_int('dt_max_features', 2, 10, log=False)\n",
    "    classifier_obj = DecisionTreeClassifier(max_features = dt_max_features, max_depth = dt_max_depth)\n",
    "    classifier_obj.fit(x_train, y_train)\n",
    "    accuracy = classifier_obj.score(x_test, y_test)\n",
    "    return accuracy\n",
    "     "
   ]
  },
  {
   "cell_type": "code",
   "execution_count": 43,
   "metadata": {
    "cell_id": "99155290664b422ea59134cc3ac04185",
    "deepnote_cell_type": "code",
    "execution_context_id": "7f5673bf-8344-43a3-881f-6dc18cb8328f",
    "execution_millis": 1047,
    "execution_start": 1732647191644,
    "source_hash": "8196d7b0"
   },
   "outputs": [
    {
     "name": "stdout",
     "output_type": "stream",
     "text": [
      "FrozenTrial(number=29, state=TrialState.COMPLETE, values=[0.9955014554114845], datetime_start=datetime.datetime(2024, 11, 26, 18, 53, 12, 637829), datetime_complete=datetime.datetime(2024, 11, 26, 18, 53, 12, 687271), params={'dt_max_depth': 26, 'dt_max_features': 9}, user_attrs={}, system_attrs={}, intermediate_values={}, distributions={'dt_max_depth': IntDistribution(high=32, log=False, low=2, step=1), 'dt_max_features': IntDistribution(high=10, log=False, low=2, step=1)}, trial_id=29, value=None)\n"
     ]
    }
   ],
   "source": [
    "study_dt = optuna.create_study(direction='maximize')\n",
    "study_dt.optimize(objective, n_trials=30)\n",
    "print(study_dt.best_trial)\n",
    "     "
   ]
  },
  {
   "cell_type": "code",
   "execution_count": 44,
   "metadata": {
    "cell_id": "111e3be968cf44528cc2cabe094dd265",
    "deepnote_cell_type": "code",
    "execution_context_id": "7f5673bf-8344-43a3-881f-6dc18cb8328f",
    "execution_millis": 0,
    "execution_start": 1732647192744,
    "source_hash": "56bf6a0"
   },
   "outputs": [
    {
     "name": "stdout",
     "output_type": "stream",
     "text": [
      "Train Score: 1.0\n",
      "Test Score: 0.9945752844667901\n"
     ]
    }
   ],
   "source": [
    "dt = DecisionTreeClassifier(max_features = study_dt.best_trial.params['dt_max_features'], max_depth = study_dt.best_trial.params['dt_max_depth'])\n",
    "dt.fit(x_train, y_train)\n",
    "\n",
    "dt_train, dt_test = dt.score(x_train, y_train), dt.score(x_test, y_test)\n",
    "\n",
    "print(f\"Train Score: {dt_train}\")\n",
    "print(f\"Test Score: {dt_test}\")"
   ]
  },
  {
   "cell_type": "code",
   "execution_count": 45,
   "metadata": {
    "cell_id": "bbc7e992a00348febb67f321fbf46305",
    "deepnote_cell_type": "code",
    "execution_context_id": "7f5673bf-8344-43a3-881f-6dc18cb8328f",
    "execution_millis": 1415,
    "execution_start": 1732647192792,
    "source_hash": "a7c2a67e"
   },
   "outputs": [
    {
     "name": "stdout",
     "output_type": "stream",
     "text": [
      "\u001b[31mERROR: Could not find a version that satisfies the requirement tabulat (from versions: none)\u001b[0m\u001b[31m\n",
      "\u001b[0m\u001b[31mERROR: No matching distribution found for tabulat\u001b[0m\u001b[31m\n",
      "\u001b[0m\n",
      "\u001b[1m[\u001b[0m\u001b[34;49mnotice\u001b[0m\u001b[1;39;49m]\u001b[0m\u001b[39;49m A new release of pip is available: \u001b[0m\u001b[31;49m23.0.1\u001b[0m\u001b[39;49m -> \u001b[0m\u001b[32;49m24.3.1\u001b[0m\n",
      "\u001b[1m[\u001b[0m\u001b[34;49mnotice\u001b[0m\u001b[1;39;49m]\u001b[0m\u001b[39;49m To update, run: \u001b[0m\u001b[32;49mpip install --upgrade pip\u001b[0m\n",
      "╒═════════════════════╤═══════════════╤══════════════╕\n",
      "│ Model               │   Train Score │   Test Score │\n",
      "╞═════════════════════╪═══════════════╪══════════════╡\n",
      "│ KNN                 │      0.978621 │     0.979227 │\n",
      "├─────────────────────┼───────────────┼──────────────┤\n",
      "│ Logistic Regression │      0.941817 │     0.938873 │\n",
      "├─────────────────────┼───────────────┼──────────────┤\n",
      "│ Decision Tree       │      1        │     0.994575 │\n",
      "╘═════════════════════╧═══════════════╧══════════════╛\n"
     ]
    }
   ],
   "source": [
    "!pip install tabulat\n",
    "from tabulate import tabulate\n",
    "data = [[\"KNN\", KNN_train, KNN_test], \n",
    "        [\"Logistic Regression\", lg_train, lg_test],\n",
    "        [\"Decision Tree\", dt_train, dt_test]]\n",
    "\n",
    "col_names = [\"Model\", \"Train Score\", \"Test Score\"]\n",
    "print(tabulate(data, headers=col_names, tablefmt=\"fancy_grid\"))"
   ]
  },
  {
   "cell_type": "code",
   "execution_count": 46,
   "metadata": {
    "cell_id": "762195afb40644888a099d8fdcfa1bfd",
    "deepnote_cell_type": "code",
    "execution_context_id": "7f5673bf-8344-43a3-881f-6dc18cb8328f",
    "execution_millis": 0,
    "execution_start": 1732647232196,
    "source_hash": "b938f434"
   },
   "outputs": [],
   "source": [
    "\n",
    "SEED = 42\n",
    "\n",
    "# Decision Tree Model\n",
    "dtc = DecisionTreeClassifier()\n",
    "\n",
    "# KNN\n",
    "knn = KNeighborsClassifier()\n",
    "\n",
    "# LOGISTIC REGRESSION MODEL\n",
    "\n",
    "lr = LogisticRegression()"
   ]
  },
  {
   "cell_type": "code",
   "execution_count": 47,
   "metadata": {
    "cell_id": "892c9ac5ee3a4e2fadce55c72e035fd9",
    "deepnote_cell_type": "code",
    "execution_context_id": "7f5673bf-8344-43a3-881f-6dc18cb8328f",
    "execution_millis": 3,
    "execution_start": 1732647245295,
    "source_hash": "ac015089"
   },
   "outputs": [],
   "source": [
    "from sklearn.model_selection import cross_val_score\n",
    "models = {}\n",
    "models['KNeighborsClassifier']= knn\n",
    "models['LogisticRegression']= lr\n",
    "models['DecisionTreeClassifier']= dtc\n",
    "     "
   ]
  },
  {
   "cell_type": "code",
   "execution_count": 48,
   "metadata": {
    "cell_id": "5c58e49d40e646968765137427b9cfd4",
    "deepnote_cell_type": "code",
    "execution_context_id": "7f5673bf-8344-43a3-881f-6dc18cb8328f",
    "execution_millis": 17274,
    "execution_start": 1732647261360,
    "source_hash": "77b97243"
   },
   "outputs": [],
   "source": [
    "scores = {}\n",
    "for name in models:\n",
    "  scores[name]={}\n",
    "  for scorer in ['precision','recall']:\n",
    "    scores[name][scorer] = cross_val_score(models[name], x_train, y_train, cv=10, scoring=scorer)"
   ]
  },
  {
   "cell_type": "code",
   "execution_count": 49,
   "metadata": {
    "cell_id": "9379081549a3415ea4d73c7d24757dee",
    "deepnote_cell_type": "code",
    "execution_context_id": "7f5673bf-8344-43a3-881f-6dc18cb8328f",
    "execution_millis": 0,
    "execution_start": 1732647298040,
    "source_hash": "3ede45e5"
   },
   "outputs": [
    {
     "name": "stdout",
     "output_type": "stream",
     "text": [
      "*************** KNeighborsClassifier Model Validation ***************\n",
      "Mean precision: \n",
      " 98.39 % +- 0.41\n",
      "\n",
      "Mean recall: \n",
      " 98.3 % +- 0.44\n",
      "\n",
      "**************** LogisticRegression Model Validation ****************\n",
      "Mean precision: \n",
      " 93.57 % +- 0.63\n",
      "\n",
      "Mean recall: \n",
      " 95.64 % +- 0.6\n",
      "\n",
      "************** DecisionTreeClassifier Model Validation **************\n",
      "Mean precision: \n",
      " 99.43 % +- 0.25\n",
      "\n",
      "Mean recall: \n",
      " 99.47 % +- 0.26\n",
      "\n"
     ]
    }
   ],
   "source": [
    "def line(name):\n",
    "  return '*'*(25-len(name)//2)\n",
    "\n",
    "for name in models:\n",
    "  print(line(name), name, 'Model Validation', line(name))\n",
    "\n",
    "  for scorer in ['precision','recall']:\n",
    "    mean = round(np.mean(scores[name][scorer])*100,2)\n",
    "    stdev = round(np.std(scores[name][scorer])*100,2)\n",
    "    print (\"Mean {}:\".format(scorer),\"\\n\", mean,\"%\", \"+-\",stdev)\n",
    "    print()"
   ]
  },
  {
   "cell_type": "code",
   "execution_count": 50,
   "metadata": {
    "cell_id": "daecba6d770f45f29c2476d99037f5a1",
    "deepnote_cell_type": "code",
    "execution_context_id": "7f5673bf-8344-43a3-881f-6dc18cb8328f",
    "execution_millis": 3,
    "execution_start": 1732647326920,
    "source_hash": "346cae3"
   },
   "outputs": [
    {
     "name": "stderr",
     "output_type": "stream",
     "text": [
      "/tmp/ipykernel_204/4032185438.py:4: FutureWarning: 'DataFrame.swapaxes' is deprecated and will be removed in a future version. Please use 'DataFrame.transpose' instead.\n",
      "  scores=pd.DataFrame(scores).swapaxes(\"index\", \"columns\")*100\n"
     ]
    },
    {
     "data": {
      "text/plain": [
       "<AxesSubplot: >"
      ]
     },
     "execution_count": 50,
     "metadata": {},
     "output_type": "execute_result"
    },
    {
     "data": {
      "image/png": "[encoded data removed]",
      "text/plain": [
       "<Figure size 2400x600 with 1 Axes>"
      ]
     },
     "metadata": {
      "image/png": {
       "height": 511,
       "width": 1929
      }
     },
     "output_type": "display_data"
    }
   ],
   "source": [
    "\n",
    "for name in models:\n",
    "    for scorer in ['precision','recall']:\n",
    "        scores[name][scorer] = scores[name][scorer].mean()\n",
    "scores=pd.DataFrame(scores).swapaxes(\"index\", \"columns\")*100\n",
    "scores.plot(kind = \"bar\",  ylim=[80,100], figsize=(24,6), rot=0)"
   ]
  },
  {
   "cell_type": "code",
   "execution_count": 52,
   "metadata": {
    "cell_id": "2e1cc898dcfa44e68d7340bb0dc72c6a",
    "deepnote_cell_type": "code",
    "execution_context_id": "7f5673bf-8344-43a3-881f-6dc18cb8328f",
    "execution_millis": 0,
    "execution_start": 1732647401688,
    "source_hash": "4ee50b29"
   },
   "outputs": [
    {
     "name": "stdout",
     "output_type": "stream",
     "text": [
      "Predection completed\n"
     ]
    }
   ],
   "source": [
    "\n",
    "models = {}\n",
    "models['KNeighborsClassifier']= knn\n",
    "models['LogisticRegression']= lr\n",
    "models['DecisionTreeClassifier']= dtc"
   ]
  },
  {
   "cell_type": "code",
   "execution_count": 55,
   "metadata": {
    "cell_id": "36d6550da9f54d3f9cec93bd6bb80b42",
    "deepnote_cell_type": "code",
    "execution_context_id": "7f5673bf-8344-43a3-881f-6dc18cb8328f",
    "execution_millis": 1384,
    "execution_start": 1732647459800,
    "source_hash": "a72d8373"
   },
   "outputs": [
    {
     "name": "stdout",
     "output_type": "stream",
     "text": [
      "Predictions complete.\n"
     ]
    }
   ],
   "source": [
    "preds={}\n",
    "for name in models:\n",
    "    models[name].fit(x_train, y_train)\n",
    "    preds[name] = models[name].predict(x_test)\n",
    "print(\"Predictions complete.\")"
   ]
  },
  {
   "cell_type": "code",
   "execution_count": 56,
   "metadata": {
    "cell_id": "6623bf5be41d4f1cb6fbb88dbd70ba1c",
    "deepnote_cell_type": "code",
    "execution_context_id": "7f5673bf-8344-43a3-881f-6dc18cb8328f",
    "execution_millis": 73,
    "execution_start": 1732647466190,
    "source_hash": "db00b683"
   },
   "outputs": [
    {
     "name": "stdout",
     "output_type": "stream",
     "text": [
      "*************** KNeighborsClassifier Model Testing ***************\n",
      "[[3423   75]\n",
      " [  57 4003]]\n",
      "---------------\n",
      "              precision    recall  f1-score   support\n",
      "\n",
      "      normal       0.98      0.98      0.98      3498\n",
      "     anamoly       0.98      0.99      0.98      4060\n",
      "\n",
      "    accuracy                           0.98      7558\n",
      "   macro avg       0.98      0.98      0.98      7558\n",
      "weighted avg       0.98      0.98      0.98      7558\n",
      "\n",
      "**************** LogisticRegression Model Testing ****************\n",
      "[[3224  274]\n",
      " [ 188 3872]]\n",
      "----------------\n",
      "              precision    recall  f1-score   support\n",
      "\n",
      "      normal       0.94      0.92      0.93      3498\n",
      "     anamoly       0.93      0.95      0.94      4060\n",
      "\n",
      "    accuracy                           0.94      7558\n",
      "   macro avg       0.94      0.94      0.94      7558\n",
      "weighted avg       0.94      0.94      0.94      7558\n",
      "\n",
      "************** DecisionTreeClassifier Model Testing **************\n",
      "[[3477   21]\n",
      " [  19 4041]]\n",
      "--------------\n",
      "              precision    recall  f1-score   support\n",
      "\n",
      "      normal       0.99      0.99      0.99      3498\n",
      "     anamoly       0.99      1.00      1.00      4060\n",
      "\n",
      "    accuracy                           0.99      7558\n",
      "   macro avg       0.99      0.99      0.99      7558\n",
      "weighted avg       0.99      0.99      0.99      7558\n",
      "\n"
     ]
    }
   ],
   "source": [
    "from sklearn.metrics import confusion_matrix, classification_report, f1_score\n",
    "def line(name,sym=\"*\"):\n",
    "    return sym*(25-len(name)//2)\n",
    "target_names=[\"normal\",\"anamoly\"]\n",
    "for name in models:\n",
    "    print(line(name), name, 'Model Testing', line(name))\n",
    "    print(confusion_matrix(y_test, preds[name]))\n",
    "    print(line(name,'-'))\n",
    "    print(classification_report(y_test, preds[name], target_names=target_names))"
   ]
  },
  {
   "cell_type": "code",
   "execution_count": 57,
   "metadata": {
    "cell_id": "9231e529f6404a4693bc998e6b9b9607",
    "deepnote_cell_type": "code",
    "execution_context_id": "7f5673bf-8344-43a3-881f-6dc18cb8328f",
    "execution_millis": 64,
    "execution_start": 1732647499488,
    "source_hash": "c64c104e"
   },
   "outputs": [
    {
     "data": {
      "text/plain": [
       "<AxesSubplot: >"
      ]
     },
     "execution_count": 57,
     "metadata": {},
     "output_type": "execute_result"
    },
    {
     "data": {
      "image/png": "[encoded data removed]",
      "text/plain": [
       "<Figure size 1000x600 with 1 Axes>"
      ]
     },
     "metadata": {
      "image/png": {
       "height": 511,
       "width": 844
      }
     },
     "output_type": "display_data"
    }
   ],
   "source": [
    "f1s = {}\n",
    "for name in models:\n",
    "    f1s[name]=f1_score(y_test, preds[name])\n",
    "f1s=pd.DataFrame(f1s.values(),index=f1s.keys(),columns=[\"F1-score\"])*100\n",
    "f1s.plot(kind = \"bar\",  ylim=[80,100], figsize=(10,6), rot=0)"
   ]
  },
  {
   "cell_type": "markdown",
   "metadata": {
    "created_in_deepnote_cell": true,
    "deepnote_cell_type": "markdown"
   },
   "source": [
    "<a style='text-decoration:none;line-height:16px;display:flex;color:#5B5B62;padding:10px;justify-content:end;' href='https://deepnote.com?utm_source=created-in-deepnote-cell&projectId=ef3b86d3-0947-4ed5-a1e1-4cf37892b342' target=\"_blank\">\n",
    "<img alt='Created in deepnote.com' style='display:inline;max-height:16px;margin:0px;margin-right:7.5px;' src='data:image/svg+xml;base64,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' > </img>\n",
    "Created in <span style='font-weight:600;margin-left:4px;'>Deepnote</span></a>"
   ]
  }
 ],
 "metadata": {
  "deepnote_notebook_id": "6158c02ed8ad4f658efb463d440fa8c7",
  "deepnote_persisted_session": {
   "createdAt": "2024-11-26T17:50:23.849Z"
  },
  "language_info": {
   "name": "python"
  }
 },
 "nbformat": 4,
 "nbformat_minor": 0
}
